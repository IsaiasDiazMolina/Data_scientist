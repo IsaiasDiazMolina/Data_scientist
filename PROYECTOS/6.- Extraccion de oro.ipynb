{
 "cells": [
  {
   "cell_type": "markdown",
   "metadata": {},
   "source": [
    "## Introduccion\n",
    "\n",
    "En este proyecto queremos preparar un  prototipo de un modelo de ML para Zyfra. La empresa desarrolla soluciones de eficiencia para la industria pesada. El modelo debe predecir la cantidad de oro extraído del mineral de oro. Disponemos de los datos de extracción y purificación, aunque estos pueden tener algunos problemas. Es por esto que uno de nuestros primeros pasos será verificar si estos son correctos al comprobar si el cálculo de la recuperación es correcto.\n",
    "\n",
    "Luego analizaremos los datos y veremos como cambian las concentraciones de los metales (Au, Ag, Pb) en función de la etapa de purificación.\n",
    "\n",
    "Finalmente, construiremos y entrenaremos nuestros modelos. Se compararán diferentes modelos y se evaluarán utilizando la validación cruzada, para luego testear el mejor de estos con la muestra de prueba.\n",
    "\n",
    "- Objetivos\n",
    "\n",
    "1. Comprobar y preparar los datos.\n",
    "2. Analizar los datos.\n",
    "3. Desarrollar un modelo que prediga la cantidad de oro extraído del mineral de oro."
   ]
  },
  {
   "cell_type": "markdown",
   "metadata": {},
   "source": [
    "## Importamos librerias."
   ]
  },
  {
   "cell_type": "code",
   "execution_count": 1,
   "metadata": {},
   "outputs": [],
   "source": [
    "import pandas as pd\n",
    "import numpy as np\n",
    "import matplotlib.pyplot as plt\n",
    "import math\n",
    "\n",
    "from numpy.random import RandomState\n",
    "\n",
    "from sklearn.dummy import DummyRegressor\n",
    "\n",
    "from sklearn.metrics import accuracy_score\n",
    "from sklearn.metrics import recall_score\n",
    "from sklearn.metrics import roc_auc_score\n",
    "from sklearn.metrics import roc_curve \n",
    "from sklearn.metrics import mean_squared_error\n",
    "from sklearn.metrics import mean_absolute_error\n",
    "from sklearn.metrics import f1_score\n",
    "from sklearn.metrics import make_scorer\n",
    "\n",
    "from sklearn.multioutput import MultiOutputRegressor\n",
    "\n",
    "from sklearn.model_selection import cross_val_score, cross_validate, train_test_split\n",
    "\n",
    "from sklearn.linear_model import Ridge\n",
    "from sklearn.tree import DecisionTreeRegressor\n",
    "from sklearn.ensemble import RandomForestRegressor\n",
    "from sklearn.linear_model import LinearRegression"
   ]
  },
  {
   "cell_type": "markdown",
   "metadata": {},
   "source": [
    "## Cargamos datos."
   ]
  },
  {
   "cell_type": "code",
   "execution_count": 2,
   "metadata": {},
   "outputs": [],
   "source": [
    "# Cargamos DataFrames\n",
    "df_train = pd.read_csv('/datasets/gold_recovery_train.csv')\n",
    "df_test = pd.read_csv('/datasets/gold_recovery_test.csv')\n",
    "df_full = pd.read_csv('/datasets/gold_recovery_full.csv')"
   ]
  },
  {
   "cell_type": "code",
   "execution_count": 3,
   "metadata": {},
   "outputs": [
    {
     "data": {
      "text/plain": [
       "(16860, 87)"
      ]
     },
     "execution_count": 3,
     "metadata": {},
     "output_type": "execute_result"
    }
   ],
   "source": [
    "# Revisamos el tamaño de los DataFrames.\n",
    "df_train.shape"
   ]
  },
  {
   "cell_type": "code",
   "execution_count": 4,
   "metadata": {},
   "outputs": [
    {
     "data": {
      "text/plain": [
       "(5856, 53)"
      ]
     },
     "execution_count": 4,
     "metadata": {},
     "output_type": "execute_result"
    }
   ],
   "source": [
    "df_test.shape"
   ]
  },
  {
   "cell_type": "code",
   "execution_count": 5,
   "metadata": {},
   "outputs": [
    {
     "data": {
      "text/plain": [
       "(22716, 87)"
      ]
     },
     "execution_count": 5,
     "metadata": {},
     "output_type": "execute_result"
    }
   ],
   "source": [
    "df_full.shape"
   ]
  },
  {
   "cell_type": "code",
   "execution_count": 6,
   "metadata": {},
   "outputs": [
    {
     "data": {
      "text/plain": [
       "22716"
      ]
     },
     "execution_count": 6,
     "metadata": {},
     "output_type": "execute_result"
    }
   ],
   "source": [
    "# Revisamos que el tamaño de los DataFrames train y test correspondan al full.\n",
    "len(df_test)+len(df_train)"
   ]
  },
  {
   "cell_type": "markdown",
   "metadata": {},
   "source": [
    "Vemos que el dataframe de prueba tiene menos columnas que los otros por lo tanto vamos a revisar cuales columnas no contiene ya que pueden ser columnas que necesitemos para el analisis."
   ]
  },
  {
   "cell_type": "code",
   "execution_count": 7,
   "metadata": {
    "scrolled": true
   },
   "outputs": [
    {
     "name": "stdout",
     "output_type": "stream",
     "text": [
      "34\n"
     ]
    },
    {
     "data": {
      "text/plain": [
       "Index(['final.output.concentrate_ag', 'final.output.concentrate_pb',\n",
       "       'final.output.concentrate_sol', 'final.output.concentrate_au',\n",
       "       'final.output.recovery', 'final.output.tail_ag', 'final.output.tail_pb',\n",
       "       'final.output.tail_sol', 'final.output.tail_au',\n",
       "       'primary_cleaner.output.concentrate_ag',\n",
       "       'primary_cleaner.output.concentrate_pb',\n",
       "       'primary_cleaner.output.concentrate_sol',\n",
       "       'primary_cleaner.output.concentrate_au',\n",
       "       'primary_cleaner.output.tail_ag', 'primary_cleaner.output.tail_pb',\n",
       "       'primary_cleaner.output.tail_sol', 'primary_cleaner.output.tail_au',\n",
       "       'rougher.calculation.sulfate_to_au_concentrate',\n",
       "       'rougher.calculation.floatbank10_sulfate_to_au_feed',\n",
       "       'rougher.calculation.floatbank11_sulfate_to_au_feed',\n",
       "       'rougher.calculation.au_pb_ratio', 'rougher.output.concentrate_ag',\n",
       "       'rougher.output.concentrate_pb', 'rougher.output.concentrate_sol',\n",
       "       'rougher.output.concentrate_au', 'rougher.output.recovery',\n",
       "       'rougher.output.tail_ag', 'rougher.output.tail_pb',\n",
       "       'rougher.output.tail_sol', 'rougher.output.tail_au',\n",
       "       'secondary_cleaner.output.tail_ag', 'secondary_cleaner.output.tail_pb',\n",
       "       'secondary_cleaner.output.tail_sol',\n",
       "       'secondary_cleaner.output.tail_au'],\n",
       "      dtype='object')"
      ]
     },
     "execution_count": 7,
     "metadata": {},
     "output_type": "execute_result"
    }
   ],
   "source": [
    "columns_train = df_train.columns\n",
    "columns_test = df_test.columns\n",
    "\n",
    "columns_rest = columns_train.drop(columns_test)\n",
    "\n",
    "print(len(columns_rest))\n",
    "columns_rest"
   ]
  },
  {
   "cell_type": "markdown",
   "metadata": {},
   "source": [
    "Las columnas que nos faltan en el dataframe de testeo son las columnas de `output` que nuestro modelo tendrá que predecir. Para testear nuestros modelos podremos encontrar estos objetivos en `df_full`. En una sección siguiente extraeremos y crearemos nuestros targets para la fase de testeo, también los necesitaremos para confirmar que los calculos de extractos se han hecho correctamente.\n",
    "\n",
    "Primero comprobaremos que el calculo de la recuperación de la característica `rougher.output.recovery` en nuestro conjunto de entrenamiento se ha hecho correctamente. Compararemos el resultado de nuestros calculos y la característica según la métrica EAM.\n",
    "\n",
    "Los datos que necesitamos para la metrica EAM son: \n",
    "- C — proporción de oro en el concentrado justo después de la flotación (para saber la recuperación del concentrado rougher)/después de la purificación (para saber la recuperación del concentrado final), correspondiente a la columna `rougher.output.concentrate_au`\n",
    "- F — la proporción de oro en la alimentación antes de la flotación (para saber la recuperación del concentrado rougher)/en el concentrado justo después de la flotación (para saber la recuperación del concentrado final), correspondiente a la columna `rougher.input.feed_au`\n",
    "- T — la proporción de oro en las colas rougher justo después de la flotación (para saber la recuperación del concentrado rougher)/después de la purificación (para saber la recuperación del concentrado final), correspondiente a la columna `rougher.output.tail_au`"
   ]
  },
  {
   "cell_type": "markdown",
   "metadata": {},
   "source": [
    "## Columna rougher.output.recovery"
   ]
  },
  {
   "cell_type": "code",
   "execution_count": 8,
   "metadata": {},
   "outputs": [
    {
     "data": {
      "text/plain": [
       "9.303415616264301e-15"
      ]
     },
     "execution_count": 8,
     "metadata": {},
     "output_type": "execute_result"
    }
   ],
   "source": [
    "# Numerador para nuestros calculos\n",
    "num = df_train['rougher.output.concentrate_au']*(df_train['rougher.input.feed_au']-df_train['rougher.output.tail_au'])\n",
    "\n",
    "# Denominador para nuestros calculos\n",
    "dem = df_train['rougher.input.feed_au']*(df_train['rougher.output.concentrate_au']-df_train['rougher.output.tail_au'])\n",
    "\n",
    "# Calculamos el EAM entre nuestro calculo y los resultados\n",
    "(df_train['rougher.output.recovery']- num/dem*100).abs().mean()"
   ]
  },
  {
   "cell_type": "markdown",
   "metadata": {},
   "source": [
    "Con un EAM tan bajo, podemos estar seguros de que los datos y resultados se encuentran correctos. Su pequeña diferencia con 0 puede deberse a algunos datos faltantes o vacios. Como se mencionó al momento de recibir los datos, algunos parámetros no están disponibles porque fueron calculados o medidos más tarde. El pequeño valor de EAM podría deberse a esos datos faltantes."
   ]
  },
  {
   "cell_type": "markdown",
   "metadata": {},
   "source": [
    "## Preprocesamiento de datos\n",
    "Aunque contamos con más de 80 columnas, veamos la cantidad de datos que tiene cada una. Aunque llenaremos `df_train` y `df_test`, veremos las filas de `df_full`, ya que cuenta con la totalidad de los datos."
   ]
  },
  {
   "cell_type": "code",
   "execution_count": 9,
   "metadata": {},
   "outputs": [
    {
     "name": "stdout",
     "output_type": "stream",
     "text": [
      "<class 'pandas.core.frame.DataFrame'>\n",
      "RangeIndex: 22716 entries, 0 to 22715\n",
      "Data columns (total 87 columns):\n",
      " #   Column                                              Non-Null Count  Dtype  \n",
      "---  ------                                              --------------  -----  \n",
      " 0   date                                                22716 non-null  object \n",
      " 1   final.output.concentrate_ag                         22627 non-null  float64\n",
      " 2   final.output.concentrate_pb                         22629 non-null  float64\n",
      " 3   final.output.concentrate_sol                        22331 non-null  float64\n",
      " 4   final.output.concentrate_au                         22630 non-null  float64\n",
      " 5   final.output.recovery                               20753 non-null  float64\n",
      " 6   final.output.tail_ag                                22633 non-null  float64\n",
      " 7   final.output.tail_pb                                22516 non-null  float64\n",
      " 8   final.output.tail_sol                               22445 non-null  float64\n",
      " 9   final.output.tail_au                                22635 non-null  float64\n",
      " 10  primary_cleaner.input.sulfate                       21107 non-null  float64\n",
      " 11  primary_cleaner.input.depressant                    21170 non-null  float64\n",
      " 12  primary_cleaner.input.feed_size                     22716 non-null  float64\n",
      " 13  primary_cleaner.input.xanthate                      21565 non-null  float64\n",
      " 14  primary_cleaner.output.concentrate_ag               22618 non-null  float64\n",
      " 15  primary_cleaner.output.concentrate_pb               22268 non-null  float64\n",
      " 16  primary_cleaner.output.concentrate_sol              21918 non-null  float64\n",
      " 17  primary_cleaner.output.concentrate_au               22618 non-null  float64\n",
      " 18  primary_cleaner.output.tail_ag                      22614 non-null  float64\n",
      " 19  primary_cleaner.output.tail_pb                      22594 non-null  float64\n",
      " 20  primary_cleaner.output.tail_sol                     22365 non-null  float64\n",
      " 21  primary_cleaner.output.tail_au                      22617 non-null  float64\n",
      " 22  primary_cleaner.state.floatbank8_a_air              22660 non-null  float64\n",
      " 23  primary_cleaner.state.floatbank8_a_level            22667 non-null  float64\n",
      " 24  primary_cleaner.state.floatbank8_b_air              22660 non-null  float64\n",
      " 25  primary_cleaner.state.floatbank8_b_level            22673 non-null  float64\n",
      " 26  primary_cleaner.state.floatbank8_c_air              22662 non-null  float64\n",
      " 27  primary_cleaner.state.floatbank8_c_level            22673 non-null  float64\n",
      " 28  primary_cleaner.state.floatbank8_d_air              22661 non-null  float64\n",
      " 29  primary_cleaner.state.floatbank8_d_level            22673 non-null  float64\n",
      " 30  rougher.calculation.sulfate_to_au_concentrate       22672 non-null  float64\n",
      " 31  rougher.calculation.floatbank10_sulfate_to_au_feed  22672 non-null  float64\n",
      " 32  rougher.calculation.floatbank11_sulfate_to_au_feed  22672 non-null  float64\n",
      " 33  rougher.calculation.au_pb_ratio                     21089 non-null  float64\n",
      " 34  rougher.input.feed_ag                               22618 non-null  float64\n",
      " 35  rougher.input.feed_pb                               22472 non-null  float64\n",
      " 36  rougher.input.feed_rate                             22163 non-null  float64\n",
      " 37  rougher.input.feed_size                             22277 non-null  float64\n",
      " 38  rougher.input.feed_sol                              22357 non-null  float64\n",
      " 39  rougher.input.feed_au                               22617 non-null  float64\n",
      " 40  rougher.input.floatbank10_sulfate                   21415 non-null  float64\n",
      " 41  rougher.input.floatbank10_xanthate                  22247 non-null  float64\n",
      " 42  rougher.input.floatbank11_sulfate                   22038 non-null  float64\n",
      " 43  rougher.input.floatbank11_xanthate                  20459 non-null  float64\n",
      " 44  rougher.output.concentrate_ag                       22618 non-null  float64\n",
      " 45  rougher.output.concentrate_pb                       22618 non-null  float64\n",
      " 46  rougher.output.concentrate_sol                      22526 non-null  float64\n",
      " 47  rougher.output.concentrate_au                       22618 non-null  float64\n",
      " 48  rougher.output.recovery                             19597 non-null  float64\n",
      " 49  rougher.output.tail_ag                              19979 non-null  float64\n",
      " 50  rougher.output.tail_pb                              22618 non-null  float64\n",
      " 51  rougher.output.tail_sol                             19980 non-null  float64\n",
      " 52  rougher.output.tail_au                              19980 non-null  float64\n",
      " 53  rougher.state.floatbank10_a_air                     22646 non-null  float64\n",
      " 54  rougher.state.floatbank10_a_level                   22647 non-null  float64\n",
      " 55  rougher.state.floatbank10_b_air                     22646 non-null  float64\n",
      " 56  rougher.state.floatbank10_b_level                   22647 non-null  float64\n",
      " 57  rougher.state.floatbank10_c_air                     22646 non-null  float64\n",
      " 58  rougher.state.floatbank10_c_level                   22654 non-null  float64\n",
      " 59  rougher.state.floatbank10_d_air                     22641 non-null  float64\n",
      " 60  rougher.state.floatbank10_d_level                   22649 non-null  float64\n",
      " 61  rougher.state.floatbank10_e_air                     22096 non-null  float64\n",
      " 62  rougher.state.floatbank10_e_level                   22649 non-null  float64\n",
      " 63  rougher.state.floatbank10_f_air                     22641 non-null  float64\n",
      " 64  rougher.state.floatbank10_f_level                   22642 non-null  float64\n",
      " 65  secondary_cleaner.output.tail_ag                    22616 non-null  float64\n",
      " 66  secondary_cleaner.output.tail_pb                    22600 non-null  float64\n",
      " 67  secondary_cleaner.output.tail_sol                   20501 non-null  float64\n",
      " 68  secondary_cleaner.output.tail_au                    22618 non-null  float64\n",
      " 69  secondary_cleaner.state.floatbank2_a_air            22333 non-null  float64\n",
      " 70  secondary_cleaner.state.floatbank2_a_level          22591 non-null  float64\n",
      " 71  secondary_cleaner.state.floatbank2_b_air            22538 non-null  float64\n",
      " 72  secondary_cleaner.state.floatbank2_b_level          22588 non-null  float64\n",
      " 73  secondary_cleaner.state.floatbank3_a_air            22585 non-null  float64\n",
      " 74  secondary_cleaner.state.floatbank3_a_level          22587 non-null  float64\n",
      " 75  secondary_cleaner.state.floatbank3_b_air            22592 non-null  float64\n",
      " 76  secondary_cleaner.state.floatbank3_b_level          22590 non-null  float64\n",
      " 77  secondary_cleaner.state.floatbank4_a_air            22571 non-null  float64\n",
      " 78  secondary_cleaner.state.floatbank4_a_level          22587 non-null  float64\n",
      " 79  secondary_cleaner.state.floatbank4_b_air            22608 non-null  float64\n",
      " 80  secondary_cleaner.state.floatbank4_b_level          22607 non-null  float64\n",
      " 81  secondary_cleaner.state.floatbank5_a_air            22615 non-null  float64\n",
      " 82  secondary_cleaner.state.floatbank5_a_level          22615 non-null  float64\n",
      " 83  secondary_cleaner.state.floatbank5_b_air            22615 non-null  float64\n",
      " 84  secondary_cleaner.state.floatbank5_b_level          22616 non-null  float64\n",
      " 85  secondary_cleaner.state.floatbank6_a_air            22597 non-null  float64\n",
      " 86  secondary_cleaner.state.floatbank6_a_level          22615 non-null  float64\n",
      "dtypes: float64(86), object(1)\n",
      "memory usage: 15.1+ MB\n"
     ]
    }
   ],
   "source": [
    "df_full.info()"
   ]
  },
  {
   "cell_type": "markdown",
   "metadata": {},
   "source": [
    "Podemos ver que todas las columnas cuentan con valores faltantes, escepto por `primary_cleaner.input.feed_size` y `date`. Veremos en mayor detalle esta primera columna para ver como se distribuyen los datos."
   ]
  },
  {
   "cell_type": "code",
   "execution_count": 10,
   "metadata": {},
   "outputs": [
    {
     "data": {
      "text/plain": [
       "count    22716.000000\n",
       "mean         7.288872\n",
       "std          0.617357\n",
       "min          1.080000\n",
       "25%          6.920000\n",
       "50%          7.280000\n",
       "75%          7.680000\n",
       "max         15.500000\n",
       "Name: primary_cleaner.input.feed_size, dtype: float64"
      ]
     },
     "execution_count": 10,
     "metadata": {},
     "output_type": "execute_result"
    }
   ],
   "source": [
    "df_full['primary_cleaner.input.feed_size'].describe()"
   ]
  },
  {
   "cell_type": "markdown",
   "metadata": {},
   "source": [
    "Los valores de media y mediana son casi iguales, por lo menos en esta columna, los datos parecen bien equilibrados. Para asegurarnos, veamos las columnas de `output`, pues estas seran de gran importancia al momento de crear nuestros modelos."
   ]
  },
  {
   "cell_type": "code",
   "execution_count": 11,
   "metadata": {},
   "outputs": [
    {
     "data": {
      "image/png": "[encoded data removed]",
      "text/plain": [
       "<Figure size 1440x1080 with 1 Axes>"
      ]
     },
     "metadata": {
      "needs_background": "light"
     },
     "output_type": "display_data"
    }
   ],
   "source": [
    "df_full.boxplot(['rougher.output.concentrate_au', 'rougher.output.concentrate_pb', 'rougher.output.concentrate_ag', 'primary_cleaner.output.concentrate_au', 'primary_cleaner.output.concentrate_pb', 'primary_cleaner.output.concentrate_ag', 'final.output.concentrate_au', 'final.output.concentrate_pb', 'final.output.concentrate_ag'],figsize=(20,15), vert=False)\n",
    "plt.xticks(np.arange(0, 55, 2.0))\n",
    "# Promedio de Rougher del oro en rojo\n",
    "plt.vlines(df_full['rougher.output.concentrate_au'].mean(),ymin=0.5,ymax=3.5, colors='red')\n",
    "# Promedio de la purificación primaria del oro en naranja\n",
    "plt.vlines(df_full['primary_cleaner.output.concentrate_au'].mean(),ymin=3.5,ymax=6.5, colors='orange')\n",
    "# Promedio de la purificación secundaria del oro en verde\n",
    "plt.vlines(df_full['final.output.concentrate_au'].mean(),ymin=6.5,ymax=9.5, colors='green')\n",
    "plt.show()"
   ]
  },
  {
   "cell_type": "markdown",
   "metadata": {},
   "source": [
    "Existe un claro sesgo con algunos valores bajo la norma. Podríamos eliminar las filas con datos vacíos, pero esto nos haría eliminar más del 10% de los datos totales, demasiada información se perdería. Será mejor llenar los datos vacíos según el comportamiento de los datos en el tiempo. Aprovecharemos que los datos se encuentran ordenados por las fechas y utilizaremos el método `ffill` para que cada dato se llene según el dato anterior en el tiempo."
   ]
  },
  {
   "cell_type": "code",
   "execution_count": 12,
   "metadata": {},
   "outputs": [],
   "source": [
    "# Llenemos los sets de entrenamiento y testeo\n",
    "df_train = df_train.fillna(method='ffill') \n",
    "df_test = df_test.fillna(method='ffill') \n",
    "\n",
    "# Llenemos también el set completo\n",
    "df_full = df_full.fillna(method='ffill')"
   ]
  },
  {
   "cell_type": "markdown",
   "metadata": {},
   "source": [
    "## Análisis de los datos\n",
    "\n",
    "En esta sección realizaremos 3 actividades:\n",
    "1. En primer lugar veremos como cambia la concentración de metales (Au, Ag y Pb) en función de la etapa de purificación. Recordemos que el proceso industrial contiene 2 etapas de purificación, por lo que deberiamos ver un aumento en la pureza de los productos. Ya que se busca extraer oro, la cantidad de este metal debería ir en aumento al avanzar por las etapas de purificación. \n",
    "2. Compararemos las distribuciones del tamaño de las partículas de la alimentación en el conjunto de entrenamiento y en el conjunto de prueba. Si es que estas distribuciones varían significativamente, la evaluación del modelo no será correcta.\n",
    "3. Consideraremos las concentraciones totales de todas las sustancias en las diferentes etapas: materia prima, concentrado rougher y concentrado final. Luego responderemos las siguientes preguntas:\n",
    "    - ¿Se observa algún valor anormal en la distribución total?\n",
    "    - Si es así, ¿Merece la pena eliminar estos valores de ambas muestras?\n",
    "    \n",
    "\n",
    "\n",
    "Comencemos viendo las concentraciones de cada metal. Los datos se encuentran ordenados según la etapa, tipo de parámetro y nombre del parámetro, por lo que necesitamos:\n",
    "- Etapa: primary_cleaner/secondary_cleaner y final\n",
    "- Tipo de parámetro: output\n",
    "- Nombre del parámetro: concentrate_au/tail_au ; concentrate_ag/tail_ag ; concentrate_pb/tail_pb\n",
    "\n",
    "El concentrado rougher se somete a dos etapas de purificación. Luego de esto, tenemos el concentrado final y las nuevas colas. Esto significa que para cada metal tendremos 4 medidas, siendo el concentrado y la cola de cada proceso de purificación. Como las colas de cada proceso son mucho menores que los concentrados, solo consideraremos los concentrados de cada metal."
   ]
  },
  {
   "cell_type": "markdown",
   "metadata": {},
   "source": [
    "### Oro: Au\n",
    "Primero veamos las concentraciones de oro."
   ]
  },
  {
   "cell_type": "code",
   "execution_count": 13,
   "metadata": {
    "scrolled": true
   },
   "outputs": [
    {
     "data": {
      "image/png": "[encoded data removed]",
      "text/plain": [
       "<Figure size 1224x504 with 1 Axes>"
      ]
     },
     "metadata": {
      "needs_background": "light"
     },
     "output_type": "display_data"
    }
   ],
   "source": [
    "df_full.boxplot(['rougher.input.feed_au', 'rougher.output.concentrate_au', 'primary_cleaner.output.concentrate_au', 'final.output.concentrate_au'],figsize=(17,7))\n",
    "plt.show()"
   ]
  },
  {
   "cell_type": "markdown",
   "metadata": {},
   "source": [
    "Con el paso de cada etapa, las cantidades de oro van aumentando. Esto tiene sentido, pues el objetivo de este proceso es la obtención de oro."
   ]
  },
  {
   "cell_type": "markdown",
   "metadata": {},
   "source": [
    "### Plata: Ag"
   ]
  },
  {
   "cell_type": "code",
   "execution_count": 14,
   "metadata": {
    "scrolled": true
   },
   "outputs": [
    {
     "data": {
      "image/png": "[encoded data removed]",
      "text/plain": [
       "<Figure size 1224x504 with 1 Axes>"
      ]
     },
     "metadata": {
      "needs_background": "light"
     },
     "output_type": "display_data"
    }
   ],
   "source": [
    "df_full.boxplot(['rougher.input.feed_ag', 'rougher.output.concentrate_ag', 'primary_cleaner.output.concentrate_ag', 'final.output.concentrate_ag'],figsize=(17,7))\n",
    "plt.show()"
   ]
  },
  {
   "cell_type": "markdown",
   "metadata": {},
   "source": [
    "La salida de rougher es el momento con mayor cantidad plata. Probablemente esto se deba a las diferencias de la densidad del oro y la plata, con la plata teniendo casi la mitad de la densidad de contraparte."
   ]
  },
  {
   "cell_type": "markdown",
   "metadata": {},
   "source": [
    "### Plomo: Pb"
   ]
  },
  {
   "cell_type": "code",
   "execution_count": 15,
   "metadata": {
    "scrolled": true
   },
   "outputs": [
    {
     "data": {
      "image/png": "[encoded data removed]",
      "text/plain": [
       "<Figure size 1224x504 with 1 Axes>"
      ]
     },
     "metadata": {
      "needs_background": "light"
     },
     "output_type": "display_data"
    }
   ],
   "source": [
    "df_full.boxplot(['rougher.input.feed_pb', 'rougher.output.concentrate_pb', 'primary_cleaner.output.concentrate_pb', 'final.output.concentrate_pb'],figsize=(17,7))\n",
    "plt.show()"
   ]
  },
  {
   "cell_type": "markdown",
   "metadata": {},
   "source": [
    "Al igual que con el oro, la cantidad de plomo va aumentando al pasar las etapas, excepto en la última filtración donde parece encontrarse en cantidades más parejas."
   ]
  },
  {
   "cell_type": "markdown",
   "metadata": {},
   "source": [
    "## Distribuciones de alimentación\n",
    "En esta sección compararemos las distribuciones del tamaño de las partículas (`feed_size`) en el conjunto de entrenamiento y de testeo. Consideraremos que existe una alimentación inicial en la etapa rougher y otra al comenzar el proceso de limpieza."
   ]
  },
  {
   "cell_type": "markdown",
   "metadata": {},
   "source": [
    "### Columna 'rougher.input.feed_size'"
   ]
  },
  {
   "cell_type": "markdown",
   "metadata": {},
   "source": [
    "<div class=\"alert alert-block alert-info\">\n",
    "<b>Aqui estan los dos histogramas uno de cada DataFrame.</b> <a class=\"tocSkip\"></a>\n",
    "</div>"
   ]
  },
  {
   "cell_type": "code",
   "execution_count": 16,
   "metadata": {},
   "outputs": [
    {
     "data": {
      "image/png": "[encoded data removed]",
      "text/plain": [
       "<Figure size 1224x504 with 1 Axes>"
      ]
     },
     "metadata": {
      "needs_background": "light"
     },
     "output_type": "display_data"
    }
   ],
   "source": [
    "plt.figure(figsize=(17,7))\n",
    "plt.hist(df_train['rougher.input.feed_size'],bins = 20)\n",
    "plt.hist(df_test['rougher.input.feed_size'], bins = 20, alpha = .9)\n",
    "plt.show()"
   ]
  },
  {
   "cell_type": "code",
   "execution_count": 17,
   "metadata": {
    "scrolled": true
   },
   "outputs": [
    {
     "data": {
      "text/plain": [
       "count    16860.000000\n",
       "mean        60.188595\n",
       "std         30.522242\n",
       "min          9.659576\n",
       "25%         47.548897\n",
       "50%         54.066003\n",
       "75%         65.397249\n",
       "max        484.967466\n",
       "Name: rougher.input.feed_size, dtype: float64"
      ]
     },
     "execution_count": 17,
     "metadata": {},
     "output_type": "execute_result"
    }
   ],
   "source": [
    "df_train['rougher.input.feed_size'].describe()"
   ]
  },
  {
   "cell_type": "code",
   "execution_count": 18,
   "metadata": {
    "scrolled": false
   },
   "outputs": [
    {
     "data": {
      "text/plain": [
       "count    5856.000000\n",
       "mean       55.898866\n",
       "std        22.707969\n",
       "min         0.046369\n",
       "25%        43.852884\n",
       "50%        49.964796\n",
       "75%        61.628003\n",
       "max       477.445473\n",
       "Name: rougher.input.feed_size, dtype: float64"
      ]
     },
     "execution_count": 18,
     "metadata": {},
     "output_type": "execute_result"
    }
   ],
   "source": [
    "df_test['rougher.input.feed_size'].describe()"
   ]
  },
  {
   "cell_type": "markdown",
   "metadata": {},
   "source": [
    "### Columna 'primary_cleaner.input.feed_size'"
   ]
  },
  {
   "cell_type": "code",
   "execution_count": 19,
   "metadata": {},
   "outputs": [
    {
     "data": {
      "image/png": "[encoded data removed]",
      "text/plain": [
       "<Figure size 1224x504 with 1 Axes>"
      ]
     },
     "metadata": {
      "needs_background": "light"
     },
     "output_type": "display_data"
    }
   ],
   "source": [
    "plt.figure(figsize=(17,7))\n",
    "plt.hist(df_train['primary_cleaner.input.feed_size'], bins=20)\n",
    "plt.hist(df_test['primary_cleaner.input.feed_size'], bins = 20, alpha = .9)\n",
    "plt.show()"
   ]
  },
  {
   "cell_type": "code",
   "execution_count": 20,
   "metadata": {},
   "outputs": [
    {
     "data": {
      "text/plain": [
       "count    16860.000000\n",
       "mean         7.297285\n",
       "std          0.619166\n",
       "min          1.080000\n",
       "25%          6.940000\n",
       "50%          7.285000\n",
       "75%          7.700000\n",
       "max         10.470000\n",
       "Name: primary_cleaner.input.feed_size, dtype: float64"
      ]
     },
     "execution_count": 20,
     "metadata": {},
     "output_type": "execute_result"
    }
   ],
   "source": [
    "df_train['primary_cleaner.input.feed_size'].describe()"
   ]
  },
  {
   "cell_type": "code",
   "execution_count": 21,
   "metadata": {
    "scrolled": false
   },
   "outputs": [
    {
     "data": {
      "text/plain": [
       "count    5856.000000\n",
       "mean        7.264651\n",
       "std         0.611526\n",
       "min         5.650000\n",
       "25%         6.885625\n",
       "50%         7.259333\n",
       "75%         7.650000\n",
       "max        15.500000\n",
       "Name: primary_cleaner.input.feed_size, dtype: float64"
      ]
     },
     "execution_count": 21,
     "metadata": {},
     "output_type": "execute_result"
    }
   ],
   "source": [
    "df_test['primary_cleaner.input.feed_size'].describe()"
   ]
  },
  {
   "cell_type": "markdown",
   "metadata": {},
   "source": [
    "### Conclusion\n",
    "Podemos ver que las cantidades se mantienen bastante parejas para ambos sets de datos, mientras el primero contiene una cantidad mayor de datos atipicos el segundo aunque los contine son mucho menores siendo apenas visibles siguiendo este una distribucion mas normal que las primeras entradas.\n",
    "\n",
    "También podemos ver que las cantidades de entrada son mucho menores al momento de la primera limpieza despues del proceso rougher. Esto es de esperarse, pues la primera entrada contiene muchos otros elementos extraídos de la mineria que son eliminados en ese primer proceso rougher."
   ]
  },
  {
   "cell_type": "markdown",
   "metadata": {},
   "source": [
    "## Concentraciones totales en todas las etapas\n",
    "\n",
    "Comencemos esta sección recordando las preguntas que necesitamos responder:\n",
    "- ¿Se observa algún valor anormal en la distribución total?\n",
    "- Si es así, ¿Merece la pena eliminar estos valores de ambas muestras?\n",
    "\n",
    "Para esto nos fijaremos en las concentraciones de cada metal en cada etapa y los mediremos con una gráfica de caja y bigotes. Aunque veremos cada metal, solo eliminaremos los valores atípicos según la concentración de oro, al ser este el metal más importante y el objetivo del proceso de filtración.\n",
    "\n",
    "Aquí quedan las funciones que nos permitirán eliminar los datos atípicos:"
   ]
  },
  {
   "cell_type": "code",
   "execution_count": 22,
   "metadata": {},
   "outputs": [],
   "source": [
    "# Esta función nos permite encontrar el valor del bigote superior y la usaremos en la siguiente función\n",
    "def up_iqr_finder (data, column):\n",
    "    return data[column].quantile(0.75) + (data[column].quantile(0.75) - data[column].quantile(0.25))*1.5\n",
    "\n",
    "\n",
    "# Esta función nos permite encontrar el valor del bigote inferior y la usaremos en la siguiente función\n",
    "def down_iqr_finder (data, column):\n",
    "    return data[column].quantile(0.25) - (data[column].quantile(0.75) - data[column].quantile(0.25))*1.5\n",
    "\n",
    "\n",
    "# Esta función nos permitirá filtrar el dataset con los valores típicos que se encuentren dentro de los límites de los bigotes\n",
    "def iqr_limit (data, limit_up, limit_down, column):\n",
    "    data_set = data[(data[column]<=limit_up) & (data[column]>=limit_down)]\n",
    "    return data_set"
   ]
  },
  {
   "cell_type": "code",
   "execution_count": 23,
   "metadata": {},
   "outputs": [
    {
     "data": {
      "image/png": "[encoded data removed]",
      "text/plain": [
       "<Figure size 1224x504 with 1 Axes>"
      ]
     },
     "metadata": {
      "needs_background": "light"
     },
     "output_type": "display_data"
    }
   ],
   "source": [
    "# Juntemos las entradas del proceso Rougher\n",
    "df_train['rougher.input'] = df_train['rougher.input.feed_ag']+df_train['rougher.input.feed_au']+df_train['rougher.input.feed_pb']\n",
    "\n",
    "# Juntemos las salidas del proceso Rougher\n",
    "df_train['rougher.output'] = df_train['rougher.output.concentrate_au']+df_train['rougher.output.concentrate_pb']+df_train['rougher.output.concentrate_ag']+df_train['rougher.output.tail_ag']+df_train['rougher.output.tail_au']+df_train['rougher.output.tail_pb']\n",
    "\n",
    "# Juntemos las salidas del proceso final\n",
    "df_train['final.output'] = df_train['final.output.concentrate_au']+df_train['final.output.concentrate_ag']+df_train['final.output.concentrate_pb']+df_train['final.output.tail_au']+df_train['final.output.tail_ag']+df_train['final.output.tail_pb']\n",
    "\n",
    "# Grafiquemos\n",
    "df_train.boxplot(['rougher.input', 'rougher.output', 'final.output'], figsize = (17,7))\n",
    "plt.yticks(np.arange(0, 91, 5))\n",
    "# Promedio de las entradas del proceso Rougher en azul\n",
    "plt.hlines(df_train['rougher.input'].mean(),xmin=0.5,xmax=1.5, colors='blue')\n",
    "# Promedio de las salidas del proceso Rougher en naranja\n",
    "plt.hlines(df_train['rougher.output'].mean(),xmin=1.5,xmax=2.5, colors='orange')\n",
    "# Promedio de las salidas del proceso final en verde\n",
    "plt.hlines(df_train['final.output'].mean(),xmin=2.5,xmax=3.5, colors='green')\n",
    "plt.show()"
   ]
  },
  {
   "cell_type": "code",
   "execution_count": 24,
   "metadata": {},
   "outputs": [
    {
     "data": {
      "image/png": "[encoded data removed]",
      "text/plain": [
       "<Figure size 1224x504 with 1 Axes>"
      ]
     },
     "metadata": {
      "needs_background": "light"
     },
     "output_type": "display_data"
    }
   ],
   "source": [
    "plt.figure(figsize=(17,7))\n",
    "plt.hist(df_train['rougher.input'])\n",
    "plt.hist(df_train['rougher.output'], color = 'green')\n",
    "plt.hist(df_train['final.output'], color = 'orange')\n",
    "plt.show()"
   ]
  },
  {
   "cell_type": "markdown",
   "metadata": {},
   "source": [
    "Ya podemos responder la primera pregunta: ¿Se observa algún valor anormal en la distribución total?\n",
    "- Sí, contamos con varios valores fuera de la norma. En cada etapa estudiada tenemos valores extremos sobre y bajo los bigotes normales de nuestros datos. Además existe un importante grupo de datos cercanos a 0 en cada grupo.\n",
    "\n",
    "Luego pasamos a la siguiente pregunta: ¿Merece la pena eliminar estos valores de ambas muestras?\n",
    "- Sí, aunque eliminar todos los datos atípicos resultaría en una perdida muy grande de información. Nos concentraremos en `final.output` y `rougher.output` y eliminaremos las filas con datos atípicos según estas columnas. De ser necesario, se podrían limpiar otras columnas específicas."
   ]
  },
  {
   "cell_type": "markdown",
   "metadata": {},
   "source": [
    "### Eliminamos valores atipicos"
   ]
  },
  {
   "cell_type": "code",
   "execution_count": 25,
   "metadata": {},
   "outputs": [
    {
     "name": "stdout",
     "output_type": "stream",
     "text": [
      "Largo original: 16860\n",
      "Largo post limpieza: 13761\n"
     ]
    }
   ],
   "source": [
    "# Veamos el largo original del set de entrenamiento\n",
    "print('Largo original:', len(df_train))\n",
    "\n",
    "# Fijemos los limites de corte\n",
    "rougher_up = up_iqr_finder(df_train, 'rougher.output')\n",
    "rougher_down = down_iqr_finder(df_train, 'rougher.output')\n",
    "\n",
    "final_up = up_iqr_finder(df_train, 'final.output')\n",
    "final_down = down_iqr_finder(df_train, 'final.output')\n",
    "\n",
    "# Apliquemos la limpieza de datos atípicos\n",
    "df_train_clean = iqr_limit(df_train, rougher_up, rougher_down, 'rougher.output')\n",
    "df_train_clean = iqr_limit(df_train_clean, final_up, final_down, 'final.output')\n",
    "\n",
    "# Veamos el largo luego de la limpieza\n",
    "print('Largo post limpieza:', len(df_train_clean))"
   ]
  },
  {
   "cell_type": "markdown",
   "metadata": {},
   "source": [
    "Ahora con casi 20% menos de los datos, hemos eliminado los datos atípicos de nuestro set de entrenamiento. No podemos hacer lo mismo con nuestro set de testeo, pues a este le faltan las columnas que hemos estudiado en esta sección. Antes de continuar, volvamos a ver la distribución de los datos luego de la limpieza."
   ]
  },
  {
   "cell_type": "code",
   "execution_count": 26,
   "metadata": {},
   "outputs": [
    {
     "data": {
      "image/png": "[encoded data removed]",
      "text/plain": [
       "<Figure size 1224x504 with 1 Axes>"
      ]
     },
     "metadata": {
      "needs_background": "light"
     },
     "output_type": "display_data"
    }
   ],
   "source": [
    "# Grafiquemos\n",
    "df_train_clean.boxplot(['rougher.input', 'rougher.output', 'final.output'], figsize = (17,7))\n",
    "plt.yticks(np.arange(0, 91, 5))\n",
    "# Promedio de las entradas del proceso Rougher en azul\n",
    "plt.hlines(df_train_clean['rougher.input'].mean(),xmin=0.5,xmax=1.5, colors='blue')\n",
    "# Promedio de las salidas del proceso Rougher en naranja\n",
    "plt.hlines(df_train_clean['rougher.output'].mean(),xmin=1.5,xmax=2.5, colors='orange')\n",
    "# Promedio de las salidas del proceso final en verde\n",
    "plt.hlines(df_train_clean['final.output'].mean(),xmin=2.5,xmax=3.5, colors='green')\n",
    "plt.show()"
   ]
  },
  {
   "cell_type": "code",
   "execution_count": 27,
   "metadata": {
    "scrolled": false
   },
   "outputs": [
    {
     "data": {
      "image/png": "[encoded data removed]",
      "text/plain": [
       "<Figure size 1224x504 with 1 Axes>"
      ]
     },
     "metadata": {
      "needs_background": "light"
     },
     "output_type": "display_data"
    }
   ],
   "source": [
    "plt.figure(figsize=(17,7))\n",
    "plt.hist(df_train_clean['rougher.input'])\n",
    "plt.hist(df_train_clean['rougher.output'], color = 'green')\n",
    "plt.hist(df_train_clean['final.output'], color = 'orange')\n",
    "plt.show()"
   ]
  },
  {
   "cell_type": "markdown",
   "metadata": {},
   "source": [
    "Ahora si podemos ver que los datos se han vuelto parejos y se encuentran ubicados alrededor de la media y mediana en cada columna. "
   ]
  },
  {
   "cell_type": "markdown",
   "metadata": {},
   "source": [
    "## Features y Targets\n",
    "\n",
    "Antes de comenzar con los modelos, necesitamos realizar algunos pasos. Entre estos el primero será crear una semilla que nos ayude a mantener las pruebas estables."
   ]
  },
  {
   "cell_type": "code",
   "execution_count": 28,
   "metadata": {},
   "outputs": [],
   "source": [
    "rs = RandomState(54321) # Fijemos una semilla "
   ]
  },
  {
   "cell_type": "markdown",
   "metadata": {},
   "source": [
    "### Outputs para nuestro target de testeo\n",
    "\n",
    "El dataset fuente `df_full` cuenta con todas las características de ambos datasets parciales, `df_train` y `df_test`. La columna `date` se puede usar como indice, por lo que extraeremos las filas con las fechas de `df_test` y nos quedaremos con las columnas que nos faltan para tener nuestros targets de testeo para los modelos. Ya tenemos las columnas que necesitamos extraer en `columns_rest`."
   ]
  },
  {
   "cell_type": "code",
   "execution_count": 29,
   "metadata": {},
   "outputs": [
    {
     "name": "stdout",
     "output_type": "stream",
     "text": [
      "(5856, 2)\n"
     ]
    }
   ],
   "source": [
    "test_date = df_test['date'] # Obtenemos las fechas\n",
    "\n",
    "test_targets = df_full[df_full['date'].isin(test_date)] # Filtramos df_full segun las fechas de testeo\n",
    "\n",
    "test_targets = test_targets.loc[:,('rougher.output.recovery', 'final.output.recovery')] # Extraemos las columnas que necesitamos predecir\n",
    "\n",
    "print(test_targets.shape) # Comprobemos que contamos con todas las filas y columnas que necesitamos"
   ]
  },
  {
   "cell_type": "markdown",
   "metadata": {},
   "source": [
    "Ahora contamos con los targets de testeo. Solo nos queda crear crear los targets y features para el entrenamiento. Trabajaremos en los sets de entrenamiento y testeo, eliminando las columnas que no brindan información y confundirán al modelo predictivo."
   ]
  },
  {
   "cell_type": "markdown",
   "metadata": {},
   "source": [
    "### test_features"
   ]
  },
  {
   "cell_type": "code",
   "execution_count": 30,
   "metadata": {},
   "outputs": [
    {
     "data": {
      "text/plain": [
       "(5856, 84)"
      ]
     },
     "execution_count": 30,
     "metadata": {},
     "output_type": "execute_result"
    }
   ],
   "source": [
    "# Realizamos el mismo proceso que en la sección anterior\n",
    "test_features = df_full[df_full['date'].isin(test_date)]\n",
    "test_features = test_features.drop(['date', 'rougher.output.recovery', 'final.output.recovery'], axis=1)\n",
    "\n",
    "# Nuevamente comprobamos si contamos con las filas y columnas que necesitamos\n",
    "test_features.shape"
   ]
  },
  {
   "cell_type": "markdown",
   "metadata": {},
   "source": [
    "Con esto ya tenemos los targets y features para el testeo de nuestro modelo."
   ]
  },
  {
   "cell_type": "markdown",
   "metadata": {},
   "source": [
    "### train_features\n",
    "Ahora comenzamos con los datasets para el entrenamiento de nuestro modelo.\n"
   ]
  },
  {
   "cell_type": "code",
   "execution_count": 31,
   "metadata": {},
   "outputs": [
    {
     "data": {
      "text/plain": [
       "(13761, 84)"
      ]
     },
     "execution_count": 31,
     "metadata": {},
     "output_type": "execute_result"
    }
   ],
   "source": [
    "train_features = df_train_clean.drop(['date', 'rougher.output.recovery', 'final.output.recovery', 'rougher.input', 'rougher.output',\n",
    "                                     'final.output'], axis=1)\n",
    "\n",
    "train_features.shape"
   ]
  },
  {
   "cell_type": "markdown",
   "metadata": {},
   "source": [
    "### train_targets\n",
    "Repitiremos el proceso anterior, pero esta vez necesitamos las columnas con los targets para nuestro modelo, por lo que usaremos las columnas en `columns_rest`."
   ]
  },
  {
   "cell_type": "code",
   "execution_count": 32,
   "metadata": {},
   "outputs": [
    {
     "data": {
      "text/plain": [
       "(13761, 2)"
      ]
     },
     "execution_count": 32,
     "metadata": {},
     "output_type": "execute_result"
    }
   ],
   "source": [
    "train_targets = df_train_clean.loc[:,['rougher.output.recovery', 'final.output.recovery']]\n",
    "\n",
    "train_targets.shape"
   ]
  },
  {
   "cell_type": "markdown",
   "metadata": {},
   "source": [
    "## Función SMAPE"
   ]
  },
  {
   "cell_type": "code",
   "execution_count": 33,
   "metadata": {},
   "outputs": [],
   "source": [
    "def final_smape(target, prediction):\n",
    "    # Función interna\n",
    "    def smape(target,prediction):\n",
    "        smape = np.mean((np.abs(target - prediction)/((np.abs(target)+np.abs(prediction))/2))) * 100\n",
    "        return smape\n",
    "    \n",
    "    # Calculo de smape final para Rougher[0] y Final[1]\n",
    "    smape_rougher = smape(target.iloc[:,0], prediction[:,0]) \n",
    "    smape_final   = smape(target.iloc[:,1], prediction[:,1]) \n",
    "    final_smape   = (0.25 * smape_rougher) + (0.75 * smape_final)\n",
    "\n",
    "    return final_smape\n",
    "\n",
    "sMAPE_score = make_scorer(final_smape, greater_is_better = False)"
   ]
  },
  {
   "cell_type": "code",
   "execution_count": 34,
   "metadata": {},
   "outputs": [
    {
     "data": {
      "text/plain": [
       "<function __main__.final_smape(target, prediction)>"
      ]
     },
     "execution_count": 34,
     "metadata": {},
     "output_type": "execute_result"
    }
   ],
   "source": [
    "final_smape"
   ]
  },
  {
   "cell_type": "markdown",
   "metadata": {},
   "source": [
    "Con esta función podremos calcular el SMAPE final. También se hace bueno recordar que no necesitamos un modelo que pueda predecir todos los valores de los targets, sino solo la recuperación de las etapas rougher y final. \n",
    "Ahora dividiremos el set de entrenamiento para afinar los hiperparámetros de nuestros modelos. Aunque elegiremos al modelo según la evaluación cruzada, mejoraremos cada modelo con los datos que ahora dividiremos."
   ]
  },
  {
   "cell_type": "code",
   "execution_count": 35,
   "metadata": {},
   "outputs": [],
   "source": [
    "X_train, y_train, X_test, y_test = train_test_split(train_features, train_targets, test_size=0.25, random_state=rs)"
   ]
  },
  {
   "cell_type": "markdown",
   "metadata": {},
   "source": [
    "## Modelos predictivos.\n",
    "\n",
    "Ocuparemos tres modelos Decission Tree, Random Forest y Linear regression y en los primeros dos vamos a ocupar nuevos hiperparametros para tratar de tener una precision mayor aunque eso nos aumentara tambien el tiempo de compilacion esperamos que valga la pena."
   ]
  },
  {
   "cell_type": "markdown",
   "metadata": {},
   "source": [
    "### DecisionTreeRegressor"
   ]
  },
  {
   "cell_type": "code",
   "execution_count": 36,
   "metadata": {},
   "outputs": [
    {
     "data": {
      "text/plain": [
       "array([10.05158551,  6.0904805 ,  6.53194049,  6.70433559, 11.31685951])"
      ]
     },
     "execution_count": 36,
     "metadata": {},
     "output_type": "execute_result"
    }
   ],
   "source": [
    "score = 0\n",
    "for roots in range(3,9):\n",
    "    for leafs in range(3,9):\n",
    "        tree = DecisionTreeRegressor(random_state=rs, max_depth=roots, min_samples_leaf=leafs).fit(X_train, X_test)\n",
    "        sco = np.abs(cross_val_score(tree, test_features, test_targets, scoring=sMAPE_score)).mean()\n",
    "        if sco>score:\n",
    "            score = sco\n",
    "            best_root = roots\n",
    "            best_leaf = leafs\n",
    "\n",
    "best_tree = DecisionTreeRegressor(random_state=rs, max_depth=best_root, min_samples_leaf=best_leaf)\n",
    "np.abs(cross_val_score(best_tree, train_features, train_targets, scoring=sMAPE_score))"
   ]
  },
  {
   "cell_type": "code",
   "execution_count": 37,
   "metadata": {},
   "outputs": [
    {
     "data": {
      "text/plain": [
       "8.139040319747554"
      ]
     },
     "execution_count": 37,
     "metadata": {},
     "output_type": "execute_result"
    }
   ],
   "source": [
    "np.abs(cross_val_score(best_tree, train_features, train_targets, scoring=sMAPE_score)).mean()"
   ]
  },
  {
   "cell_type": "markdown",
   "metadata": {},
   "source": [
    "### RandomForest"
   ]
  },
  {
   "cell_type": "code",
   "execution_count": 38,
   "metadata": {},
   "outputs": [
    {
     "data": {
      "text/plain": [
       "array([10.3028592 ,  6.41648112,  7.23630819,  6.88614865, 10.63869385])"
      ]
     },
     "execution_count": 38,
     "metadata": {},
     "output_type": "execute_result"
    }
   ],
   "source": [
    "score = 0\n",
    "for roots in range(3,5):\n",
    "    for leafs in range(3,5):\n",
    "        forest = RandomForestRegressor(random_state=rs, max_depth=roots, min_samples_leaf=leafs).fit(X_train, X_test)\n",
    "        sco = np.abs(cross_val_score(tree, test_features, test_targets, scoring=sMAPE_score)).mean()\n",
    "        if sco>score:\n",
    "            score = sco\n",
    "            best_root = roots\n",
    "            best_leaf = leafs\n",
    "\n",
    "best_forest = DecisionTreeRegressor(random_state=rs, max_depth=best_root, min_samples_leaf=best_leaf)\n",
    "np.abs(cross_val_score(best_forest, train_features, train_targets, scoring=sMAPE_score))"
   ]
  },
  {
   "cell_type": "code",
   "execution_count": 39,
   "metadata": {},
   "outputs": [
    {
     "data": {
      "text/plain": [
       "8.296098203754484"
      ]
     },
     "execution_count": 39,
     "metadata": {},
     "output_type": "execute_result"
    }
   ],
   "source": [
    "np.abs(cross_val_score(best_forest, train_features, train_targets, scoring=sMAPE_score)).mean()"
   ]
  },
  {
   "cell_type": "markdown",
   "metadata": {},
   "source": [
    "### LinearRegression"
   ]
  },
  {
   "cell_type": "code",
   "execution_count": 40,
   "metadata": {},
   "outputs": [
    {
     "data": {
      "text/plain": [
       "array([4.6399519 , 3.46763033, 4.16988969, 3.1942471 , 4.75208397])"
      ]
     },
     "execution_count": 40,
     "metadata": {},
     "output_type": "execute_result"
    }
   ],
   "source": [
    "reg = LinearRegression()\n",
    "np.abs(cross_val_score(reg, train_features, train_targets, scoring=sMAPE_score))"
   ]
  },
  {
   "cell_type": "code",
   "execution_count": 41,
   "metadata": {},
   "outputs": [
    {
     "data": {
      "text/plain": [
       "4.044760598048443"
      ]
     },
     "execution_count": 41,
     "metadata": {},
     "output_type": "execute_result"
    }
   ],
   "source": [
    "np.abs(cross_val_score(reg, train_features, train_targets, scoring=sMAPE_score)).mean()"
   ]
  },
  {
   "cell_type": "markdown",
   "metadata": {},
   "source": [
    "En esta ocacion el modelo que nos da el menor error porcentual es el de Linear Regression muy por debajo de los resultados de los otros dos modelos ahora pasaremos al testeo. "
   ]
  },
  {
   "cell_type": "markdown",
   "metadata": {},
   "source": [
    "## Testeo\n",
    "\n",
    "Ahora finalmente pasemos al testeo de nuestro modelo. Aunque su error debería aumentar, se espera que este nos dé el menor error porcentual entre todos los modelos probados."
   ]
  },
  {
   "cell_type": "code",
   "execution_count": 42,
   "metadata": {},
   "outputs": [
    {
     "data": {
      "text/plain": [
       "10.555233205597402"
      ]
     },
     "execution_count": 42,
     "metadata": {},
     "output_type": "execute_result"
    }
   ],
   "source": [
    "# Modelo de bosque aleatorio\n",
    "best_forest.fit(train_features, train_targets)\n",
    "pred = best_forest.predict(test_features)\n",
    "final_smape(test_targets, pred)"
   ]
  },
  {
   "cell_type": "code",
   "execution_count": 43,
   "metadata": {},
   "outputs": [
    {
     "data": {
      "text/plain": [
       "12.290594579376611"
      ]
     },
     "execution_count": 43,
     "metadata": {},
     "output_type": "execute_result"
    }
   ],
   "source": [
    "# Modelo de arbol de decisión\n",
    "best_tree.fit(train_features, train_targets)\n",
    "pred = best_tree.predict(test_features)\n",
    "final_smape(test_targets, pred)"
   ]
  },
  {
   "cell_type": "code",
   "execution_count": 44,
   "metadata": {},
   "outputs": [
    {
     "data": {
      "text/plain": [
       "10.665695639726998"
      ]
     },
     "execution_count": 44,
     "metadata": {},
     "output_type": "execute_result"
    }
   ],
   "source": [
    "# Modelo de regresión linear\n",
    "reg.fit(train_features, train_targets)\n",
    "pred = reg.predict(test_features)\n",
    "final_smape(test_targets, pred)"
   ]
  },
  {
   "cell_type": "markdown",
   "metadata": {},
   "source": [
    "Ahora el modelo con los mejores resultados fue el de decission tree superando al que fue el mejor modelo en entrenamiento linear regression por apenas una decima."
   ]
  },
  {
   "cell_type": "markdown",
   "metadata": {},
   "source": [
    "# Conclusión general\n",
    "\n",
    "Luego de analizar la información, comparar las cantidades de metales en las etapas de purificación, las distribuciones de alimentación a estas etapas y las concentraciones totale en las distintas etapas del proceso, ya podemos contar con datos confiables y dentro de rangos normales. Comenzamos probando 3 modelos predictivos basandonos en la métrica sMAPE. De estos obtuvimos los mejores resultados con `Linear Regression` mucho mejores que los otros dos modelos. Con este modelo logramos obtener el menor error en nuestras predicciones. Alcanzando poco mas de 4 en el momento de testearlo y nuestro modelo con el peor resultado fue `random forest`\n",
    "\n",
    "Sin embargo al momento de pasar al testeo nuestro mejor modelo fue `random forest` con el menor porcentaje de errores apenas una decima por debajo del modelo de `linear regression`\n",
    "\n",
    "Se espera que con este modelo podamos predecir los valores de oro producidos por este proceso de purificación. Por lo menos para muestras que se encuentren dentro de rangos normales."
   ]
  }
 ],
 "metadata": {
  "kernelspec": {
   "display_name": "Python 3 (ipykernel)",
   "language": "python",
   "name": "python3"
  },
  "language_info": {
   "codemirror_mode": {
    "name": "ipython",
    "version": 3
   },
   "file_extension": ".py",
   "mimetype": "text/x-python",
   "name": "python",
   "nbconvert_exporter": "python",
   "pygments_lexer": "ipython3",
   "version": "3.9.13"
  },
  "toc": {
   "base_numbering": 1,
   "nav_menu": {},
   "number_sections": true,
   "sideBar": true,
   "skip_h1_title": true,
   "title_cell": "Table of Contents",
   "title_sidebar": "Contents",
   "toc_cell": false,
   "toc_position": {
    "height": "calc(100% - 180px)",
    "left": "10px",
    "top": "150px",
    "width": "330px"
   },
   "toc_section_display": true,
   "toc_window_display": false
  }
 },
 "nbformat": 4,
 "nbformat_minor": 2
}
