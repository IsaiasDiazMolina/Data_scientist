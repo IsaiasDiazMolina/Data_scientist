{
 "cells": [
  {
   "cell_type": "markdown",
   "metadata": {},
   "source": [
    "# BETA BANK\n",
    "\n",
    "Los clientes de Beta Bank se están yendo, cada mes, poco a poco. Los banqueros descubrieron que es más barato salvar a los clientes existentes que atraer nuevos.\n",
    "Necesitamos predecir si un cliente dejará el banco pronto. Tú tienes los datos sobre el comportamiento pasado de los clientes y la terminación de contratos con el banco.\n",
    "\n",
    "1.- Crea un modelo con el máximo valor F1 posible. \n",
    "\n",
    "2.- Para aprobar la revisión, necesitas un valor F1 de al menos 0.59. Verifica F1 para el conjunto de prueba.\n",
    "\n",
    "3.- Además, debes medir la métrica AUC-ROC y compararla con el valor F1."
   ]
  },
  {
   "cell_type": "markdown",
   "metadata": {},
   "source": [
    "## REVISAMOS DATOS."
   ]
  },
  {
   "cell_type": "code",
   "execution_count": 45,
   "metadata": {},
   "outputs": [],
   "source": [
    "#Importamos las librerias que necesitaremos.\n",
    "\n",
    "import pandas as pd\n",
    "import matplotlib.pyplot as plt\n",
    "import numpy as np\n",
    "from sklearn.model_selection import train_test_split\n",
    "from sklearn.tree import DecisionTreeClassifier\n",
    "from sklearn.ensemble import RandomForestClassifier\n",
    "from sklearn.linear_model import LogisticRegression\n",
    "from sklearn.metrics import accuracy_score\n",
    "from sklearn.preprocessing import OrdinalEncoder\n",
    "from sklearn.metrics import confusion_matrix\n",
    "from sklearn.metrics import recall_score\n",
    "from sklearn.metrics import precision_score\n",
    "from sklearn.metrics import f1_score\n",
    "from sklearn.utils import shuffle\n",
    "from sklearn.preprocessing import StandardScaler\n",
    "from sklearn.metrics import roc_auc_score\n",
    "from sklearn.metrics import roc_curve"
   ]
  },
  {
   "cell_type": "code",
   "execution_count": 46,
   "metadata": {
    "scrolled": true
   },
   "outputs": [
    {
     "data": {
      "text/html": [
       "<div>\n",
       "<style scoped>\n",
       "    .dataframe tbody tr th:only-of-type {\n",
       "        vertical-align: middle;\n",
       "    }\n",
       "\n",
       "    .dataframe tbody tr th {\n",
       "        vertical-align: top;\n",
       "    }\n",
       "\n",
       "    .dataframe thead th {\n",
       "        text-align: right;\n",
       "    }\n",
       "</style>\n",
       "<table border=\"1\" class=\"dataframe\">\n",
       "  <thead>\n",
       "    <tr style=\"text-align: right;\">\n",
       "      <th></th>\n",
       "      <th>RowNumber</th>\n",
       "      <th>CustomerId</th>\n",
       "      <th>Surname</th>\n",
       "      <th>CreditScore</th>\n",
       "      <th>Geography</th>\n",
       "      <th>Gender</th>\n",
       "      <th>Age</th>\n",
       "      <th>Tenure</th>\n",
       "      <th>Balance</th>\n",
       "      <th>NumOfProducts</th>\n",
       "      <th>HasCrCard</th>\n",
       "      <th>IsActiveMember</th>\n",
       "      <th>EstimatedSalary</th>\n",
       "      <th>Exited</th>\n",
       "    </tr>\n",
       "  </thead>\n",
       "  <tbody>\n",
       "    <tr>\n",
       "      <th>0</th>\n",
       "      <td>1</td>\n",
       "      <td>15634602</td>\n",
       "      <td>Hargrave</td>\n",
       "      <td>619</td>\n",
       "      <td>France</td>\n",
       "      <td>Female</td>\n",
       "      <td>42</td>\n",
       "      <td>2.0</td>\n",
       "      <td>0.00</td>\n",
       "      <td>1</td>\n",
       "      <td>1</td>\n",
       "      <td>1</td>\n",
       "      <td>101348.88</td>\n",
       "      <td>1</td>\n",
       "    </tr>\n",
       "    <tr>\n",
       "      <th>1</th>\n",
       "      <td>2</td>\n",
       "      <td>15647311</td>\n",
       "      <td>Hill</td>\n",
       "      <td>608</td>\n",
       "      <td>Spain</td>\n",
       "      <td>Female</td>\n",
       "      <td>41</td>\n",
       "      <td>1.0</td>\n",
       "      <td>83807.86</td>\n",
       "      <td>1</td>\n",
       "      <td>0</td>\n",
       "      <td>1</td>\n",
       "      <td>112542.58</td>\n",
       "      <td>0</td>\n",
       "    </tr>\n",
       "    <tr>\n",
       "      <th>2</th>\n",
       "      <td>3</td>\n",
       "      <td>15619304</td>\n",
       "      <td>Onio</td>\n",
       "      <td>502</td>\n",
       "      <td>France</td>\n",
       "      <td>Female</td>\n",
       "      <td>42</td>\n",
       "      <td>8.0</td>\n",
       "      <td>159660.80</td>\n",
       "      <td>3</td>\n",
       "      <td>1</td>\n",
       "      <td>0</td>\n",
       "      <td>113931.57</td>\n",
       "      <td>1</td>\n",
       "    </tr>\n",
       "    <tr>\n",
       "      <th>3</th>\n",
       "      <td>4</td>\n",
       "      <td>15701354</td>\n",
       "      <td>Boni</td>\n",
       "      <td>699</td>\n",
       "      <td>France</td>\n",
       "      <td>Female</td>\n",
       "      <td>39</td>\n",
       "      <td>1.0</td>\n",
       "      <td>0.00</td>\n",
       "      <td>2</td>\n",
       "      <td>0</td>\n",
       "      <td>0</td>\n",
       "      <td>93826.63</td>\n",
       "      <td>0</td>\n",
       "    </tr>\n",
       "    <tr>\n",
       "      <th>4</th>\n",
       "      <td>5</td>\n",
       "      <td>15737888</td>\n",
       "      <td>Mitchell</td>\n",
       "      <td>850</td>\n",
       "      <td>Spain</td>\n",
       "      <td>Female</td>\n",
       "      <td>43</td>\n",
       "      <td>2.0</td>\n",
       "      <td>125510.82</td>\n",
       "      <td>1</td>\n",
       "      <td>1</td>\n",
       "      <td>1</td>\n",
       "      <td>79084.10</td>\n",
       "      <td>0</td>\n",
       "    </tr>\n",
       "    <tr>\n",
       "      <th>...</th>\n",
       "      <td>...</td>\n",
       "      <td>...</td>\n",
       "      <td>...</td>\n",
       "      <td>...</td>\n",
       "      <td>...</td>\n",
       "      <td>...</td>\n",
       "      <td>...</td>\n",
       "      <td>...</td>\n",
       "      <td>...</td>\n",
       "      <td>...</td>\n",
       "      <td>...</td>\n",
       "      <td>...</td>\n",
       "      <td>...</td>\n",
       "      <td>...</td>\n",
       "    </tr>\n",
       "    <tr>\n",
       "      <th>9995</th>\n",
       "      <td>9996</td>\n",
       "      <td>15606229</td>\n",
       "      <td>Obijiaku</td>\n",
       "      <td>771</td>\n",
       "      <td>France</td>\n",
       "      <td>Male</td>\n",
       "      <td>39</td>\n",
       "      <td>5.0</td>\n",
       "      <td>0.00</td>\n",
       "      <td>2</td>\n",
       "      <td>1</td>\n",
       "      <td>0</td>\n",
       "      <td>96270.64</td>\n",
       "      <td>0</td>\n",
       "    </tr>\n",
       "    <tr>\n",
       "      <th>9996</th>\n",
       "      <td>9997</td>\n",
       "      <td>15569892</td>\n",
       "      <td>Johnstone</td>\n",
       "      <td>516</td>\n",
       "      <td>France</td>\n",
       "      <td>Male</td>\n",
       "      <td>35</td>\n",
       "      <td>10.0</td>\n",
       "      <td>57369.61</td>\n",
       "      <td>1</td>\n",
       "      <td>1</td>\n",
       "      <td>1</td>\n",
       "      <td>101699.77</td>\n",
       "      <td>0</td>\n",
       "    </tr>\n",
       "    <tr>\n",
       "      <th>9997</th>\n",
       "      <td>9998</td>\n",
       "      <td>15584532</td>\n",
       "      <td>Liu</td>\n",
       "      <td>709</td>\n",
       "      <td>France</td>\n",
       "      <td>Female</td>\n",
       "      <td>36</td>\n",
       "      <td>7.0</td>\n",
       "      <td>0.00</td>\n",
       "      <td>1</td>\n",
       "      <td>0</td>\n",
       "      <td>1</td>\n",
       "      <td>42085.58</td>\n",
       "      <td>1</td>\n",
       "    </tr>\n",
       "    <tr>\n",
       "      <th>9998</th>\n",
       "      <td>9999</td>\n",
       "      <td>15682355</td>\n",
       "      <td>Sabbatini</td>\n",
       "      <td>772</td>\n",
       "      <td>Germany</td>\n",
       "      <td>Male</td>\n",
       "      <td>42</td>\n",
       "      <td>3.0</td>\n",
       "      <td>75075.31</td>\n",
       "      <td>2</td>\n",
       "      <td>1</td>\n",
       "      <td>0</td>\n",
       "      <td>92888.52</td>\n",
       "      <td>1</td>\n",
       "    </tr>\n",
       "    <tr>\n",
       "      <th>9999</th>\n",
       "      <td>10000</td>\n",
       "      <td>15628319</td>\n",
       "      <td>Walker</td>\n",
       "      <td>792</td>\n",
       "      <td>France</td>\n",
       "      <td>Female</td>\n",
       "      <td>28</td>\n",
       "      <td>NaN</td>\n",
       "      <td>130142.79</td>\n",
       "      <td>1</td>\n",
       "      <td>1</td>\n",
       "      <td>0</td>\n",
       "      <td>38190.78</td>\n",
       "      <td>0</td>\n",
       "    </tr>\n",
       "  </tbody>\n",
       "</table>\n",
       "<p>10000 rows × 14 columns</p>\n",
       "</div>"
      ],
      "text/plain": [
       "      RowNumber  CustomerId    Surname  CreditScore Geography  Gender  Age  \\\n",
       "0             1    15634602   Hargrave          619    France  Female   42   \n",
       "1             2    15647311       Hill          608     Spain  Female   41   \n",
       "2             3    15619304       Onio          502    France  Female   42   \n",
       "3             4    15701354       Boni          699    France  Female   39   \n",
       "4             5    15737888   Mitchell          850     Spain  Female   43   \n",
       "...         ...         ...        ...          ...       ...     ...  ...   \n",
       "9995       9996    15606229   Obijiaku          771    France    Male   39   \n",
       "9996       9997    15569892  Johnstone          516    France    Male   35   \n",
       "9997       9998    15584532        Liu          709    France  Female   36   \n",
       "9998       9999    15682355  Sabbatini          772   Germany    Male   42   \n",
       "9999      10000    15628319     Walker          792    France  Female   28   \n",
       "\n",
       "      Tenure    Balance  NumOfProducts  HasCrCard  IsActiveMember  \\\n",
       "0        2.0       0.00              1          1               1   \n",
       "1        1.0   83807.86              1          0               1   \n",
       "2        8.0  159660.80              3          1               0   \n",
       "3        1.0       0.00              2          0               0   \n",
       "4        2.0  125510.82              1          1               1   \n",
       "...      ...        ...            ...        ...             ...   \n",
       "9995     5.0       0.00              2          1               0   \n",
       "9996    10.0   57369.61              1          1               1   \n",
       "9997     7.0       0.00              1          0               1   \n",
       "9998     3.0   75075.31              2          1               0   \n",
       "9999     NaN  130142.79              1          1               0   \n",
       "\n",
       "      EstimatedSalary  Exited  \n",
       "0           101348.88       1  \n",
       "1           112542.58       0  \n",
       "2           113931.57       1  \n",
       "3            93826.63       0  \n",
       "4            79084.10       0  \n",
       "...               ...     ...  \n",
       "9995         96270.64       0  \n",
       "9996        101699.77       0  \n",
       "9997         42085.58       1  \n",
       "9998         92888.52       1  \n",
       "9999         38190.78       0  \n",
       "\n",
       "[10000 rows x 14 columns]"
      ]
     },
     "execution_count": 46,
     "metadata": {},
     "output_type": "execute_result"
    }
   ],
   "source": [
    "# Mostramos el DataFrame\n",
    "data = pd.read_csv('/datasets/Churn.csv')\n",
    "data"
   ]
  },
  {
   "cell_type": "code",
   "execution_count": 47,
   "metadata": {
    "scrolled": false
   },
   "outputs": [
    {
     "name": "stdout",
     "output_type": "stream",
     "text": [
      "<class 'pandas.core.frame.DataFrame'>\n",
      "RangeIndex: 10000 entries, 0 to 9999\n",
      "Data columns (total 14 columns):\n",
      " #   Column           Non-Null Count  Dtype  \n",
      "---  ------           --------------  -----  \n",
      " 0   RowNumber        10000 non-null  int64  \n",
      " 1   CustomerId       10000 non-null  int64  \n",
      " 2   Surname          10000 non-null  object \n",
      " 3   CreditScore      10000 non-null  int64  \n",
      " 4   Geography        10000 non-null  object \n",
      " 5   Gender           10000 non-null  object \n",
      " 6   Age              10000 non-null  int64  \n",
      " 7   Tenure           9091 non-null   float64\n",
      " 8   Balance          10000 non-null  float64\n",
      " 9   NumOfProducts    10000 non-null  int64  \n",
      " 10  HasCrCard        10000 non-null  int64  \n",
      " 11  IsActiveMember   10000 non-null  int64  \n",
      " 12  EstimatedSalary  10000 non-null  float64\n",
      " 13  Exited           10000 non-null  int64  \n",
      "dtypes: float64(3), int64(8), object(3)\n",
      "memory usage: 1.1+ MB\n"
     ]
    }
   ],
   "source": [
    "# Revisamos que los tipos de las columnas sean los correctos.\n",
    "data.info()"
   ]
  },
  {
   "cell_type": "code",
   "execution_count": 48,
   "metadata": {
    "scrolled": true
   },
   "outputs": [],
   "source": [
    "# Cambiamos los nombres de las columnas a minusculas y cambiams el formato.\n",
    "data.columns = data.columns.str.lower()\n",
    "data.rename(columns={'rownumber' : 'row_number',\n",
    "                    'customerid' : 'customer_id',\n",
    "                    'creditscore' : 'credit_score',\n",
    "                    'numofproducts' : 'num_of_products',\n",
    "                    'hascrcard' : 'has_cr_card',\n",
    "                    'isactivemember': 'is_active_member',\n",
    "                    'estimatedsalary' : 'estimated_salary'}, inplace =True\n",
    "                    )"
   ]
  },
  {
   "cell_type": "code",
   "execution_count": 49,
   "metadata": {
    "scrolled": false
   },
   "outputs": [
    {
     "data": {
      "text/plain": [
       "Index(['row_number', 'customer_id', 'surname', 'credit_score', 'geography',\n",
       "       'gender', 'age', 'tenure', 'balance', 'num_of_products', 'has_cr_card',\n",
       "       'is_active_member', 'estimated_salary', 'exited'],\n",
       "      dtype='object')"
      ]
     },
     "execution_count": 49,
     "metadata": {},
     "output_type": "execute_result"
    }
   ],
   "source": [
    "# Mostramos los cambios.\n",
    "data.columns"
   ]
  },
  {
   "cell_type": "code",
   "execution_count": 50,
   "metadata": {},
   "outputs": [
    {
     "data": {
      "text/plain": [
       "Smith       32\n",
       "Martin      29\n",
       "Scott       29\n",
       "Walker      28\n",
       "Brown       26\n",
       "            ..\n",
       "Severson     1\n",
       "Lovely       1\n",
       "Currey       1\n",
       "Nicoll       1\n",
       "Joslin       1\n",
       "Name: surname, Length: 2932, dtype: int64"
      ]
     },
     "execution_count": 50,
     "metadata": {},
     "output_type": "execute_result"
    }
   ],
   "source": [
    "data['surname'].value_counts()"
   ]
  },
  {
   "cell_type": "markdown",
   "metadata": {},
   "source": [
    "En el DataFrame tenemos columnas que no nos aportan valor para realizar nuestros modelos como son row_number, customer_id y surname, el primero es el numero de columna, el segundo un numero de cliente y el tercero su apellido al revisar esta ultima columna no encontramos nada que se considere extraño como que exista una cantidad inusual de personas con el mismo apellido por lo que eliminaremos estas columnas y seguiremos con el analisis."
   ]
  },
  {
   "cell_type": "code",
   "execution_count": 51,
   "metadata": {},
   "outputs": [
    {
     "data": {
      "text/html": [
       "<div>\n",
       "<style scoped>\n",
       "    .dataframe tbody tr th:only-of-type {\n",
       "        vertical-align: middle;\n",
       "    }\n",
       "\n",
       "    .dataframe tbody tr th {\n",
       "        vertical-align: top;\n",
       "    }\n",
       "\n",
       "    .dataframe thead th {\n",
       "        text-align: right;\n",
       "    }\n",
       "</style>\n",
       "<table border=\"1\" class=\"dataframe\">\n",
       "  <thead>\n",
       "    <tr style=\"text-align: right;\">\n",
       "      <th></th>\n",
       "      <th>credit_score</th>\n",
       "      <th>geography</th>\n",
       "      <th>gender</th>\n",
       "      <th>age</th>\n",
       "      <th>tenure</th>\n",
       "      <th>balance</th>\n",
       "      <th>num_of_products</th>\n",
       "      <th>has_cr_card</th>\n",
       "      <th>is_active_member</th>\n",
       "      <th>estimated_salary</th>\n",
       "      <th>exited</th>\n",
       "    </tr>\n",
       "  </thead>\n",
       "  <tbody>\n",
       "    <tr>\n",
       "      <th>0</th>\n",
       "      <td>619</td>\n",
       "      <td>France</td>\n",
       "      <td>Female</td>\n",
       "      <td>42</td>\n",
       "      <td>2.0</td>\n",
       "      <td>0.00</td>\n",
       "      <td>1</td>\n",
       "      <td>1</td>\n",
       "      <td>1</td>\n",
       "      <td>101348.88</td>\n",
       "      <td>1</td>\n",
       "    </tr>\n",
       "    <tr>\n",
       "      <th>1</th>\n",
       "      <td>608</td>\n",
       "      <td>Spain</td>\n",
       "      <td>Female</td>\n",
       "      <td>41</td>\n",
       "      <td>1.0</td>\n",
       "      <td>83807.86</td>\n",
       "      <td>1</td>\n",
       "      <td>0</td>\n",
       "      <td>1</td>\n",
       "      <td>112542.58</td>\n",
       "      <td>0</td>\n",
       "    </tr>\n",
       "    <tr>\n",
       "      <th>2</th>\n",
       "      <td>502</td>\n",
       "      <td>France</td>\n",
       "      <td>Female</td>\n",
       "      <td>42</td>\n",
       "      <td>8.0</td>\n",
       "      <td>159660.80</td>\n",
       "      <td>3</td>\n",
       "      <td>1</td>\n",
       "      <td>0</td>\n",
       "      <td>113931.57</td>\n",
       "      <td>1</td>\n",
       "    </tr>\n",
       "    <tr>\n",
       "      <th>3</th>\n",
       "      <td>699</td>\n",
       "      <td>France</td>\n",
       "      <td>Female</td>\n",
       "      <td>39</td>\n",
       "      <td>1.0</td>\n",
       "      <td>0.00</td>\n",
       "      <td>2</td>\n",
       "      <td>0</td>\n",
       "      <td>0</td>\n",
       "      <td>93826.63</td>\n",
       "      <td>0</td>\n",
       "    </tr>\n",
       "    <tr>\n",
       "      <th>4</th>\n",
       "      <td>850</td>\n",
       "      <td>Spain</td>\n",
       "      <td>Female</td>\n",
       "      <td>43</td>\n",
       "      <td>2.0</td>\n",
       "      <td>125510.82</td>\n",
       "      <td>1</td>\n",
       "      <td>1</td>\n",
       "      <td>1</td>\n",
       "      <td>79084.10</td>\n",
       "      <td>0</td>\n",
       "    </tr>\n",
       "    <tr>\n",
       "      <th>...</th>\n",
       "      <td>...</td>\n",
       "      <td>...</td>\n",
       "      <td>...</td>\n",
       "      <td>...</td>\n",
       "      <td>...</td>\n",
       "      <td>...</td>\n",
       "      <td>...</td>\n",
       "      <td>...</td>\n",
       "      <td>...</td>\n",
       "      <td>...</td>\n",
       "      <td>...</td>\n",
       "    </tr>\n",
       "    <tr>\n",
       "      <th>9995</th>\n",
       "      <td>771</td>\n",
       "      <td>France</td>\n",
       "      <td>Male</td>\n",
       "      <td>39</td>\n",
       "      <td>5.0</td>\n",
       "      <td>0.00</td>\n",
       "      <td>2</td>\n",
       "      <td>1</td>\n",
       "      <td>0</td>\n",
       "      <td>96270.64</td>\n",
       "      <td>0</td>\n",
       "    </tr>\n",
       "    <tr>\n",
       "      <th>9996</th>\n",
       "      <td>516</td>\n",
       "      <td>France</td>\n",
       "      <td>Male</td>\n",
       "      <td>35</td>\n",
       "      <td>10.0</td>\n",
       "      <td>57369.61</td>\n",
       "      <td>1</td>\n",
       "      <td>1</td>\n",
       "      <td>1</td>\n",
       "      <td>101699.77</td>\n",
       "      <td>0</td>\n",
       "    </tr>\n",
       "    <tr>\n",
       "      <th>9997</th>\n",
       "      <td>709</td>\n",
       "      <td>France</td>\n",
       "      <td>Female</td>\n",
       "      <td>36</td>\n",
       "      <td>7.0</td>\n",
       "      <td>0.00</td>\n",
       "      <td>1</td>\n",
       "      <td>0</td>\n",
       "      <td>1</td>\n",
       "      <td>42085.58</td>\n",
       "      <td>1</td>\n",
       "    </tr>\n",
       "    <tr>\n",
       "      <th>9998</th>\n",
       "      <td>772</td>\n",
       "      <td>Germany</td>\n",
       "      <td>Male</td>\n",
       "      <td>42</td>\n",
       "      <td>3.0</td>\n",
       "      <td>75075.31</td>\n",
       "      <td>2</td>\n",
       "      <td>1</td>\n",
       "      <td>0</td>\n",
       "      <td>92888.52</td>\n",
       "      <td>1</td>\n",
       "    </tr>\n",
       "    <tr>\n",
       "      <th>9999</th>\n",
       "      <td>792</td>\n",
       "      <td>France</td>\n",
       "      <td>Female</td>\n",
       "      <td>28</td>\n",
       "      <td>NaN</td>\n",
       "      <td>130142.79</td>\n",
       "      <td>1</td>\n",
       "      <td>1</td>\n",
       "      <td>0</td>\n",
       "      <td>38190.78</td>\n",
       "      <td>0</td>\n",
       "    </tr>\n",
       "  </tbody>\n",
       "</table>\n",
       "<p>10000 rows × 11 columns</p>\n",
       "</div>"
      ],
      "text/plain": [
       "      credit_score geography  gender  age  tenure    balance  num_of_products  \\\n",
       "0              619    France  Female   42     2.0       0.00                1   \n",
       "1              608     Spain  Female   41     1.0   83807.86                1   \n",
       "2              502    France  Female   42     8.0  159660.80                3   \n",
       "3              699    France  Female   39     1.0       0.00                2   \n",
       "4              850     Spain  Female   43     2.0  125510.82                1   \n",
       "...            ...       ...     ...  ...     ...        ...              ...   \n",
       "9995           771    France    Male   39     5.0       0.00                2   \n",
       "9996           516    France    Male   35    10.0   57369.61                1   \n",
       "9997           709    France  Female   36     7.0       0.00                1   \n",
       "9998           772   Germany    Male   42     3.0   75075.31                2   \n",
       "9999           792    France  Female   28     NaN  130142.79                1   \n",
       "\n",
       "      has_cr_card  is_active_member  estimated_salary  exited  \n",
       "0               1                 1         101348.88       1  \n",
       "1               0                 1         112542.58       0  \n",
       "2               1                 0         113931.57       1  \n",
       "3               0                 0          93826.63       0  \n",
       "4               1                 1          79084.10       0  \n",
       "...           ...               ...               ...     ...  \n",
       "9995            1                 0          96270.64       0  \n",
       "9996            1                 1         101699.77       0  \n",
       "9997            0                 1          42085.58       1  \n",
       "9998            1                 0          92888.52       1  \n",
       "9999            1                 0          38190.78       0  \n",
       "\n",
       "[10000 rows x 11 columns]"
      ]
     },
     "execution_count": 51,
     "metadata": {},
     "output_type": "execute_result"
    }
   ],
   "source": [
    "data = data.drop(['row_number', 'customer_id', 'surname'], axis =1)\n",
    "data"
   ]
  },
  {
   "cell_type": "code",
   "execution_count": 52,
   "metadata": {
    "scrolled": true
   },
   "outputs": [
    {
     "data": {
      "text/plain": [
       "credit_score          0\n",
       "geography             0\n",
       "gender                0\n",
       "age                   0\n",
       "tenure              909\n",
       "balance               0\n",
       "num_of_products       0\n",
       "has_cr_card           0\n",
       "is_active_member      0\n",
       "estimated_salary      0\n",
       "exited                0\n",
       "dtype: int64"
      ]
     },
     "execution_count": 52,
     "metadata": {},
     "output_type": "execute_result"
    }
   ],
   "source": [
    "# Buscamos valores nulos.\n",
    "data.isna().sum()"
   ]
  },
  {
   "cell_type": "markdown",
   "metadata": {},
   "source": [
    "Los valores nulos de la columna tenure se llenaran con la media del agrupamieto de gender, geography y tenure para poder realizar nuestro analisis."
   ]
  },
  {
   "cell_type": "code",
   "execution_count": 53,
   "metadata": {},
   "outputs": [
    {
     "name": "stdout",
     "output_type": "stream",
     "text": [
      "0    5.0\n",
      "1    5.0\n",
      "2    5.0\n",
      "3    5.0\n",
      "4    5.0\n",
      "Name: tenure, dtype: float64\n"
     ]
    }
   ],
   "source": [
    "tenure_median = data.groupby(['gender', 'geography'])['tenure'].transform('median')\n",
    "print(tenure_median.head())"
   ]
  },
  {
   "cell_type": "code",
   "execution_count": 54,
   "metadata": {},
   "outputs": [
    {
     "data": {
      "text/html": [
       "<div>\n",
       "<style scoped>\n",
       "    .dataframe tbody tr th:only-of-type {\n",
       "        vertical-align: middle;\n",
       "    }\n",
       "\n",
       "    .dataframe tbody tr th {\n",
       "        vertical-align: top;\n",
       "    }\n",
       "\n",
       "    .dataframe thead th {\n",
       "        text-align: right;\n",
       "    }\n",
       "</style>\n",
       "<table border=\"1\" class=\"dataframe\">\n",
       "  <thead>\n",
       "    <tr style=\"text-align: right;\">\n",
       "      <th></th>\n",
       "      <th>credit_score</th>\n",
       "      <th>geography</th>\n",
       "      <th>gender</th>\n",
       "      <th>age</th>\n",
       "      <th>tenure</th>\n",
       "      <th>balance</th>\n",
       "      <th>num_of_products</th>\n",
       "      <th>has_cr_card</th>\n",
       "      <th>is_active_member</th>\n",
       "      <th>estimated_salary</th>\n",
       "      <th>exited</th>\n",
       "    </tr>\n",
       "  </thead>\n",
       "  <tbody>\n",
       "    <tr>\n",
       "      <th>0</th>\n",
       "      <td>619</td>\n",
       "      <td>France</td>\n",
       "      <td>Female</td>\n",
       "      <td>42</td>\n",
       "      <td>2.0</td>\n",
       "      <td>0.00</td>\n",
       "      <td>1</td>\n",
       "      <td>1</td>\n",
       "      <td>1</td>\n",
       "      <td>101348.88</td>\n",
       "      <td>1</td>\n",
       "    </tr>\n",
       "    <tr>\n",
       "      <th>1</th>\n",
       "      <td>608</td>\n",
       "      <td>Spain</td>\n",
       "      <td>Female</td>\n",
       "      <td>41</td>\n",
       "      <td>1.0</td>\n",
       "      <td>83807.86</td>\n",
       "      <td>1</td>\n",
       "      <td>0</td>\n",
       "      <td>1</td>\n",
       "      <td>112542.58</td>\n",
       "      <td>0</td>\n",
       "    </tr>\n",
       "    <tr>\n",
       "      <th>2</th>\n",
       "      <td>502</td>\n",
       "      <td>France</td>\n",
       "      <td>Female</td>\n",
       "      <td>42</td>\n",
       "      <td>8.0</td>\n",
       "      <td>159660.80</td>\n",
       "      <td>3</td>\n",
       "      <td>1</td>\n",
       "      <td>0</td>\n",
       "      <td>113931.57</td>\n",
       "      <td>1</td>\n",
       "    </tr>\n",
       "    <tr>\n",
       "      <th>3</th>\n",
       "      <td>699</td>\n",
       "      <td>France</td>\n",
       "      <td>Female</td>\n",
       "      <td>39</td>\n",
       "      <td>1.0</td>\n",
       "      <td>0.00</td>\n",
       "      <td>2</td>\n",
       "      <td>0</td>\n",
       "      <td>0</td>\n",
       "      <td>93826.63</td>\n",
       "      <td>0</td>\n",
       "    </tr>\n",
       "    <tr>\n",
       "      <th>4</th>\n",
       "      <td>850</td>\n",
       "      <td>Spain</td>\n",
       "      <td>Female</td>\n",
       "      <td>43</td>\n",
       "      <td>2.0</td>\n",
       "      <td>125510.82</td>\n",
       "      <td>1</td>\n",
       "      <td>1</td>\n",
       "      <td>1</td>\n",
       "      <td>79084.10</td>\n",
       "      <td>0</td>\n",
       "    </tr>\n",
       "    <tr>\n",
       "      <th>...</th>\n",
       "      <td>...</td>\n",
       "      <td>...</td>\n",
       "      <td>...</td>\n",
       "      <td>...</td>\n",
       "      <td>...</td>\n",
       "      <td>...</td>\n",
       "      <td>...</td>\n",
       "      <td>...</td>\n",
       "      <td>...</td>\n",
       "      <td>...</td>\n",
       "      <td>...</td>\n",
       "    </tr>\n",
       "    <tr>\n",
       "      <th>9995</th>\n",
       "      <td>771</td>\n",
       "      <td>France</td>\n",
       "      <td>Male</td>\n",
       "      <td>39</td>\n",
       "      <td>5.0</td>\n",
       "      <td>0.00</td>\n",
       "      <td>2</td>\n",
       "      <td>1</td>\n",
       "      <td>0</td>\n",
       "      <td>96270.64</td>\n",
       "      <td>0</td>\n",
       "    </tr>\n",
       "    <tr>\n",
       "      <th>9996</th>\n",
       "      <td>516</td>\n",
       "      <td>France</td>\n",
       "      <td>Male</td>\n",
       "      <td>35</td>\n",
       "      <td>10.0</td>\n",
       "      <td>57369.61</td>\n",
       "      <td>1</td>\n",
       "      <td>1</td>\n",
       "      <td>1</td>\n",
       "      <td>101699.77</td>\n",
       "      <td>0</td>\n",
       "    </tr>\n",
       "    <tr>\n",
       "      <th>9997</th>\n",
       "      <td>709</td>\n",
       "      <td>France</td>\n",
       "      <td>Female</td>\n",
       "      <td>36</td>\n",
       "      <td>7.0</td>\n",
       "      <td>0.00</td>\n",
       "      <td>1</td>\n",
       "      <td>0</td>\n",
       "      <td>1</td>\n",
       "      <td>42085.58</td>\n",
       "      <td>1</td>\n",
       "    </tr>\n",
       "    <tr>\n",
       "      <th>9998</th>\n",
       "      <td>772</td>\n",
       "      <td>Germany</td>\n",
       "      <td>Male</td>\n",
       "      <td>42</td>\n",
       "      <td>3.0</td>\n",
       "      <td>75075.31</td>\n",
       "      <td>2</td>\n",
       "      <td>1</td>\n",
       "      <td>0</td>\n",
       "      <td>92888.52</td>\n",
       "      <td>1</td>\n",
       "    </tr>\n",
       "    <tr>\n",
       "      <th>9999</th>\n",
       "      <td>792</td>\n",
       "      <td>France</td>\n",
       "      <td>Female</td>\n",
       "      <td>28</td>\n",
       "      <td>5.0</td>\n",
       "      <td>130142.79</td>\n",
       "      <td>1</td>\n",
       "      <td>1</td>\n",
       "      <td>0</td>\n",
       "      <td>38190.78</td>\n",
       "      <td>0</td>\n",
       "    </tr>\n",
       "  </tbody>\n",
       "</table>\n",
       "<p>10000 rows × 11 columns</p>\n",
       "</div>"
      ],
      "text/plain": [
       "      credit_score geography  gender  age  tenure    balance  num_of_products  \\\n",
       "0              619    France  Female   42     2.0       0.00                1   \n",
       "1              608     Spain  Female   41     1.0   83807.86                1   \n",
       "2              502    France  Female   42     8.0  159660.80                3   \n",
       "3              699    France  Female   39     1.0       0.00                2   \n",
       "4              850     Spain  Female   43     2.0  125510.82                1   \n",
       "...            ...       ...     ...  ...     ...        ...              ...   \n",
       "9995           771    France    Male   39     5.0       0.00                2   \n",
       "9996           516    France    Male   35    10.0   57369.61                1   \n",
       "9997           709    France  Female   36     7.0       0.00                1   \n",
       "9998           772   Germany    Male   42     3.0   75075.31                2   \n",
       "9999           792    France  Female   28     5.0  130142.79                1   \n",
       "\n",
       "      has_cr_card  is_active_member  estimated_salary  exited  \n",
       "0               1                 1         101348.88       1  \n",
       "1               0                 1         112542.58       0  \n",
       "2               1                 0         113931.57       1  \n",
       "3               0                 0          93826.63       0  \n",
       "4               1                 1          79084.10       0  \n",
       "...           ...               ...               ...     ...  \n",
       "9995            1                 0          96270.64       0  \n",
       "9996            1                 1         101699.77       0  \n",
       "9997            0                 1          42085.58       1  \n",
       "9998            1                 0          92888.52       1  \n",
       "9999            1                 0          38190.78       0  \n",
       "\n",
       "[10000 rows x 11 columns]"
      ]
     },
     "execution_count": 54,
     "metadata": {},
     "output_type": "execute_result"
    }
   ],
   "source": [
    "# Llenamos valores nulos con cero\n",
    "data['tenure'] = data['tenure'].fillna(tenure_median)\n",
    "data"
   ]
  },
  {
   "cell_type": "code",
   "execution_count": 55,
   "metadata": {},
   "outputs": [
    {
     "data": {
      "text/plain": [
       "0"
      ]
     },
     "execution_count": 55,
     "metadata": {},
     "output_type": "execute_result"
    }
   ],
   "source": [
    "# Buscamos valores duplicados.\n",
    "data.duplicated().sum()"
   ]
  },
  {
   "cell_type": "code",
   "execution_count": 56,
   "metadata": {},
   "outputs": [
    {
     "data": {
      "text/plain": [
       "0    7963\n",
       "1    2037\n",
       "Name: exited, dtype: int64"
      ]
     },
     "execution_count": 56,
     "metadata": {},
     "output_type": "execute_result"
    }
   ],
   "source": [
    "# Revisamos nuestra columna target\n",
    "data['exited']. value_counts()"
   ]
  },
  {
   "cell_type": "markdown",
   "metadata": {},
   "source": [
    "### CONCLUSION.\n",
    "\n",
    "Despues de revisar el DataFrame y hacer las correcciones necesarias en los nombres de las columnas, llenado de valores nulos y eliminar columnas analizando nuestra columna target tenemos un desequilibrio de clases de 80 20 por el momento correremos modelos de Logistic Regression, Decission Tree y Random Forest y analisaremos los resultados, en cada caso se realizara la codificacion necesaria para el modelo de Logistic Regression se hara la codificacion One Hot y en el caso del Decission Tree y Random Forest la codificacion de etiquetas y se dividiran los datos en conjuntos de entrenamiento y prueba."
   ]
  },
  {
   "cell_type": "markdown",
   "metadata": {},
   "source": [
    "## MODELOS CON DESEQUILIBRIO DE CLASES."
   ]
  },
  {
   "cell_type": "markdown",
   "metadata": {},
   "source": [
    "### LOGISTIC REGRESSION."
   ]
  },
  {
   "cell_type": "code",
   "execution_count": 57,
   "metadata": {},
   "outputs": [],
   "source": [
    "# Dividimos los conjuntos de entrenamiento y validacion.\n",
    "\n",
    "data_ohe = pd.get_dummies(data, drop_first=True)\n",
    "features_ohe = data_ohe.drop(['exited'], axis=1)\n",
    "target_ohe = data_ohe['exited']\n",
    "\n",
    "features_train_ohe, features_valid_ohe, target_train_ohe, target_valid_ohe = train_test_split(\n",
    "features_ohe, target_ohe, test_size = 0.25, random_state=12345)"
   ]
  },
  {
   "cell_type": "code",
   "execution_count": 58,
   "metadata": {
    "scrolled": true
   },
   "outputs": [
    {
     "name": "stdout",
     "output_type": "stream",
     "text": [
      "Accuracy:  0.7828\n",
      "\n",
      "[[1921   44]\n",
      " [ 499   36]]\n",
      "\n",
      "recall:  0.06728971962616823\n",
      "\n",
      "precision 0.45\n",
      "\n",
      "f1:  0.11707317073170732\n",
      "\n",
      "auc_roc 0.6760847542270101\n"
     ]
    }
   ],
   "source": [
    "# Entrenamos modelo de regresion logistica.\n",
    "model = LogisticRegression(random_state=12345, solver = 'liblinear')\n",
    "model.fit(features_train_ohe, target_train_ohe)\n",
    "predicted_valid_ohe = model.predict(features_valid_ohe)\n",
    "\n",
    "accuracy = accuracy_score(target_valid_ohe, predicted_valid_ohe)\n",
    "print(\"Accuracy: \", accuracy)\n",
    "print()\n",
    "print(confusion_matrix(target_valid_ohe, predicted_valid_ohe))\n",
    "print()\n",
    "print('recall: ', recall_score(target_valid_ohe, predicted_valid_ohe))\n",
    "print()\n",
    "print('precision', precision_score(target_valid_ohe, predicted_valid_ohe))\n",
    "print()\n",
    "f1_logistic_desq = f1_score(target_valid_ohe, predicted_valid_ohe)\n",
    "print('f1: ', f1_logistic_desq)\n",
    "print()\n",
    "\n",
    "probabilities_valid = model.predict_proba(features_valid_ohe)\n",
    "probabilities_one_valid = probabilities_valid[:,1]\n",
    "\n",
    "auc = roc_auc_score(target_valid_ohe, probabilities_one_valid)\n",
    "print('auc_roc',auc)"
   ]
  },
  {
   "cell_type": "markdown",
   "metadata": {},
   "source": [
    "Tenemos un valor muy bajo en f1 por lo que este modelo en con estos datos nos es completamente inservible."
   ]
  },
  {
   "cell_type": "markdown",
   "metadata": {},
   "source": [
    "### DECISION TREE."
   ]
  },
  {
   "cell_type": "code",
   "execution_count": 59,
   "metadata": {},
   "outputs": [],
   "source": [
    "# Dividimos conjuntos de entrenamiento y validacion.\n",
    "\n",
    "encoder = OrdinalEncoder()\n",
    "data_ordinal = pd.DataFrame(encoder.fit_transform(data), columns=data.columns)\n",
    "features_or = data_ordinal.drop(['exited'], axis=1)\n",
    "target_or = data_ordinal['exited']\n",
    "\n",
    "features_train_or, features_valid_or, target_train_or, target_valid_or = train_test_split(\n",
    "features_or, target_or, test_size = 0.25, random_state=12345)"
   ]
  },
  {
   "cell_type": "code",
   "execution_count": 60,
   "metadata": {},
   "outputs": [
    {
     "name": "stdout",
     "output_type": "stream",
     "text": [
      "max_depth = 7, score = 0.8528\n"
     ]
    }
   ],
   "source": [
    "# Entrenamos modelo Decision Tree.\n",
    "\n",
    "best_depth=0\n",
    "best_score=0\n",
    "\n",
    "for depth in range(1, 21):\n",
    "    model = DecisionTreeClassifier(max_depth = depth, random_state = 12345)\n",
    "    model.fit(features_train_or, target_train_or)\n",
    "    predict_valid_or = model.predict(features_valid_or)\n",
    "    \n",
    "    score = model.score(features_valid_or, target_valid_or)\n",
    "    \n",
    "    if score > best_score:\n",
    "        best_score = score\n",
    "        best_depth = depth\n",
    "        \n",
    "print('max_depth = {}, score = {}'.format(best_depth, best_score))\n",
    "\n",
    "best_score = 0\n",
    "best_depth = 0"
   ]
  },
  {
   "cell_type": "code",
   "execution_count": 61,
   "metadata": {
    "scrolled": false
   },
   "outputs": [
    {
     "name": "stdout",
     "output_type": "stream",
     "text": [
      "Accuracy:  0.8528\n",
      "\n",
      "[[1911   54]\n",
      " [ 314  221]]\n",
      "\n",
      "recall:  0.4130841121495327\n",
      "\n",
      "precision 0.8036363636363636\n",
      "\n",
      "f1:  0.5456790123456791\n",
      "\n",
      "auc_roc 0.828774583244156\n"
     ]
    }
   ],
   "source": [
    "# Resultados de las metricas.\n",
    "model = DecisionTreeClassifier(max_depth = 7, random_state = 12345)\n",
    "model.fit(features_train_or, target_train_or)\n",
    "predicted_valid_or = model.predict(features_valid_or)\n",
    "\n",
    "accuracy = accuracy_score(target_valid_or, predicted_valid_or)\n",
    "print(\"Accuracy: \", accuracy)\n",
    "print()\n",
    "print(confusion_matrix(target_valid_or, predicted_valid_or))\n",
    "print()\n",
    "print('recall: ', recall_score(target_valid_or, predicted_valid_or))\n",
    "print()\n",
    "print('precision', precision_score(target_valid_or, predicted_valid_or))\n",
    "print()\n",
    "f1_tree_desq = f1_score(target_valid_or, predicted_valid_or)\n",
    "print('f1: ', f1_tree_desq)\n",
    "print()\n",
    "\n",
    "probabilities_valid = model.predict_proba(features_valid_or)\n",
    "probabilities_one_valid = probabilities_valid[:,1]\n",
    "\n",
    "auc = roc_auc_score(target_valid_or, probabilities_one_valid)\n",
    "print('auc_roc',auc)"
   ]
  },
  {
   "cell_type": "markdown",
   "metadata": {},
   "source": [
    "Los resultados mejoraron con respecto al modelo anterior pero sigue estando por debajo de lo que necesitamos."
   ]
  },
  {
   "cell_type": "markdown",
   "metadata": {},
   "source": [
    "### RANDOM FOREST."
   ]
  },
  {
   "cell_type": "code",
   "execution_count": 62,
   "metadata": {},
   "outputs": [
    {
     "name": "stdout",
     "output_type": "stream",
     "text": [
      "Accuracy del mejor modelo de validacion (score= 0.8556, n_estimators= 31, depth= 13\n"
     ]
    }
   ],
   "source": [
    "# Entrenamos modelo random forest.\n",
    "best_score=0\n",
    "best_est =0\n",
    "best_depth = 0\n",
    "\n",
    "for est in range(1, 41, 10):\n",
    "    for depth in range(1,21):\n",
    "        model = RandomForestClassifier(random_state=12345, n_estimators=est, max_depth=depth)\n",
    "        model.fit(features_train_or, target_train_or)\n",
    "        score = model.score(features_valid_or, target_valid_or)\n",
    "    \n",
    "        if score > best_score:\n",
    "            best_score = score\n",
    "            best_est = est\n",
    "            best_depth = depth\n",
    "    \n",
    "print('Accuracy del mejor modelo de validacion (score= {}, n_estimators= {}, depth= {}'.format(best_score, best_est, best_depth))"
   ]
  },
  {
   "cell_type": "code",
   "execution_count": 63,
   "metadata": {
    "scrolled": false
   },
   "outputs": [
    {
     "name": "stdout",
     "output_type": "stream",
     "text": [
      "Accuracy:  0.8556\n",
      "\n",
      "[[1906   59]\n",
      " [ 302  233]]\n",
      "\n",
      "recall:  0.4355140186915888\n",
      "\n",
      "precision 0.797945205479452\n",
      "\n",
      "f1:  0.5634824667472794\n",
      "\n",
      "auc_roc 0.8534351145038168\n"
     ]
    }
   ],
   "source": [
    "# Resultados de las metricas.\n",
    "model = RandomForestClassifier(random_state=12345, n_estimators=31, max_depth=13)\n",
    "model.fit(features_train_or, target_train_or)\n",
    "predicted_valid_or = model.predict(features_valid_or)\n",
    "\n",
    "accuracy = accuracy_score(target_valid_or, predicted_valid_or)\n",
    "print(\"Accuracy: \", accuracy)\n",
    "print()\n",
    "print(confusion_matrix(target_valid_or, predicted_valid_or))\n",
    "print()\n",
    "print('recall: ', recall_score(target_valid_or, predicted_valid_or))\n",
    "print()\n",
    "print('precision', precision_score(target_valid_or, predicted_valid_or))\n",
    "print()\n",
    "f1_forest_desq = f1_score(target_valid_or, predicted_valid_or)\n",
    "print('f1: ', f1_forest_desq)\n",
    "print()\n",
    "\n",
    "probabilities_valid = model.predict_proba(features_valid_or)\n",
    "probabilities_one_valid = probabilities_valid[:,1]\n",
    "\n",
    "auc = roc_auc_score(target_valid_or, probabilities_one_valid)\n",
    "print('auc_roc',auc)"
   ]
  },
  {
   "cell_type": "markdown",
   "metadata": {},
   "source": [
    "Aqui tenemos los mejores valores comparado con los modelos anteriores pero aun falta mejorar para llegar al valor f1 que nos piden."
   ]
  },
  {
   "cell_type": "markdown",
   "metadata": {},
   "source": [
    "### CONCLUSION.\n",
    "\n",
    "Despues de realiar las validaciones con los tres modelos vemos que ninguno nos da un valor f1 mayor al que nos solicitan, en el caso de la Regresion Logistica tenemos los peores resultados en todas las metricas y en el caso de Decision tree y Random Forest los valores se elevan incluso tenemos resultados de precision de .82 pero el valor f1 es de .54, ademas podemos ver como el valor auc en todos los casos es mucho mayor que el f1 como en el caso de la regresion logistica don de el valor f1 es de .11 y el auc es de .67, por lo que se realizara las pruebas en los modelos con los enfoques de ajuste de pesos, subajuste y sobreajuste y se analizaran los resultados."
   ]
  },
  {
   "cell_type": "markdown",
   "metadata": {},
   "source": [
    "## AJUSTE DE PESOS."
   ]
  },
  {
   "cell_type": "markdown",
   "metadata": {},
   "source": [
    "### LOGISTIC REGRESSION."
   ]
  },
  {
   "cell_type": "code",
   "execution_count": 64,
   "metadata": {
    "scrolled": false
   },
   "outputs": [
    {
     "name": "stdout",
     "output_type": "stream",
     "text": [
      "Accuracy:  0.686\n",
      "\n",
      "[[1336  629]\n",
      " [ 156  379]]\n",
      "\n",
      "recall:  0.708411214953271\n",
      "\n",
      "precision 0.3759920634920635\n",
      "\n",
      "f1:  0.491250810110175\n",
      "\n",
      "auc_roc 0.7563691707688284\n"
     ]
    }
   ],
   "source": [
    "# Modelo Regresion Logistica con ajuste de pesos.\n",
    "model = LogisticRegression(random_state=12345, solver = 'liblinear', class_weight = 'balanced')\n",
    "model.fit(features_train_ohe, target_train_ohe)\n",
    "predicted_valid_ohe = model.predict(features_valid_ohe)\n",
    "\n",
    "accuracy = accuracy_score(target_valid_ohe, predicted_valid_ohe)\n",
    "print(\"Accuracy: \", accuracy)\n",
    "print()\n",
    "print(confusion_matrix(target_valid_ohe, predicted_valid_ohe))\n",
    "print()\n",
    "print('recall: ', recall_score(target_valid_ohe, predicted_valid_ohe))\n",
    "print()\n",
    "print('precision', precision_score(target_valid_ohe, predicted_valid_ohe))\n",
    "print()\n",
    "f1_logistic_ajuste = f1_score(target_valid_ohe, predicted_valid_ohe)\n",
    "print('f1: ', f1_logistic_ajuste)\n",
    "print()\n",
    "\n",
    "probabilities_valid = model.predict_proba(features_valid_ohe)\n",
    "probabilities_one_valid = probabilities_valid[:,1]\n",
    "\n",
    "auc = roc_auc_score(target_valid_ohe, probabilities_one_valid)\n",
    "print('auc_roc',auc)"
   ]
  },
  {
   "cell_type": "markdown",
   "metadata": {},
   "source": [
    "Vemos una mejora significativa con el modelo con desequilibrio de clases."
   ]
  },
  {
   "cell_type": "markdown",
   "metadata": {},
   "source": [
    "### DECISION TREE"
   ]
  },
  {
   "cell_type": "code",
   "execution_count": 65,
   "metadata": {},
   "outputs": [
    {
     "name": "stdout",
     "output_type": "stream",
     "text": [
      "max_depth = 5, score = 0.8024\n"
     ]
    }
   ],
   "source": [
    "# modelo decision tree con ajuste de pesos\n",
    "best_depth=0\n",
    "best_score=0\n",
    "\n",
    "for depth in range(1, 21):\n",
    "    model = DecisionTreeClassifier(max_depth = depth, random_state = 12345, class_weight='balanced')\n",
    "    model.fit(features_train_or, target_train_or)\n",
    "    predict_valid_or = model.predict(features_valid_or)\n",
    "    \n",
    "    score = model.score(features_valid_or, target_valid_or)\n",
    "    \n",
    "    if score > best_score:\n",
    "        best_score = score\n",
    "        best_depth = depth\n",
    "        \n",
    "print('max_depth = {}, score = {}'.format(best_depth, best_score))\n",
    "\n",
    "best_score = 0\n",
    "best_depth = 0"
   ]
  },
  {
   "cell_type": "code",
   "execution_count": 66,
   "metadata": {
    "scrolled": false
   },
   "outputs": [
    {
     "name": "stdout",
     "output_type": "stream",
     "text": [
      "Accuracy:  0.8024\n",
      "\n",
      "[[1633  332]\n",
      " [ 162  373]]\n",
      "\n",
      "recall:  0.697196261682243\n",
      "\n",
      "precision 0.5290780141843971\n",
      "\n",
      "f1:  0.6016129032258064\n",
      "\n",
      "auc_roc 0.8414125704501676\n"
     ]
    }
   ],
   "source": [
    "model = DecisionTreeClassifier(max_depth = 5, random_state = 12345, class_weight='balanced')\n",
    "model.fit(features_train_or, target_train_or)\n",
    "predicted_valid_or = model.predict(features_valid_or)\n",
    "\n",
    "accuracy = accuracy_score(target_valid_or, predicted_valid_or)\n",
    "print(\"Accuracy: \", accuracy)\n",
    "print()\n",
    "print(confusion_matrix(target_valid_or, predicted_valid_or))\n",
    "print()\n",
    "print('recall: ', recall_score(target_valid_or, predicted_valid_or))\n",
    "print()\n",
    "print('precision', precision_score(target_valid_or, predicted_valid_or))\n",
    "print()\n",
    "f1_tree_ajuste = f1_score(target_valid_or, predicted_valid_or)\n",
    "print('f1: ', f1_tree_ajuste)\n",
    "print()\n",
    "\n",
    "probabilities_valid = model.predict_proba(features_valid_or)\n",
    "probabilities_one_valid = probabilities_valid[:,1]\n",
    "\n",
    "auc = roc_auc_score(target_valid_or, probabilities_one_valid)\n",
    "print('auc_roc',auc)"
   ]
  },
  {
   "cell_type": "markdown",
   "metadata": {},
   "source": [
    "En este caso tambien mejoro el modelo un poco comparado con los datos desequilibrados pero no llega al valor f1 que necesitamos."
   ]
  },
  {
   "cell_type": "markdown",
   "metadata": {},
   "source": [
    "### RANDOM FOREST"
   ]
  },
  {
   "cell_type": "code",
   "execution_count": 67,
   "metadata": {},
   "outputs": [
    {
     "name": "stdout",
     "output_type": "stream",
     "text": [
      "Accuracy del mejor modelo de validacion (score= 0.8556, n_estimators= 31, depth= 13\n"
     ]
    }
   ],
   "source": [
    "# Modelo random forest con ajuste de pesos\n",
    "best_score=0\n",
    "best_est =0\n",
    "best_depth = 0\n",
    "\n",
    "for est in range(1, 41, 10):\n",
    "    for depth in range(1,21):\n",
    "        model = RandomForestClassifier(random_state=12345, n_estimators=est, max_depth=depth)\n",
    "        model.fit(features_train_or, target_train_or)\n",
    "        score = model.score(features_valid_or, target_valid_or)\n",
    "    \n",
    "        if score > best_score:\n",
    "            best_score = score\n",
    "            best_est = est\n",
    "            best_depth = depth\n",
    "    \n",
    "print('Accuracy del mejor modelo de validacion (score= {}, n_estimators= {}, depth= {}'.format(best_score, best_est, best_depth))"
   ]
  },
  {
   "cell_type": "code",
   "execution_count": 68,
   "metadata": {
    "scrolled": true
   },
   "outputs": [
    {
     "name": "stdout",
     "output_type": "stream",
     "text": [
      "Accuracy:  0.8516\n",
      "\n",
      "[[1844  121]\n",
      " [ 250  285]]\n",
      "\n",
      "recall:  0.5327102803738317\n",
      "\n",
      "precision 0.7019704433497537\n",
      "\n",
      "f1:  0.6057385759829967\n",
      "\n",
      "auc_roc 0.8486785094290268\n"
     ]
    }
   ],
   "source": [
    "model = RandomForestClassifier(random_state=12345, n_estimators=31, max_depth=13, class_weight='balanced')\n",
    "model.fit(features_train_or, target_train_or)\n",
    "predicted_valid_or = model.predict(features_valid_or)\n",
    "\n",
    "accuracy = accuracy_score(target_valid_or, predicted_valid_or)\n",
    "print(\"Accuracy: \", accuracy)\n",
    "print()\n",
    "print(confusion_matrix(target_valid_or, predicted_valid_or))\n",
    "print()\n",
    "print('recall: ', recall_score(target_valid_or, predicted_valid_or))\n",
    "print()\n",
    "print('precision', precision_score(target_valid_or, predicted_valid_or))\n",
    "print()\n",
    "f1_forest_ajuste = f1_score(target_valid_or, predicted_valid_or)\n",
    "print('f1: ', f1_forest_ajuste)\n",
    "print()\n",
    "\n",
    "probabilities_valid = model.predict_proba(features_valid_or)\n",
    "probabilities_one_valid = probabilities_valid[:,1]\n",
    "\n",
    "auc = roc_auc_score(target_valid_or, probabilities_one_valid)\n",
    "print('auc_roc',auc)"
   ]
  },
  {
   "cell_type": "markdown",
   "metadata": {},
   "source": [
    "Tambien vemos una mejora en el modelo e incluso hemos llegado al valor f1 que nos solicitan."
   ]
  },
  {
   "cell_type": "markdown",
   "metadata": {},
   "source": [
    "### CONCLUSION.\n",
    "\n",
    "El ajuste de pesos ayudo a mejorar el resultado de las metricas en general incluyendo a f1 y auc, en el caso de la regresion logistica don de el f1 era de .11 subio a .49 con el balance de clases y en el caso de random forest ya estamos sobre el resultado que se nos solicita que era de .59 y obtuvimos .60, sin embargo se realiaran las pruebas de suajuste y sobreajuste para ver cuanto podemos mejorar los modelos."
   ]
  },
  {
   "cell_type": "markdown",
   "metadata": {},
   "source": [
    "## SUBMUESTREO\n",
    "\n",
    "En el caso de submuestreo y sobremuestreo ya no incluiremos la metrica accuracy y dejaremos solo las otras que manejamos ademas de incluir la grafica del auc_roc y tendremos ahora conjuntos de entrenamiento, validacion y prueba para que al final tomemos el modelo con los mejores resultados y hagamos una prueba final."
   ]
  },
  {
   "cell_type": "code",
   "execution_count": 89,
   "metadata": {},
   "outputs": [
    {
     "name": "stdout",
     "output_type": "stream",
     "text": [
      "(7963, 11)\n",
      "(2037, 11)\n"
     ]
    }
   ],
   "source": [
    "# Creamos variables cada una con las cantidades de cada clase en la columna exited y dos nuevos Dataframes \n",
    "#con los valores de cada clase.\n",
    "count_class_0, count_class_1 = data.exited.value_counts()\n",
    "data_class_0 = data[data['exited'] == 0]\n",
    "data_class_1 = data[data['exited'] == 1]\n",
    "\n",
    "print(data_class_0.shape)\n",
    "print(data_class_1.shape)"
   ]
  },
  {
   "cell_type": "code",
   "execution_count": 90,
   "metadata": {},
   "outputs": [
    {
     "name": "stdout",
     "output_type": "stream",
     "text": [
      "0    2037\n",
      "1    2037\n",
      "Name: exited, dtype: int64\n"
     ]
    }
   ],
   "source": [
    "# Creamos un dataframe uniendo los dos anteriores que creamos.\n",
    "data_class_0_under = data_class_0.sample(count_class_1) #Tomamos una muestra de valores de clase 0 con el mismo numero de la clase 1.\n",
    "\n",
    "data_test_under = pd.concat([data_class_0_under, data_class_1], axis=0)\n",
    "\n",
    "print(data_test_under.exited.value_counts())"
   ]
  },
  {
   "cell_type": "code",
   "execution_count": 91,
   "metadata": {
    "scrolled": true
   },
   "outputs": [
    {
     "data": {
      "text/html": [
       "<div>\n",
       "<style scoped>\n",
       "    .dataframe tbody tr th:only-of-type {\n",
       "        vertical-align: middle;\n",
       "    }\n",
       "\n",
       "    .dataframe tbody tr th {\n",
       "        vertical-align: top;\n",
       "    }\n",
       "\n",
       "    .dataframe thead th {\n",
       "        text-align: right;\n",
       "    }\n",
       "</style>\n",
       "<table border=\"1\" class=\"dataframe\">\n",
       "  <thead>\n",
       "    <tr style=\"text-align: right;\">\n",
       "      <th></th>\n",
       "      <th>credit_score</th>\n",
       "      <th>geography</th>\n",
       "      <th>gender</th>\n",
       "      <th>age</th>\n",
       "      <th>tenure</th>\n",
       "      <th>balance</th>\n",
       "      <th>num_of_products</th>\n",
       "      <th>has_cr_card</th>\n",
       "      <th>is_active_member</th>\n",
       "      <th>estimated_salary</th>\n",
       "      <th>exited</th>\n",
       "    </tr>\n",
       "  </thead>\n",
       "  <tbody>\n",
       "    <tr>\n",
       "      <th>3242</th>\n",
       "      <td>411</td>\n",
       "      <td>France</td>\n",
       "      <td>Female</td>\n",
       "      <td>36</td>\n",
       "      <td>10.0</td>\n",
       "      <td>0.00</td>\n",
       "      <td>1</td>\n",
       "      <td>0</td>\n",
       "      <td>0</td>\n",
       "      <td>120694.35</td>\n",
       "      <td>0</td>\n",
       "    </tr>\n",
       "    <tr>\n",
       "      <th>2433</th>\n",
       "      <td>759</td>\n",
       "      <td>Spain</td>\n",
       "      <td>Female</td>\n",
       "      <td>74</td>\n",
       "      <td>6.0</td>\n",
       "      <td>128917.84</td>\n",
       "      <td>1</td>\n",
       "      <td>1</td>\n",
       "      <td>1</td>\n",
       "      <td>48244.64</td>\n",
       "      <td>0</td>\n",
       "    </tr>\n",
       "    <tr>\n",
       "      <th>6027</th>\n",
       "      <td>850</td>\n",
       "      <td>Germany</td>\n",
       "      <td>Male</td>\n",
       "      <td>44</td>\n",
       "      <td>3.0</td>\n",
       "      <td>140393.65</td>\n",
       "      <td>2</td>\n",
       "      <td>0</td>\n",
       "      <td>1</td>\n",
       "      <td>186285.52</td>\n",
       "      <td>0</td>\n",
       "    </tr>\n",
       "    <tr>\n",
       "      <th>264</th>\n",
       "      <td>738</td>\n",
       "      <td>Spain</td>\n",
       "      <td>Male</td>\n",
       "      <td>31</td>\n",
       "      <td>5.0</td>\n",
       "      <td>79019.80</td>\n",
       "      <td>1</td>\n",
       "      <td>1</td>\n",
       "      <td>1</td>\n",
       "      <td>18606.23</td>\n",
       "      <td>0</td>\n",
       "    </tr>\n",
       "    <tr>\n",
       "      <th>6825</th>\n",
       "      <td>529</td>\n",
       "      <td>Spain</td>\n",
       "      <td>Female</td>\n",
       "      <td>44</td>\n",
       "      <td>1.0</td>\n",
       "      <td>0.00</td>\n",
       "      <td>2</td>\n",
       "      <td>0</td>\n",
       "      <td>0</td>\n",
       "      <td>14161.30</td>\n",
       "      <td>0</td>\n",
       "    </tr>\n",
       "    <tr>\n",
       "      <th>...</th>\n",
       "      <td>...</td>\n",
       "      <td>...</td>\n",
       "      <td>...</td>\n",
       "      <td>...</td>\n",
       "      <td>...</td>\n",
       "      <td>...</td>\n",
       "      <td>...</td>\n",
       "      <td>...</td>\n",
       "      <td>...</td>\n",
       "      <td>...</td>\n",
       "      <td>...</td>\n",
       "    </tr>\n",
       "    <tr>\n",
       "      <th>9981</th>\n",
       "      <td>498</td>\n",
       "      <td>Germany</td>\n",
       "      <td>Male</td>\n",
       "      <td>42</td>\n",
       "      <td>3.0</td>\n",
       "      <td>152039.70</td>\n",
       "      <td>1</td>\n",
       "      <td>1</td>\n",
       "      <td>1</td>\n",
       "      <td>53445.17</td>\n",
       "      <td>1</td>\n",
       "    </tr>\n",
       "    <tr>\n",
       "      <th>9982</th>\n",
       "      <td>655</td>\n",
       "      <td>Germany</td>\n",
       "      <td>Female</td>\n",
       "      <td>46</td>\n",
       "      <td>7.0</td>\n",
       "      <td>137145.12</td>\n",
       "      <td>1</td>\n",
       "      <td>1</td>\n",
       "      <td>0</td>\n",
       "      <td>115146.40</td>\n",
       "      <td>1</td>\n",
       "    </tr>\n",
       "    <tr>\n",
       "      <th>9991</th>\n",
       "      <td>597</td>\n",
       "      <td>France</td>\n",
       "      <td>Female</td>\n",
       "      <td>53</td>\n",
       "      <td>4.0</td>\n",
       "      <td>88381.21</td>\n",
       "      <td>1</td>\n",
       "      <td>1</td>\n",
       "      <td>0</td>\n",
       "      <td>69384.71</td>\n",
       "      <td>1</td>\n",
       "    </tr>\n",
       "    <tr>\n",
       "      <th>9997</th>\n",
       "      <td>709</td>\n",
       "      <td>France</td>\n",
       "      <td>Female</td>\n",
       "      <td>36</td>\n",
       "      <td>7.0</td>\n",
       "      <td>0.00</td>\n",
       "      <td>1</td>\n",
       "      <td>0</td>\n",
       "      <td>1</td>\n",
       "      <td>42085.58</td>\n",
       "      <td>1</td>\n",
       "    </tr>\n",
       "    <tr>\n",
       "      <th>9998</th>\n",
       "      <td>772</td>\n",
       "      <td>Germany</td>\n",
       "      <td>Male</td>\n",
       "      <td>42</td>\n",
       "      <td>3.0</td>\n",
       "      <td>75075.31</td>\n",
       "      <td>2</td>\n",
       "      <td>1</td>\n",
       "      <td>0</td>\n",
       "      <td>92888.52</td>\n",
       "      <td>1</td>\n",
       "    </tr>\n",
       "  </tbody>\n",
       "</table>\n",
       "<p>4074 rows × 11 columns</p>\n",
       "</div>"
      ],
      "text/plain": [
       "      credit_score geography  gender  age  tenure    balance  num_of_products  \\\n",
       "3242           411    France  Female   36    10.0       0.00                1   \n",
       "2433           759     Spain  Female   74     6.0  128917.84                1   \n",
       "6027           850   Germany    Male   44     3.0  140393.65                2   \n",
       "264            738     Spain    Male   31     5.0   79019.80                1   \n",
       "6825           529     Spain  Female   44     1.0       0.00                2   \n",
       "...            ...       ...     ...  ...     ...        ...              ...   \n",
       "9981           498   Germany    Male   42     3.0  152039.70                1   \n",
       "9982           655   Germany  Female   46     7.0  137145.12                1   \n",
       "9991           597    France  Female   53     4.0   88381.21                1   \n",
       "9997           709    France  Female   36     7.0       0.00                1   \n",
       "9998           772   Germany    Male   42     3.0   75075.31                2   \n",
       "\n",
       "      has_cr_card  is_active_member  estimated_salary  exited  \n",
       "3242            0                 0         120694.35       0  \n",
       "2433            1                 1          48244.64       0  \n",
       "6027            0                 1         186285.52       0  \n",
       "264             1                 1          18606.23       0  \n",
       "6825            0                 0          14161.30       0  \n",
       "...           ...               ...               ...     ...  \n",
       "9981            1                 1          53445.17       1  \n",
       "9982            1                 0         115146.40       1  \n",
       "9991            1                 0          69384.71       1  \n",
       "9997            0                 1          42085.58       1  \n",
       "9998            1                 0          92888.52       1  \n",
       "\n",
       "[4074 rows x 11 columns]"
      ]
     },
     "execution_count": 91,
     "metadata": {},
     "output_type": "execute_result"
    }
   ],
   "source": [
    "# Mostramos nuevo DataFrame.\n",
    "data_test_under"
   ]
  },
  {
   "cell_type": "markdown",
   "metadata": {},
   "source": [
    "### LOGISTIC REGRESSION"
   ]
  },
  {
   "cell_type": "code",
   "execution_count": 72,
   "metadata": {
    "scrolled": false
   },
   "outputs": [
    {
     "name": "stdout",
     "output_type": "stream",
     "text": [
      "[[258 143]\n",
      " [135 279]]\n",
      "\n",
      "recall 0.6739130434782609\n",
      "\n",
      "precision 0.6611374407582938\n",
      "\n",
      "f1 0.6674641148325359\n",
      "\n",
      "auc_roc 0.712283301408315\n"
     ]
    },
    {
     "data": {
      "image/png": "[encoded data removed]",
      "text/plain": [
       "<Figure size 432x288 with 1 Axes>"
      ]
     },
     "metadata": {
      "needs_background": "light"
     },
     "output_type": "display_data"
    }
   ],
   "source": [
    "# Modelo logistic regression subajustado\n",
    "data_ohe = pd.get_dummies(data_test_under, drop_first=True)\n",
    "features = data_ohe.drop(['exited'], axis=1)\n",
    "target = data_ohe['exited']\n",
    "\n",
    "features_train, features_test, target_train, target_test = train_test_split(\n",
    "features, target, test_size = 0.20, random_state=12345)\n",
    "\n",
    "features_train, features_valid, target_train, target_valid = train_test_split(\n",
    "features_train, target_train, test_size = 0.25, random_state=12345)\n",
    "\n",
    "model = LogisticRegression(random_state=12345, solver = 'liblinear')\n",
    "model.fit(features_train, target_train)\n",
    "predicted_valid = model.predict(features_valid)\n",
    "\n",
    "print(confusion_matrix(target_valid, predicted_valid))\n",
    "print()\n",
    "print('recall', recall_score(target_valid, predicted_valid))\n",
    "print()\n",
    "print('precision', precision_score(target_valid, predicted_valid))\n",
    "print()\n",
    "f1_logistic_submuestreo = f1_score(target_valid, predicted_valid)\n",
    "print('f1', f1_logistic_submuestreo)\n",
    "print()\n",
    "\n",
    "probabilities_valid = model.predict_proba(features_valid)\n",
    "probabilities_one_valid = probabilities_valid[:,1]\n",
    "\n",
    "auc = roc_auc_score(target_valid, probabilities_one_valid)\n",
    "print('auc_roc', auc)\n",
    "\n",
    "fpr, tpr, thresholds = roc_curve(target_valid, probabilities_one_valid)\n",
    "\n",
    "plt.figure()\n",
    "plt.plot(fpr, tpr)\n",
    "plt.plot([0,1], [0,1], linestyle='--')\n",
    "plt.xlim(0.0, 1.0)\n",
    "plt.ylim(0.0, 1.0)\n",
    "plt.xlabel('Tasa de falsos positivos')\n",
    "plt.ylabel('Tasa de verdaderos positivos')\n",
    "plt.title('Curva ROC')\n",
    "plt.show()"
   ]
  },
  {
   "cell_type": "markdown",
   "metadata": {},
   "source": [
    "Vemos que con datos equilibrados en caso de submuestreo tambien con el modelo de regresion logistica que nos daba los peores resultados ya tambien en este momento sobrepasamos el valor f1 que necesitamos."
   ]
  },
  {
   "cell_type": "markdown",
   "metadata": {},
   "source": [
    "### DECISION TREE"
   ]
  },
  {
   "cell_type": "code",
   "execution_count": 73,
   "metadata": {},
   "outputs": [
    {
     "name": "stdout",
     "output_type": "stream",
     "text": [
      "max_depth = 6, score = 0.7717791411042945\n"
     ]
    }
   ],
   "source": [
    "# Modelo Desicion tree subajustado\n",
    "encoder = OrdinalEncoder()\n",
    "data_ordinal = pd.DataFrame(encoder.fit_transform(data_test_under), columns=data.columns)\n",
    "features = data_ordinal.drop(['exited'], axis=1)\n",
    "target = data_ordinal['exited']\n",
    "\n",
    "features_train, features_test, target_train, target_test = train_test_split(\n",
    "features, target, test_size = 0.20, random_state=12345)\n",
    "\n",
    "features_train, features_valid, target_train, target_valid = train_test_split(\n",
    "features_train, target_train, test_size = 0.25, random_state=12345)\n",
    "\n",
    "best_depth=0\n",
    "best_score=0\n",
    "\n",
    "for depth in range(1, 21):\n",
    "    model = DecisionTreeClassifier(max_depth = depth, random_state = 12345)\n",
    "    model.fit(features_train, target_train)\n",
    "    predict_valid = model.predict(features_valid)\n",
    "    \n",
    "    score = model.score(features_valid, target_valid)\n",
    "    \n",
    "    if score > best_score:\n",
    "        best_score = score\n",
    "        best_depth = depth\n",
    "        \n",
    "print('max_depth = {}, score = {}'.format(best_depth, best_score))\n",
    "\n",
    "best_score = 0\n",
    "best_depth = 0"
   ]
  },
  {
   "cell_type": "code",
   "execution_count": 92,
   "metadata": {
    "scrolled": false
   },
   "outputs": [
    {
     "name": "stdout",
     "output_type": "stream",
     "text": [
      "[[1212  388]\n",
      " [ 399 1186]]\n",
      "\n",
      "recall 0.7482649842271294\n",
      "\n",
      "precision 0.7534942820838628\n",
      "\n",
      "f1 0.7508705286483064\n",
      "\n",
      "auc_roc 0.8417874605678235\n"
     ]
    },
    {
     "data": {
      "image/png": "[encoded data removed]",
      "text/plain": [
       "<Figure size 432x288 with 1 Axes>"
      ]
     },
     "metadata": {
      "needs_background": "light"
     },
     "output_type": "display_data"
    }
   ],
   "source": [
    "model = DecisionTreeClassifier(max_depth = 6, random_state = 12345)\n",
    "model.fit(features_train, target_train)\n",
    "predicted_valid = model.predict(features_valid)\n",
    "\n",
    "print(confusion_matrix(target_valid, predicted_valid))\n",
    "print()\n",
    "print('recall', recall_score(target_valid, predicted_valid))\n",
    "print()\n",
    "print('precision', precision_score(target_valid, predicted_valid))\n",
    "print()\n",
    "f1_tree_submuestreo = f1_score(target_valid, predicted_valid)\n",
    "print('f1', f1_tree_submuestreo)\n",
    "print()\n",
    "\n",
    "probabilities_valid = model.predict_proba(features_valid)\n",
    "probabilities_one_valid = probabilities_valid[:,1]\n",
    "\n",
    "auc = roc_auc_score(target_valid, probabilities_one_valid)\n",
    "print('auc_roc', auc)\n",
    "\n",
    "fpr, tpr, thresholds = roc_curve(target_valid, probabilities_one_valid)\n",
    "\n",
    "plt.figure()\n",
    "plt.plot(fpr, tpr)\n",
    "plt.plot([0,1], [0,1], linestyle='--')\n",
    "plt.xlim(0.0, 1.0)\n",
    "plt.ylim(0.0, 1.0)\n",
    "plt.xlabel('Tasa de falsos positivos')\n",
    "plt.ylabel('Tasa de verdaderos positivos')\n",
    "plt.title('Curva ROC')\n",
    "plt.show()"
   ]
  },
  {
   "cell_type": "markdown",
   "metadata": {},
   "source": [
    "Este modelo tambien supero el valor f1 de .59 y vemos que con el submmuestreo los modelos y todas las metricas aumentan comparado con hacer un ajuste de pesos."
   ]
  },
  {
   "cell_type": "markdown",
   "metadata": {},
   "source": [
    "### RANDOM FOREST"
   ]
  },
  {
   "cell_type": "code",
   "execution_count": 75,
   "metadata": {},
   "outputs": [
    {
     "name": "stdout",
     "output_type": "stream",
     "text": [
      "Accuracy del mejor modelo de validacion (score= 0.7901840490797546, n_estimators= 11, depth= 17\n"
     ]
    }
   ],
   "source": [
    "# Modelo random forest subajustado\n",
    "for est in range(1, 41, 10):\n",
    "    for depth in range(1,21):\n",
    "        model = RandomForestClassifier(random_state=12345, n_estimators=est, max_depth=depth)\n",
    "        model.fit(features_train, target_train)\n",
    "        score = model.score(features_valid, target_valid)\n",
    "    \n",
    "        if score > best_score:\n",
    "            best_score = score\n",
    "            best_est = est\n",
    "            best_depth = depth\n",
    "    \n",
    "print('Accuracy del mejor modelo de validacion (score= {}, n_estimators= {}, depth= {}'.format(best_score, best_est, best_depth))"
   ]
  },
  {
   "cell_type": "code",
   "execution_count": 93,
   "metadata": {
    "scrolled": false
   },
   "outputs": [
    {
     "name": "stdout",
     "output_type": "stream",
     "text": [
      "[[1399  201]\n",
      " [  82 1503]]\n",
      "\n",
      "recall 0.9482649842271293\n",
      "\n",
      "precision 0.8820422535211268\n",
      "\n",
      "f1 0.9139556096077835\n",
      "\n",
      "auc_roc 0.9719505126182962\n"
     ]
    },
    {
     "data": {
      "image/png": "[encoded data removed]",
      "text/plain": [
       "<Figure size 432x288 with 1 Axes>"
      ]
     },
     "metadata": {
      "needs_background": "light"
     },
     "output_type": "display_data"
    }
   ],
   "source": [
    "model = RandomForestClassifier(random_state=12345, n_estimators=11, max_depth=17)\n",
    "model.fit(features_train, target_train)\n",
    "predicted_valid = model.predict(features_valid)\n",
    "\n",
    "print(confusion_matrix(target_valid, predicted_valid))\n",
    "print()\n",
    "print('recall', recall_score(target_valid, predicted_valid))\n",
    "print()\n",
    "print('precision', precision_score(target_valid, predicted_valid))\n",
    "print()\n",
    "f1_forest_submuestreo = f1_score(target_valid, predicted_valid)\n",
    "print('f1', f1_forest_submuestreo)\n",
    "print()\n",
    "\n",
    "probabilities_valid = model.predict_proba(features_valid)\n",
    "probabilities_one_valid = probabilities_valid[:,1]\n",
    "\n",
    "auc = roc_auc_score(target_valid, probabilities_one_valid)\n",
    "print('auc_roc', auc)\n",
    "\n",
    "fpr, tpr, thresholds = roc_curve(target_valid, probabilities_one_valid)\n",
    "\n",
    "plt.figure()\n",
    "plt.plot(fpr, tpr)\n",
    "plt.plot([0,1], [0,1], linestyle='--')\n",
    "plt.xlim(0.0, 1.0)\n",
    "plt.ylim(0.0, 1.0)\n",
    "plt.xlabel('Tasa de falsos positivos')\n",
    "plt.ylabel('Tasa de verdaderos positivos')\n",
    "plt.title('Curva ROC')\n",
    "plt.show()"
   ]
  },
  {
   "cell_type": "markdown",
   "metadata": {},
   "source": [
    "Nuevamente en el modelo random forest tenemos los mejores resultados en todos los resultados de las etricas y sobrepasamos por mucho el valor f1 necesario."
   ]
  },
  {
   "cell_type": "markdown",
   "metadata": {},
   "source": [
    "### CONCLUSION.\n",
    "\n",
    "Al hacer un submuestreo equilibrando las clases los resultados en general en todos los modelos mejoraron bastante y todos nuestros modelos superaron el valor f1 que nos piden siendo nuevamente el random forest el que enrega los mejores resultados."
   ]
  },
  {
   "cell_type": "markdown",
   "metadata": {},
   "source": [
    "## SOBREMUESTREO"
   ]
  },
  {
   "cell_type": "code",
   "execution_count": 94,
   "metadata": {},
   "outputs": [
    {
     "name": "stdout",
     "output_type": "stream",
     "text": [
      "(7963, 11)\n",
      "(2037, 11)\n"
     ]
    }
   ],
   "source": [
    "# Realizamos los mismos pasos que en el submuestreo creando dos variables y dos dataframes.\n",
    "count_class_0, count_class_1 = data.exited.value_counts()\n",
    "data_class_0 = data[data['exited'] == 0]\n",
    "data_class_1 = data[data['exited'] == 1]\n",
    "\n",
    "print(data_class_0.shape)\n",
    "print(data_class_1.shape)"
   ]
  },
  {
   "cell_type": "code",
   "execution_count": 95,
   "metadata": {
    "scrolled": true
   },
   "outputs": [
    {
     "data": {
      "text/plain": [
       "0    7963\n",
       "1    7963\n",
       "Name: exited, dtype: int64"
      ]
     },
     "execution_count": 95,
     "metadata": {},
     "output_type": "execute_result"
    }
   ],
   "source": [
    "# Unimos nuestros dataframes que acabamos de crear para tener uno con mas muestras de la clase 1 y que este equilibrado.\n",
    "data_class_1_over = data_class_1.sample(count_class_0, replace =True)\n",
    "\n",
    "data_test_over = pd.concat([data_class_0, data_class_1_over], axis=0)\n",
    "\n",
    "data_test_over.exited.value_counts()"
   ]
  },
  {
   "cell_type": "code",
   "execution_count": 96,
   "metadata": {},
   "outputs": [
    {
     "data": {
      "text/html": [
       "<div>\n",
       "<style scoped>\n",
       "    .dataframe tbody tr th:only-of-type {\n",
       "        vertical-align: middle;\n",
       "    }\n",
       "\n",
       "    .dataframe tbody tr th {\n",
       "        vertical-align: top;\n",
       "    }\n",
       "\n",
       "    .dataframe thead th {\n",
       "        text-align: right;\n",
       "    }\n",
       "</style>\n",
       "<table border=\"1\" class=\"dataframe\">\n",
       "  <thead>\n",
       "    <tr style=\"text-align: right;\">\n",
       "      <th></th>\n",
       "      <th>credit_score</th>\n",
       "      <th>geography</th>\n",
       "      <th>gender</th>\n",
       "      <th>age</th>\n",
       "      <th>tenure</th>\n",
       "      <th>balance</th>\n",
       "      <th>num_of_products</th>\n",
       "      <th>has_cr_card</th>\n",
       "      <th>is_active_member</th>\n",
       "      <th>estimated_salary</th>\n",
       "      <th>exited</th>\n",
       "    </tr>\n",
       "  </thead>\n",
       "  <tbody>\n",
       "    <tr>\n",
       "      <th>1</th>\n",
       "      <td>608</td>\n",
       "      <td>Spain</td>\n",
       "      <td>Female</td>\n",
       "      <td>41</td>\n",
       "      <td>1.0</td>\n",
       "      <td>83807.86</td>\n",
       "      <td>1</td>\n",
       "      <td>0</td>\n",
       "      <td>1</td>\n",
       "      <td>112542.58</td>\n",
       "      <td>0</td>\n",
       "    </tr>\n",
       "    <tr>\n",
       "      <th>3</th>\n",
       "      <td>699</td>\n",
       "      <td>France</td>\n",
       "      <td>Female</td>\n",
       "      <td>39</td>\n",
       "      <td>1.0</td>\n",
       "      <td>0.00</td>\n",
       "      <td>2</td>\n",
       "      <td>0</td>\n",
       "      <td>0</td>\n",
       "      <td>93826.63</td>\n",
       "      <td>0</td>\n",
       "    </tr>\n",
       "    <tr>\n",
       "      <th>4</th>\n",
       "      <td>850</td>\n",
       "      <td>Spain</td>\n",
       "      <td>Female</td>\n",
       "      <td>43</td>\n",
       "      <td>2.0</td>\n",
       "      <td>125510.82</td>\n",
       "      <td>1</td>\n",
       "      <td>1</td>\n",
       "      <td>1</td>\n",
       "      <td>79084.10</td>\n",
       "      <td>0</td>\n",
       "    </tr>\n",
       "    <tr>\n",
       "      <th>6</th>\n",
       "      <td>822</td>\n",
       "      <td>France</td>\n",
       "      <td>Male</td>\n",
       "      <td>50</td>\n",
       "      <td>7.0</td>\n",
       "      <td>0.00</td>\n",
       "      <td>2</td>\n",
       "      <td>1</td>\n",
       "      <td>1</td>\n",
       "      <td>10062.80</td>\n",
       "      <td>0</td>\n",
       "    </tr>\n",
       "    <tr>\n",
       "      <th>8</th>\n",
       "      <td>501</td>\n",
       "      <td>France</td>\n",
       "      <td>Male</td>\n",
       "      <td>44</td>\n",
       "      <td>4.0</td>\n",
       "      <td>142051.07</td>\n",
       "      <td>2</td>\n",
       "      <td>0</td>\n",
       "      <td>1</td>\n",
       "      <td>74940.50</td>\n",
       "      <td>0</td>\n",
       "    </tr>\n",
       "    <tr>\n",
       "      <th>...</th>\n",
       "      <td>...</td>\n",
       "      <td>...</td>\n",
       "      <td>...</td>\n",
       "      <td>...</td>\n",
       "      <td>...</td>\n",
       "      <td>...</td>\n",
       "      <td>...</td>\n",
       "      <td>...</td>\n",
       "      <td>...</td>\n",
       "      <td>...</td>\n",
       "      <td>...</td>\n",
       "    </tr>\n",
       "    <tr>\n",
       "      <th>1534</th>\n",
       "      <td>573</td>\n",
       "      <td>Germany</td>\n",
       "      <td>Female</td>\n",
       "      <td>47</td>\n",
       "      <td>4.0</td>\n",
       "      <td>152522.47</td>\n",
       "      <td>1</td>\n",
       "      <td>0</td>\n",
       "      <td>1</td>\n",
       "      <td>164038.07</td>\n",
       "      <td>1</td>\n",
       "    </tr>\n",
       "    <tr>\n",
       "      <th>5535</th>\n",
       "      <td>648</td>\n",
       "      <td>Germany</td>\n",
       "      <td>Female</td>\n",
       "      <td>32</td>\n",
       "      <td>8.0</td>\n",
       "      <td>157138.99</td>\n",
       "      <td>3</td>\n",
       "      <td>1</td>\n",
       "      <td>0</td>\n",
       "      <td>190994.48</td>\n",
       "      <td>1</td>\n",
       "    </tr>\n",
       "    <tr>\n",
       "      <th>5087</th>\n",
       "      <td>740</td>\n",
       "      <td>Spain</td>\n",
       "      <td>Male</td>\n",
       "      <td>43</td>\n",
       "      <td>9.0</td>\n",
       "      <td>0.00</td>\n",
       "      <td>1</td>\n",
       "      <td>1</td>\n",
       "      <td>0</td>\n",
       "      <td>199290.68</td>\n",
       "      <td>1</td>\n",
       "    </tr>\n",
       "    <tr>\n",
       "      <th>2813</th>\n",
       "      <td>758</td>\n",
       "      <td>France</td>\n",
       "      <td>Female</td>\n",
       "      <td>52</td>\n",
       "      <td>7.0</td>\n",
       "      <td>125095.94</td>\n",
       "      <td>1</td>\n",
       "      <td>1</td>\n",
       "      <td>0</td>\n",
       "      <td>171189.83</td>\n",
       "      <td>1</td>\n",
       "    </tr>\n",
       "    <tr>\n",
       "      <th>4243</th>\n",
       "      <td>768</td>\n",
       "      <td>France</td>\n",
       "      <td>Female</td>\n",
       "      <td>26</td>\n",
       "      <td>5.0</td>\n",
       "      <td>51116.26</td>\n",
       "      <td>1</td>\n",
       "      <td>1</td>\n",
       "      <td>1</td>\n",
       "      <td>70454.79</td>\n",
       "      <td>1</td>\n",
       "    </tr>\n",
       "  </tbody>\n",
       "</table>\n",
       "<p>15926 rows × 11 columns</p>\n",
       "</div>"
      ],
      "text/plain": [
       "      credit_score geography  gender  age  tenure    balance  num_of_products  \\\n",
       "1              608     Spain  Female   41     1.0   83807.86                1   \n",
       "3              699    France  Female   39     1.0       0.00                2   \n",
       "4              850     Spain  Female   43     2.0  125510.82                1   \n",
       "6              822    France    Male   50     7.0       0.00                2   \n",
       "8              501    France    Male   44     4.0  142051.07                2   \n",
       "...            ...       ...     ...  ...     ...        ...              ...   \n",
       "1534           573   Germany  Female   47     4.0  152522.47                1   \n",
       "5535           648   Germany  Female   32     8.0  157138.99                3   \n",
       "5087           740     Spain    Male   43     9.0       0.00                1   \n",
       "2813           758    France  Female   52     7.0  125095.94                1   \n",
       "4243           768    France  Female   26     5.0   51116.26                1   \n",
       "\n",
       "      has_cr_card  is_active_member  estimated_salary  exited  \n",
       "1               0                 1         112542.58       0  \n",
       "3               0                 0          93826.63       0  \n",
       "4               1                 1          79084.10       0  \n",
       "6               1                 1          10062.80       0  \n",
       "8               0                 1          74940.50       0  \n",
       "...           ...               ...               ...     ...  \n",
       "1534            0                 1         164038.07       1  \n",
       "5535            1                 0         190994.48       1  \n",
       "5087            1                 0         199290.68       1  \n",
       "2813            1                 0         171189.83       1  \n",
       "4243            1                 1          70454.79       1  \n",
       "\n",
       "[15926 rows x 11 columns]"
      ]
     },
     "execution_count": 96,
     "metadata": {},
     "output_type": "execute_result"
    }
   ],
   "source": [
    "data_test_over"
   ]
  },
  {
   "cell_type": "markdown",
   "metadata": {},
   "source": [
    "### LOGISTIC REGRESSION"
   ]
  },
  {
   "cell_type": "code",
   "execution_count": 80,
   "metadata": {
    "scrolled": false
   },
   "outputs": [
    {
     "name": "stdout",
     "output_type": "stream",
     "text": [
      "[[1084  516]\n",
      " [ 502 1083]]\n",
      "\n",
      "recall 0.6832807570977918\n",
      "\n",
      "precision 0.6772983114446529\n",
      "\n",
      "f1 0.6802763819095478\n",
      "\n",
      "auc_roc 0.7302354100946372\n"
     ]
    },
    {
     "data": {
      "image/png": "[encoded data removed]",
      "text/plain": [
       "<Figure size 432x288 with 1 Axes>"
      ]
     },
     "metadata": {
      "needs_background": "light"
     },
     "output_type": "display_data"
    }
   ],
   "source": [
    "# Modelo logistic regression sobreajustado\n",
    "data_ohe = pd.get_dummies(data_test_over, drop_first=True)\n",
    "features = data_ohe.drop(['exited'], axis=1)\n",
    "target = data_ohe['exited']\n",
    "\n",
    "features_train, features_test, target_train, target_test = train_test_split(\n",
    "features, target, test_size = 0.20, random_state=12345)\n",
    "\n",
    "features_train, features_valid, target_train, target_valid = train_test_split(\n",
    "features_train, target_train, test_size = 0.25, random_state=12345)\n",
    "\n",
    "model = LogisticRegression(random_state=12345, solver = 'liblinear')\n",
    "model.fit(features_train, target_train)\n",
    "predicted_valid = model.predict(features_valid)\n",
    "\n",
    "print(confusion_matrix(target_valid, predicted_valid))\n",
    "print()\n",
    "print('recall', recall_score(target_valid, predicted_valid))\n",
    "print()\n",
    "print('precision', precision_score(target_valid, predicted_valid))\n",
    "print()\n",
    "f1_logistic_sobremuestreo = f1_score(target_valid, predicted_valid)\n",
    "print('f1', f1_logistic_sobremuestreo)\n",
    "print()\n",
    "\n",
    "probabilities_valid = model.predict_proba(features_valid)\n",
    "probabilities_one_valid = probabilities_valid[:,1]\n",
    "\n",
    "auc = roc_auc_score(target_valid, probabilities_one_valid)\n",
    "print('auc_roc', auc)\n",
    "\n",
    "fpr, tpr, thresholds = roc_curve(target_valid, probabilities_one_valid)\n",
    "\n",
    "plt.figure()\n",
    "plt.plot(fpr, tpr)\n",
    "plt.plot([0,1], [0,1], linestyle='--')\n",
    "plt.xlim(0.0, 1.0)\n",
    "plt.ylim(0.0, 1.0)\n",
    "plt.xlabel('Tasa de falsos positivos')\n",
    "plt.ylabel('Tasa de verdaderos positivos')\n",
    "plt.title('Curva ROC')\n",
    "plt.show()"
   ]
  },
  {
   "cell_type": "markdown",
   "metadata": {},
   "source": [
    "Vemos una ligera mejora en el valor f1 en comparacion con el submuestreo pero ya no es tan significativa."
   ]
  },
  {
   "cell_type": "markdown",
   "metadata": {},
   "source": [
    "### DECISION TREE"
   ]
  },
  {
   "cell_type": "code",
   "execution_count": 81,
   "metadata": {},
   "outputs": [
    {
     "name": "stdout",
     "output_type": "stream",
     "text": [
      "max_depth = 20, score = 0.8891679748822606\n"
     ]
    }
   ],
   "source": [
    "# Modelo decision tree sobreajustado\n",
    "encoder = OrdinalEncoder()\n",
    "data_ordinal = pd.DataFrame(encoder.fit_transform(data_test_over), columns=data.columns)\n",
    "features = data_ordinal.drop(['exited'], axis=1)\n",
    "target = data_ordinal['exited']\n",
    "\n",
    "features_train, features_test, target_train, target_test = train_test_split(\n",
    "features, target, test_size = 0.20, random_state=12345)\n",
    "\n",
    "features_train, features_valid, target_train, target_valid = train_test_split(\n",
    "features_train, target_train, test_size = 0.25, random_state=12345)\n",
    "\n",
    "best_depth=0\n",
    "best_score=0\n",
    "\n",
    "for depth in range(1, 21):\n",
    "    model = DecisionTreeClassifier(max_depth = depth, random_state = 12345)\n",
    "    model.fit(features_train, target_train)\n",
    "    predict_valid = model.predict(features_valid)\n",
    "    \n",
    "    score = model.score(features_valid, target_valid)\n",
    "    \n",
    "    if score > best_score:\n",
    "        best_score = score\n",
    "        best_depth = depth\n",
    "        \n",
    "print('max_depth = {}, score = {}'.format(best_depth, best_score))\n",
    "\n",
    "best_score = 0\n",
    "best_depth = 0"
   ]
  },
  {
   "cell_type": "code",
   "execution_count": 97,
   "metadata": {
    "scrolled": false
   },
   "outputs": [
    {
     "name": "stdout",
     "output_type": "stream",
     "text": [
      "[[1314  286]\n",
      " [  67 1518]]\n",
      "\n",
      "recall 0.9577287066246056\n",
      "\n",
      "precision 0.8414634146341463\n",
      "\n",
      "f1 0.8958394806727648\n",
      "\n",
      "auc_roc 0.8882569006309148\n"
     ]
    },
    {
     "data": {
      "image/png": "[encoded data removed]",
      "text/plain": [
       "<Figure size 432x288 with 1 Axes>"
      ]
     },
     "metadata": {
      "needs_background": "light"
     },
     "output_type": "display_data"
    }
   ],
   "source": [
    "model = DecisionTreeClassifier(max_depth = 20, random_state = 12345)\n",
    "model.fit(features_train, target_train)\n",
    "predicted_valid = model.predict(features_valid)\n",
    "\n",
    "print(confusion_matrix(target_valid, predicted_valid))\n",
    "print()\n",
    "print('recall', recall_score(target_valid, predicted_valid))\n",
    "print()\n",
    "print('precision', precision_score(target_valid, predicted_valid))\n",
    "print()\n",
    "f1_tree_sobremuestreo = f1_score(target_valid, predicted_valid)\n",
    "print('f1', f1_tree_sobremuestreo)\n",
    "print()\n",
    "\n",
    "probabilities_valid = model.predict_proba(features_valid)\n",
    "probabilities_one_valid = probabilities_valid[:,1]\n",
    "\n",
    "auc = roc_auc_score(target_valid, probabilities_one_valid)\n",
    "print('auc_roc', auc)\n",
    "\n",
    "fpr, tpr, thresholds = roc_curve(target_valid, probabilities_one_valid)\n",
    "\n",
    "plt.figure()\n",
    "plt.plot(fpr, tpr)\n",
    "plt.plot([0,1], [0,1], linestyle='--')\n",
    "plt.xlim(0.0, 1.0)\n",
    "plt.ylim(0.0, 1.0)\n",
    "plt.xlabel('Tasa de falsos positivos')\n",
    "plt.ylabel('Tasa de verdaderos positivos')\n",
    "plt.title('Curva ROC')\n",
    "plt.show()"
   ]
  },
  {
   "cell_type": "markdown",
   "metadata": {},
   "source": [
    "En el caso de este modelo si vemos una mejora significativa en relacion con el submuestreo en todos los valores en el caso de la metrica f1 es una mejora de .12."
   ]
  },
  {
   "cell_type": "markdown",
   "metadata": {},
   "source": [
    "### RANDOM FOREST"
   ]
  },
  {
   "cell_type": "code",
   "execution_count": 83,
   "metadata": {},
   "outputs": [
    {
     "name": "stdout",
     "output_type": "stream",
     "text": [
      "Accuracy del mejor modelo de validacion (score= 0.926530612244898, n_estimators= 31, depth= 19\n"
     ]
    }
   ],
   "source": [
    "# Modelo random forest sobreajustado\n",
    "for est in range(1, 41, 10):\n",
    "    for depth in range(1,21):\n",
    "        model = RandomForestClassifier(random_state=12345, n_estimators=est, max_depth=depth)\n",
    "        model.fit(features_train, target_train)\n",
    "        score = model.score(features_valid, target_valid)\n",
    "    \n",
    "        if score > best_score:\n",
    "            best_score = score\n",
    "            best_est = est\n",
    "            best_depth = depth\n",
    "    \n",
    "print('Accuracy del mejor modelo de validacion (score= {}, n_estimators= {}, depth= {}'.format(best_score, best_est, best_depth))"
   ]
  },
  {
   "cell_type": "code",
   "execution_count": 98,
   "metadata": {
    "scrolled": false
   },
   "outputs": [
    {
     "name": "stdout",
     "output_type": "stream",
     "text": [
      "[[1428  172]\n",
      " [  62 1523]]\n",
      "\n",
      "recall 0.9608832807570978\n",
      "\n",
      "precision 0.8985250737463126\n",
      "\n",
      "f1 0.9286585365853659\n",
      "\n",
      "auc_roc 0.978875788643533\n"
     ]
    },
    {
     "data": {
      "image/png": "[encoded data removed]",
      "text/plain": [
       "<Figure size 432x288 with 1 Axes>"
      ]
     },
     "metadata": {
      "needs_background": "light"
     },
     "output_type": "display_data"
    }
   ],
   "source": [
    "model = RandomForestClassifier(random_state=12345, n_estimators=31, max_depth=19)\n",
    "model.fit(features_train, target_train)\n",
    "predicted_valid = model.predict(features_valid)\n",
    "\n",
    "print(confusion_matrix(target_valid, predicted_valid))\n",
    "print()\n",
    "print('recall', recall_score(target_valid, predicted_valid))\n",
    "print()\n",
    "print('precision', precision_score(target_valid, predicted_valid))\n",
    "print()\n",
    "f1_forest_sobremuestreo = f1_score(target_valid, predicted_valid)\n",
    "print('f1', f1_forest_sobremuestreo)\n",
    "print()\n",
    "\n",
    "probabilities_valid = model.predict_proba(features_valid)\n",
    "probabilities_one_valid = probabilities_valid[:,1]\n",
    "\n",
    "auc = roc_auc_score(target_valid, probabilities_one_valid)\n",
    "print('auc_roc', auc)\n",
    "\n",
    "fpr, tpr, thresholds = roc_curve(target_valid, probabilities_one_valid)\n",
    "\n",
    "plt.figure()\n",
    "plt.plot(fpr, tpr)\n",
    "plt.plot([0,1], [0,1], linestyle='--')\n",
    "plt.xlim(0.0, 1.0)\n",
    "plt.ylim(0.0, 1.0)\n",
    "plt.xlabel('Tasa de falsos positivos')\n",
    "plt.ylabel('Tasa de verdaderos positivos')\n",
    "plt.title('Curva ROC')\n",
    "plt.show()"
   ]
  },
  {
   "cell_type": "markdown",
   "metadata": {},
   "source": [
    "Nuevamente el random forest nos da los mejores resultados tambien en el sobremuestreo mejorando en .15 el valor f1 comparado con el submuestreo y todos los resultados de nuestras metricas estan poor encima del .90."
   ]
  },
  {
   "cell_type": "markdown",
   "metadata": {},
   "source": [
    "### CONCLUSION.\n",
    "\n",
    "En el sobremuestreo tenemos mejores resultados en general con todos los modelos en todas mlas metricas por lo que tomaremos ahora el modelo de bosque aleatorio y realizaremos una prueba final y con el conjunto de prueba sobreajustado y mostraremos tambien los resultados de las metricas."
   ]
  },
  {
   "cell_type": "markdown",
   "metadata": {},
   "source": [
    "## PRUEBA FINAL."
   ]
  },
  {
   "cell_type": "code",
   "execution_count": 99,
   "metadata": {},
   "outputs": [
    {
     "name": "stdout",
     "output_type": "stream",
     "text": [
      "[[1345  160]\n",
      " [  65 1616]]\n",
      "\n",
      "recall 0.9613325401546698\n",
      "\n",
      "precision 0.9099099099099099\n",
      "\n",
      "f1 0.9349146658952848\n",
      "\n",
      "auc_roc 0.9792632529679969\n"
     ]
    },
    {
     "data": {
      "image/png": "[encoded data removed]",
      "text/plain": [
       "<Figure size 432x288 with 1 Axes>"
      ]
     },
     "metadata": {
      "needs_background": "light"
     },
     "output_type": "display_data"
    }
   ],
   "source": [
    "model = RandomForestClassifier(random_state=12345, n_estimators=31, max_depth=19)\n",
    "model.fit(features_train, target_train)\n",
    "predicted_valid = model.predict(features_test)\n",
    "\n",
    "print(confusion_matrix(target_test, predicted_valid))\n",
    "print()\n",
    "print('recall', recall_score(target_test, predicted_valid))\n",
    "print()\n",
    "print('precision', precision_score(target_test, predicted_valid))\n",
    "print()\n",
    "f1_final = f1_score(target_test, predicted_valid)\n",
    "print('f1', f1_final)\n",
    "print()\n",
    "\n",
    "probabilities_valid = model.predict_proba(features_test)\n",
    "probabilities_one_valid = probabilities_valid[:,1]\n",
    "\n",
    "auc = roc_auc_score(target_test, probabilities_one_valid)\n",
    "print('auc_roc', auc)\n",
    "\n",
    "fpr, tpr, thresholds = roc_curve(target_test, probabilities_one_valid)\n",
    "\n",
    "plt.figure()\n",
    "plt.plot(fpr, tpr)\n",
    "plt.plot([0,1], [0,1], linestyle='--')\n",
    "plt.xlim(0.0, 1.0)\n",
    "plt.ylim(0.0, 1.0)\n",
    "plt.xlabel('Tasa de falsos positivos')\n",
    "plt.ylabel('Tasa de verdaderos positivos')\n",
    "plt.title('Curva ROC')\n",
    "plt.show()"
   ]
  },
  {
   "cell_type": "markdown",
   "metadata": {},
   "source": [
    "Los resultados no mejoraron mucho con respecto a los realizados con el conjunto de validacion pero si mejoraron."
   ]
  },
  {
   "cell_type": "code",
   "execution_count": 100,
   "metadata": {},
   "outputs": [
    {
     "data": {
      "text/html": [
       "<div>\n",
       "<style scoped>\n",
       "    .dataframe tbody tr th:only-of-type {\n",
       "        vertical-align: middle;\n",
       "    }\n",
       "\n",
       "    .dataframe tbody tr th {\n",
       "        vertical-align: top;\n",
       "    }\n",
       "\n",
       "    .dataframe thead th {\n",
       "        text-align: right;\n",
       "    }\n",
       "</style>\n",
       "<table border=\"1\" class=\"dataframe\">\n",
       "  <thead>\n",
       "    <tr style=\"text-align: right;\">\n",
       "      <th></th>\n",
       "      <th>model</th>\n",
       "      <th>imbalance</th>\n",
       "      <th>class_weight</th>\n",
       "      <th>sub_sampling</th>\n",
       "      <th>over_sampling</th>\n",
       "    </tr>\n",
       "  </thead>\n",
       "  <tbody>\n",
       "    <tr>\n",
       "      <th>0</th>\n",
       "      <td>Logistic Regression</td>\n",
       "      <td>0.117073</td>\n",
       "      <td>0.491251</td>\n",
       "      <td>0.667464</td>\n",
       "      <td>0.680276</td>\n",
       "    </tr>\n",
       "    <tr>\n",
       "      <th>1</th>\n",
       "      <td>Decision Tree</td>\n",
       "      <td>0.545679</td>\n",
       "      <td>0.601613</td>\n",
       "      <td>0.750871</td>\n",
       "      <td>0.895839</td>\n",
       "    </tr>\n",
       "    <tr>\n",
       "      <th>2</th>\n",
       "      <td>Random Forest</td>\n",
       "      <td>0.563482</td>\n",
       "      <td>0.605739</td>\n",
       "      <td>0.913956</td>\n",
       "      <td>0.928659</td>\n",
       "    </tr>\n",
       "    <tr>\n",
       "      <th>3</th>\n",
       "      <td>Random Forest Final Test</td>\n",
       "      <td></td>\n",
       "      <td></td>\n",
       "      <td></td>\n",
       "      <td>0.934915</td>\n",
       "    </tr>\n",
       "  </tbody>\n",
       "</table>\n",
       "</div>"
      ],
      "text/plain": [
       "                      model imbalance class_weight sub_sampling  over_sampling\n",
       "0       Logistic Regression  0.117073     0.491251     0.667464       0.680276\n",
       "1             Decision Tree  0.545679     0.601613     0.750871       0.895839\n",
       "2             Random Forest  0.563482     0.605739     0.913956       0.928659\n",
       "3  Random Forest Final Test                                           0.934915"
      ]
     },
     "execution_count": 100,
     "metadata": {},
     "output_type": "execute_result"
    }
   ],
   "source": [
    "datos = [['Logistic Regression', f1_logistic_desq, f1_logistic_ajuste, f1_logistic_submuestreo, f1_logistic_sobremuestreo],\n",
    "         ['Decision Tree', f1_tree_desq, f1_tree_ajuste, f1_tree_submuestreo, f1_tree_sobremuestreo],\n",
    "         ['Random Forest', f1_forest_desq, f1_forest_ajuste, f1_forest_submuestreo, f1_forest_sobremuestreo],\n",
    "         ['Random Forest Final Test', '', '', '' , f1_final]]\n",
    "columnas = ['model', 'imbalance', 'class_weight', 'sub_sampling', 'over_sampling']\n",
    "f1_table = pd.DataFrame(datos, columns = columnas)\n",
    "f1_table.style.set_properties(**{'text-align': 'left'})\n",
    "f1_table"
   ]
  },
  {
   "cell_type": "markdown",
   "metadata": {},
   "source": [
    "## CONCLUSION GENERAL\n",
    "\n",
    "1.- En la tabla anterior vemos como el desequilibrio de clases afecta mucho el funcionamiento de los modelos siendo inservibles y necesitando forzosamente ser mejorados con las tecnicas diseñadas para el desequilibrio.\n",
    "\n",
    "2.- Tomando el hiperparametro de peso de clase como balanceado los resultados mejoran en algunos casos bastante como con el modelo de regresion logistica pero aun son bajos los resultados de las metricas aunque en el caso del decision tree y random forest incluso superamos el valor f1 que nos pedian pero seguia siendo bajo.\n",
    "\n",
    "3.- El submuestreo dio mejores resultados aun y ahora todos los modelos tenian valores en sus metricas mucho mejores y todos pasaban el valor f1 de .59, incluso el modelo random forest casi llego al valor que tendria en su mejor desempeño con el sobremuestreo.\n",
    "\n",
    "4.- El sobremuestreo dio los mejores resultados de todas las pruebas y el random forest nos dio los mejores resultados de todos los modelos con todas las metricas por encima del .90 por lo que podemos decir que mientras mas datos tengamos y estos se encuentren en equibrados los modelos aprendertan mejor y podran hacer mejores predicciones, sin embargo para tener una vision realista de los alcances de nuestro modelo y sus resultados necesitariamos probarlo con un dataframe completamente nuevo que se encuentre equilibrado desde un inicio ya que lo que hacemos es que artificialmente duplicamos los registros para crear un nuevo dataframe y eso puede hacer que los resultados se vean mejor de los que realmente pueden ser."
   ]
  }
 ],
 "metadata": {
  "kernelspec": {
   "display_name": "Python 3 (ipykernel)",
   "language": "python",
   "name": "python3"
  },
  "language_info": {
   "codemirror_mode": {
    "name": "ipython",
    "version": 3
   },
   "file_extension": ".py",
   "mimetype": "text/x-python",
   "name": "python",
   "nbconvert_exporter": "python",
   "pygments_lexer": "ipython3",
   "version": "3.9.13"
  },
  "toc": {
   "base_numbering": 1,
   "nav_menu": {},
   "number_sections": true,
   "sideBar": true,
   "skip_h1_title": true,
   "title_cell": "Table of Contents",
   "title_sidebar": "Contents",
   "toc_cell": false,
   "toc_position": {
    "height": "calc(100% - 180px)",
    "left": "10px",
    "top": "150px",
    "width": "292.222px"
   },
   "toc_section_display": true,
   "toc_window_display": false
  }
 },
 "nbformat": 4,
 "nbformat_minor": 2
}
