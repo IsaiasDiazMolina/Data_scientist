{
 "cells": [
  {
   "cell_type": "markdown",
   "metadata": {},
   "source": [
    "# Introduccion.\n",
    "\n",
    "Este proyecto es para que la compañía minera OilyGiant pueda encontrar el mejor lugar para colocar un nuevo pozo minero. Para esto, contamos con la información de multiples reservas en 3 regiones.\n",
    "\n",
    "Utilizando el modelo predictivo de tipo regresión lineal, estudiaremos estos datos para poder encontrar el mejor lugar para instalar un nuevo pozo. Esto nos ayudará a calcular las posibles ganancias y los riesgos asociados a cada pozo y región.\n",
    "\n",
    "Objetivos:\n",
    "- Encontrar la región que proporcione las mayores ganancias predichas.\n",
    "- Calcular riesgos y ganancias de pozos y regiones.\n",
    "\n",
    "Condiciones:\n",
    "\n",
    "- Solo la regresión lineal es adecuada para el entrenamiento de modelos (el resto no son lo suficientemente predecibles).\n",
    "- Al explorar la región, se lleva a cabo un estudio de 500 puntos con la selección de los mejores 200 puntos para el cálculo del beneficio.\n",
    "- El presupuesto para el desarrollo de 200 pozos petroleros es de 100 millones de dólares.\n",
    "- Un barril de materias primas genera 4.5 USD de ingresos. El ingreso de una unidad de producto es de 4500 dólares (el volumen de reservas está expresado en miles de barriles).\n",
    "- Después de la evaluación de riesgo, mantén solo las regiones con riesgo de pérdidas inferior al 2.5%. De las que se ajustan a los criterios, se debe seleccionar la región con el beneficio promedio más alto."
   ]
  },
  {
   "cell_type": "markdown",
   "metadata": {},
   "source": [
    "## Importamos librerias."
   ]
  },
  {
   "cell_type": "code",
   "execution_count": 17,
   "metadata": {},
   "outputs": [],
   "source": [
    "# Cargamos las librerias que vamos a necesitar.\n",
    "import pandas as pd\n",
    "from scipy import stats as st\n",
    "\n",
    "from numpy.random import RandomState\n",
    "from sklearn.preprocessing import OrdinalEncoder\n",
    "from sklearn.linear_model import LogisticRegression \n",
    "from sklearn.linear_model import LinearRegression\n",
    "from sklearn.metrics import accuracy_score\n",
    "from sklearn.metrics import recall_score\n",
    "from sklearn.metrics import roc_auc_score\n",
    "from sklearn.metrics import mean_squared_error\n",
    "from sklearn.model_selection import train_test_split\n",
    "from sklearn.preprocessing import LabelEncoder"
   ]
  },
  {
   "cell_type": "markdown",
   "metadata": {},
   "source": [
    "## Preprocesamiento de datos."
   ]
  },
  {
   "cell_type": "markdown",
   "metadata": {},
   "source": [
    "### DataFrame 1\n",
    "\n",
    "En este proceso verificaremos la informacion general, datos nulos y duplicados de cada DataFrame."
   ]
  },
  {
   "cell_type": "code",
   "execution_count": 18,
   "metadata": {
    "scrolled": true
   },
   "outputs": [
    {
     "data": {
      "text/html": [
       "<div>\n",
       "<style scoped>\n",
       "    .dataframe tbody tr th:only-of-type {\n",
       "        vertical-align: middle;\n",
       "    }\n",
       "\n",
       "    .dataframe tbody tr th {\n",
       "        vertical-align: top;\n",
       "    }\n",
       "\n",
       "    .dataframe thead th {\n",
       "        text-align: right;\n",
       "    }\n",
       "</style>\n",
       "<table border=\"1\" class=\"dataframe\">\n",
       "  <thead>\n",
       "    <tr style=\"text-align: right;\">\n",
       "      <th></th>\n",
       "      <th>id</th>\n",
       "      <th>f0</th>\n",
       "      <th>f1</th>\n",
       "      <th>f2</th>\n",
       "      <th>product</th>\n",
       "    </tr>\n",
       "  </thead>\n",
       "  <tbody>\n",
       "    <tr>\n",
       "      <th>0</th>\n",
       "      <td>txEyH</td>\n",
       "      <td>0.705745</td>\n",
       "      <td>-0.497823</td>\n",
       "      <td>1.221170</td>\n",
       "      <td>105.280062</td>\n",
       "    </tr>\n",
       "    <tr>\n",
       "      <th>1</th>\n",
       "      <td>2acmU</td>\n",
       "      <td>1.334711</td>\n",
       "      <td>-0.340164</td>\n",
       "      <td>4.365080</td>\n",
       "      <td>73.037750</td>\n",
       "    </tr>\n",
       "    <tr>\n",
       "      <th>2</th>\n",
       "      <td>409Wp</td>\n",
       "      <td>1.022732</td>\n",
       "      <td>0.151990</td>\n",
       "      <td>1.419926</td>\n",
       "      <td>85.265647</td>\n",
       "    </tr>\n",
       "    <tr>\n",
       "      <th>3</th>\n",
       "      <td>iJLyR</td>\n",
       "      <td>-0.032172</td>\n",
       "      <td>0.139033</td>\n",
       "      <td>2.978566</td>\n",
       "      <td>168.620776</td>\n",
       "    </tr>\n",
       "    <tr>\n",
       "      <th>4</th>\n",
       "      <td>Xdl7t</td>\n",
       "      <td>1.988431</td>\n",
       "      <td>0.155413</td>\n",
       "      <td>4.751769</td>\n",
       "      <td>154.036647</td>\n",
       "    </tr>\n",
       "    <tr>\n",
       "      <th>...</th>\n",
       "      <td>...</td>\n",
       "      <td>...</td>\n",
       "      <td>...</td>\n",
       "      <td>...</td>\n",
       "      <td>...</td>\n",
       "    </tr>\n",
       "    <tr>\n",
       "      <th>99995</th>\n",
       "      <td>DLsed</td>\n",
       "      <td>0.971957</td>\n",
       "      <td>0.370953</td>\n",
       "      <td>6.075346</td>\n",
       "      <td>110.744026</td>\n",
       "    </tr>\n",
       "    <tr>\n",
       "      <th>99996</th>\n",
       "      <td>QKivN</td>\n",
       "      <td>1.392429</td>\n",
       "      <td>-0.382606</td>\n",
       "      <td>1.273912</td>\n",
       "      <td>122.346843</td>\n",
       "    </tr>\n",
       "    <tr>\n",
       "      <th>99997</th>\n",
       "      <td>3rnvd</td>\n",
       "      <td>1.029585</td>\n",
       "      <td>0.018787</td>\n",
       "      <td>-1.348308</td>\n",
       "      <td>64.375443</td>\n",
       "    </tr>\n",
       "    <tr>\n",
       "      <th>99998</th>\n",
       "      <td>7kl59</td>\n",
       "      <td>0.998163</td>\n",
       "      <td>-0.528582</td>\n",
       "      <td>1.583869</td>\n",
       "      <td>74.040764</td>\n",
       "    </tr>\n",
       "    <tr>\n",
       "      <th>99999</th>\n",
       "      <td>1CWhH</td>\n",
       "      <td>1.764754</td>\n",
       "      <td>-0.266417</td>\n",
       "      <td>5.722849</td>\n",
       "      <td>149.633246</td>\n",
       "    </tr>\n",
       "  </tbody>\n",
       "</table>\n",
       "<p>100000 rows × 5 columns</p>\n",
       "</div>"
      ],
      "text/plain": [
       "          id        f0        f1        f2     product\n",
       "0      txEyH  0.705745 -0.497823  1.221170  105.280062\n",
       "1      2acmU  1.334711 -0.340164  4.365080   73.037750\n",
       "2      409Wp  1.022732  0.151990  1.419926   85.265647\n",
       "3      iJLyR -0.032172  0.139033  2.978566  168.620776\n",
       "4      Xdl7t  1.988431  0.155413  4.751769  154.036647\n",
       "...      ...       ...       ...       ...         ...\n",
       "99995  DLsed  0.971957  0.370953  6.075346  110.744026\n",
       "99996  QKivN  1.392429 -0.382606  1.273912  122.346843\n",
       "99997  3rnvd  1.029585  0.018787 -1.348308   64.375443\n",
       "99998  7kl59  0.998163 -0.528582  1.583869   74.040764\n",
       "99999  1CWhH  1.764754 -0.266417  5.722849  149.633246\n",
       "\n",
       "[100000 rows x 5 columns]"
      ]
     },
     "execution_count": 18,
     "metadata": {},
     "output_type": "execute_result"
    }
   ],
   "source": [
    "# Cargamos el primer DataFrame y visualizamos.\n",
    "data_0 = pd.read_csv('/datasets/geo_data_0.csv')\n",
    "data_0"
   ]
  },
  {
   "cell_type": "code",
   "execution_count": 19,
   "metadata": {
    "scrolled": true
   },
   "outputs": [
    {
     "name": "stdout",
     "output_type": "stream",
     "text": [
      "<class 'pandas.core.frame.DataFrame'>\n",
      "RangeIndex: 100000 entries, 0 to 99999\n",
      "Data columns (total 5 columns):\n",
      " #   Column   Non-Null Count   Dtype  \n",
      "---  ------   --------------   -----  \n",
      " 0   id       100000 non-null  object \n",
      " 1   f0       100000 non-null  float64\n",
      " 2   f1       100000 non-null  float64\n",
      " 3   f2       100000 non-null  float64\n",
      " 4   product  100000 non-null  float64\n",
      "dtypes: float64(4), object(1)\n",
      "memory usage: 3.8+ MB\n"
     ]
    }
   ],
   "source": [
    "# Vemos informacion general y tipos de datos.\n",
    "data_0.info()"
   ]
  },
  {
   "cell_type": "code",
   "execution_count": 20,
   "metadata": {},
   "outputs": [
    {
     "data": {
      "text/plain": [
       "0"
      ]
     },
     "execution_count": 20,
     "metadata": {},
     "output_type": "execute_result"
    }
   ],
   "source": [
    "# Verificamos datos duplicados.\n",
    "data_0.duplicated().sum()"
   ]
  },
  {
   "cell_type": "code",
   "execution_count": 21,
   "metadata": {},
   "outputs": [
    {
     "data": {
      "text/plain": [
       "id         0\n",
       "f0         0\n",
       "f1         0\n",
       "f2         0\n",
       "product    0\n",
       "dtype: int64"
      ]
     },
     "execution_count": 21,
     "metadata": {},
     "output_type": "execute_result"
    }
   ],
   "source": [
    "# Verificamos datos nulos.\n",
    "data_0.isna().sum()"
   ]
  },
  {
   "cell_type": "markdown",
   "metadata": {},
   "source": [
    "Este DataFrame estaba listo pra ser utilizado."
   ]
  },
  {
   "cell_type": "markdown",
   "metadata": {},
   "source": [
    "### DataFrame 2"
   ]
  },
  {
   "cell_type": "code",
   "execution_count": 22,
   "metadata": {
    "scrolled": true
   },
   "outputs": [
    {
     "data": {
      "text/html": [
       "<div>\n",
       "<style scoped>\n",
       "    .dataframe tbody tr th:only-of-type {\n",
       "        vertical-align: middle;\n",
       "    }\n",
       "\n",
       "    .dataframe tbody tr th {\n",
       "        vertical-align: top;\n",
       "    }\n",
       "\n",
       "    .dataframe thead th {\n",
       "        text-align: right;\n",
       "    }\n",
       "</style>\n",
       "<table border=\"1\" class=\"dataframe\">\n",
       "  <thead>\n",
       "    <tr style=\"text-align: right;\">\n",
       "      <th></th>\n",
       "      <th>id</th>\n",
       "      <th>f0</th>\n",
       "      <th>f1</th>\n",
       "      <th>f2</th>\n",
       "      <th>product</th>\n",
       "    </tr>\n",
       "  </thead>\n",
       "  <tbody>\n",
       "    <tr>\n",
       "      <th>0</th>\n",
       "      <td>kBEdx</td>\n",
       "      <td>-15.001348</td>\n",
       "      <td>-8.276000</td>\n",
       "      <td>-0.005876</td>\n",
       "      <td>3.179103</td>\n",
       "    </tr>\n",
       "    <tr>\n",
       "      <th>1</th>\n",
       "      <td>62mP7</td>\n",
       "      <td>14.272088</td>\n",
       "      <td>-3.475083</td>\n",
       "      <td>0.999183</td>\n",
       "      <td>26.953261</td>\n",
       "    </tr>\n",
       "    <tr>\n",
       "      <th>2</th>\n",
       "      <td>vyE1P</td>\n",
       "      <td>6.263187</td>\n",
       "      <td>-5.948386</td>\n",
       "      <td>5.001160</td>\n",
       "      <td>134.766305</td>\n",
       "    </tr>\n",
       "    <tr>\n",
       "      <th>3</th>\n",
       "      <td>KcrkZ</td>\n",
       "      <td>-13.081196</td>\n",
       "      <td>-11.506057</td>\n",
       "      <td>4.999415</td>\n",
       "      <td>137.945408</td>\n",
       "    </tr>\n",
       "    <tr>\n",
       "      <th>4</th>\n",
       "      <td>AHL4O</td>\n",
       "      <td>12.702195</td>\n",
       "      <td>-8.147433</td>\n",
       "      <td>5.004363</td>\n",
       "      <td>134.766305</td>\n",
       "    </tr>\n",
       "    <tr>\n",
       "      <th>...</th>\n",
       "      <td>...</td>\n",
       "      <td>...</td>\n",
       "      <td>...</td>\n",
       "      <td>...</td>\n",
       "      <td>...</td>\n",
       "    </tr>\n",
       "    <tr>\n",
       "      <th>99995</th>\n",
       "      <td>QywKC</td>\n",
       "      <td>9.535637</td>\n",
       "      <td>-6.878139</td>\n",
       "      <td>1.998296</td>\n",
       "      <td>53.906522</td>\n",
       "    </tr>\n",
       "    <tr>\n",
       "      <th>99996</th>\n",
       "      <td>ptvty</td>\n",
       "      <td>-10.160631</td>\n",
       "      <td>-12.558096</td>\n",
       "      <td>5.005581</td>\n",
       "      <td>137.945408</td>\n",
       "    </tr>\n",
       "    <tr>\n",
       "      <th>99997</th>\n",
       "      <td>09gWa</td>\n",
       "      <td>-7.378891</td>\n",
       "      <td>-3.084104</td>\n",
       "      <td>4.998651</td>\n",
       "      <td>137.945408</td>\n",
       "    </tr>\n",
       "    <tr>\n",
       "      <th>99998</th>\n",
       "      <td>rqwUm</td>\n",
       "      <td>0.665714</td>\n",
       "      <td>-6.152593</td>\n",
       "      <td>1.000146</td>\n",
       "      <td>30.132364</td>\n",
       "    </tr>\n",
       "    <tr>\n",
       "      <th>99999</th>\n",
       "      <td>relB0</td>\n",
       "      <td>-3.426139</td>\n",
       "      <td>-7.794274</td>\n",
       "      <td>-0.003299</td>\n",
       "      <td>3.179103</td>\n",
       "    </tr>\n",
       "  </tbody>\n",
       "</table>\n",
       "<p>100000 rows × 5 columns</p>\n",
       "</div>"
      ],
      "text/plain": [
       "          id         f0         f1        f2     product\n",
       "0      kBEdx -15.001348  -8.276000 -0.005876    3.179103\n",
       "1      62mP7  14.272088  -3.475083  0.999183   26.953261\n",
       "2      vyE1P   6.263187  -5.948386  5.001160  134.766305\n",
       "3      KcrkZ -13.081196 -11.506057  4.999415  137.945408\n",
       "4      AHL4O  12.702195  -8.147433  5.004363  134.766305\n",
       "...      ...        ...        ...       ...         ...\n",
       "99995  QywKC   9.535637  -6.878139  1.998296   53.906522\n",
       "99996  ptvty -10.160631 -12.558096  5.005581  137.945408\n",
       "99997  09gWa  -7.378891  -3.084104  4.998651  137.945408\n",
       "99998  rqwUm   0.665714  -6.152593  1.000146   30.132364\n",
       "99999  relB0  -3.426139  -7.794274 -0.003299    3.179103\n",
       "\n",
       "[100000 rows x 5 columns]"
      ]
     },
     "execution_count": 22,
     "metadata": {},
     "output_type": "execute_result"
    }
   ],
   "source": [
    "# Cargamos el segundo DataFrame y visualizamos.\n",
    "data_1 = pd.read_csv('/datasets/geo_data_1.csv')\n",
    "data_1"
   ]
  },
  {
   "cell_type": "code",
   "execution_count": 23,
   "metadata": {},
   "outputs": [
    {
     "name": "stdout",
     "output_type": "stream",
     "text": [
      "<class 'pandas.core.frame.DataFrame'>\n",
      "RangeIndex: 100000 entries, 0 to 99999\n",
      "Data columns (total 5 columns):\n",
      " #   Column   Non-Null Count   Dtype  \n",
      "---  ------   --------------   -----  \n",
      " 0   id       100000 non-null  object \n",
      " 1   f0       100000 non-null  float64\n",
      " 2   f1       100000 non-null  float64\n",
      " 3   f2       100000 non-null  float64\n",
      " 4   product  100000 non-null  float64\n",
      "dtypes: float64(4), object(1)\n",
      "memory usage: 3.8+ MB\n"
     ]
    }
   ],
   "source": [
    "# Vemos informacion general y tipos de datos.\n",
    "data_1.info()"
   ]
  },
  {
   "cell_type": "code",
   "execution_count": 24,
   "metadata": {},
   "outputs": [
    {
     "data": {
      "text/plain": [
       "0"
      ]
     },
     "execution_count": 24,
     "metadata": {},
     "output_type": "execute_result"
    }
   ],
   "source": [
    "# Verificamos datos duplicados.\n",
    "data_1.duplicated().sum()"
   ]
  },
  {
   "cell_type": "code",
   "execution_count": 25,
   "metadata": {},
   "outputs": [
    {
     "data": {
      "text/plain": [
       "id         0\n",
       "f0         0\n",
       "f1         0\n",
       "f2         0\n",
       "product    0\n",
       "dtype: int64"
      ]
     },
     "execution_count": 25,
     "metadata": {},
     "output_type": "execute_result"
    }
   ],
   "source": [
    "# Verificamos datos nulos.\n",
    "data_1.isna().sum()"
   ]
  },
  {
   "cell_type": "markdown",
   "metadata": {},
   "source": [
    "Este DataFrame estaba listo para ser utilizado."
   ]
  },
  {
   "cell_type": "markdown",
   "metadata": {},
   "source": [
    "### DataFrame 3"
   ]
  },
  {
   "cell_type": "code",
   "execution_count": 26,
   "metadata": {},
   "outputs": [
    {
     "data": {
      "text/html": [
       "<div>\n",
       "<style scoped>\n",
       "    .dataframe tbody tr th:only-of-type {\n",
       "        vertical-align: middle;\n",
       "    }\n",
       "\n",
       "    .dataframe tbody tr th {\n",
       "        vertical-align: top;\n",
       "    }\n",
       "\n",
       "    .dataframe thead th {\n",
       "        text-align: right;\n",
       "    }\n",
       "</style>\n",
       "<table border=\"1\" class=\"dataframe\">\n",
       "  <thead>\n",
       "    <tr style=\"text-align: right;\">\n",
       "      <th></th>\n",
       "      <th>id</th>\n",
       "      <th>f0</th>\n",
       "      <th>f1</th>\n",
       "      <th>f2</th>\n",
       "      <th>product</th>\n",
       "    </tr>\n",
       "  </thead>\n",
       "  <tbody>\n",
       "    <tr>\n",
       "      <th>0</th>\n",
       "      <td>fwXo0</td>\n",
       "      <td>-1.146987</td>\n",
       "      <td>0.963328</td>\n",
       "      <td>-0.828965</td>\n",
       "      <td>27.758673</td>\n",
       "    </tr>\n",
       "    <tr>\n",
       "      <th>1</th>\n",
       "      <td>WJtFt</td>\n",
       "      <td>0.262778</td>\n",
       "      <td>0.269839</td>\n",
       "      <td>-2.530187</td>\n",
       "      <td>56.069697</td>\n",
       "    </tr>\n",
       "    <tr>\n",
       "      <th>2</th>\n",
       "      <td>ovLUW</td>\n",
       "      <td>0.194587</td>\n",
       "      <td>0.289035</td>\n",
       "      <td>-5.586433</td>\n",
       "      <td>62.871910</td>\n",
       "    </tr>\n",
       "    <tr>\n",
       "      <th>3</th>\n",
       "      <td>q6cA6</td>\n",
       "      <td>2.236060</td>\n",
       "      <td>-0.553760</td>\n",
       "      <td>0.930038</td>\n",
       "      <td>114.572842</td>\n",
       "    </tr>\n",
       "    <tr>\n",
       "      <th>4</th>\n",
       "      <td>WPMUX</td>\n",
       "      <td>-0.515993</td>\n",
       "      <td>1.716266</td>\n",
       "      <td>5.899011</td>\n",
       "      <td>149.600746</td>\n",
       "    </tr>\n",
       "    <tr>\n",
       "      <th>...</th>\n",
       "      <td>...</td>\n",
       "      <td>...</td>\n",
       "      <td>...</td>\n",
       "      <td>...</td>\n",
       "      <td>...</td>\n",
       "    </tr>\n",
       "    <tr>\n",
       "      <th>99995</th>\n",
       "      <td>4GxBu</td>\n",
       "      <td>-1.777037</td>\n",
       "      <td>1.125220</td>\n",
       "      <td>6.263374</td>\n",
       "      <td>172.327046</td>\n",
       "    </tr>\n",
       "    <tr>\n",
       "      <th>99996</th>\n",
       "      <td>YKFjq</td>\n",
       "      <td>-1.261523</td>\n",
       "      <td>-0.894828</td>\n",
       "      <td>2.524545</td>\n",
       "      <td>138.748846</td>\n",
       "    </tr>\n",
       "    <tr>\n",
       "      <th>99997</th>\n",
       "      <td>tKPY3</td>\n",
       "      <td>-1.199934</td>\n",
       "      <td>-2.957637</td>\n",
       "      <td>5.219411</td>\n",
       "      <td>157.080080</td>\n",
       "    </tr>\n",
       "    <tr>\n",
       "      <th>99998</th>\n",
       "      <td>nmxp2</td>\n",
       "      <td>-2.419896</td>\n",
       "      <td>2.417221</td>\n",
       "      <td>-5.548444</td>\n",
       "      <td>51.795253</td>\n",
       "    </tr>\n",
       "    <tr>\n",
       "      <th>99999</th>\n",
       "      <td>V9kWn</td>\n",
       "      <td>-2.551421</td>\n",
       "      <td>-2.025625</td>\n",
       "      <td>6.090891</td>\n",
       "      <td>102.775767</td>\n",
       "    </tr>\n",
       "  </tbody>\n",
       "</table>\n",
       "<p>100000 rows × 5 columns</p>\n",
       "</div>"
      ],
      "text/plain": [
       "          id        f0        f1        f2     product\n",
       "0      fwXo0 -1.146987  0.963328 -0.828965   27.758673\n",
       "1      WJtFt  0.262778  0.269839 -2.530187   56.069697\n",
       "2      ovLUW  0.194587  0.289035 -5.586433   62.871910\n",
       "3      q6cA6  2.236060 -0.553760  0.930038  114.572842\n",
       "4      WPMUX -0.515993  1.716266  5.899011  149.600746\n",
       "...      ...       ...       ...       ...         ...\n",
       "99995  4GxBu -1.777037  1.125220  6.263374  172.327046\n",
       "99996  YKFjq -1.261523 -0.894828  2.524545  138.748846\n",
       "99997  tKPY3 -1.199934 -2.957637  5.219411  157.080080\n",
       "99998  nmxp2 -2.419896  2.417221 -5.548444   51.795253\n",
       "99999  V9kWn -2.551421 -2.025625  6.090891  102.775767\n",
       "\n",
       "[100000 rows x 5 columns]"
      ]
     },
     "execution_count": 26,
     "metadata": {},
     "output_type": "execute_result"
    }
   ],
   "source": [
    "# Cargamos el segundo DataFrame y visualizamos.\n",
    "data_2 = pd.read_csv('/datasets/geo_data_2.csv')\n",
    "data_2"
   ]
  },
  {
   "cell_type": "code",
   "execution_count": 27,
   "metadata": {},
   "outputs": [
    {
     "name": "stdout",
     "output_type": "stream",
     "text": [
      "<class 'pandas.core.frame.DataFrame'>\n",
      "RangeIndex: 100000 entries, 0 to 99999\n",
      "Data columns (total 5 columns):\n",
      " #   Column   Non-Null Count   Dtype  \n",
      "---  ------   --------------   -----  \n",
      " 0   id       100000 non-null  object \n",
      " 1   f0       100000 non-null  float64\n",
      " 2   f1       100000 non-null  float64\n",
      " 3   f2       100000 non-null  float64\n",
      " 4   product  100000 non-null  float64\n",
      "dtypes: float64(4), object(1)\n",
      "memory usage: 3.8+ MB\n"
     ]
    }
   ],
   "source": [
    "# Vemos informacion general y tipos de datos.\n",
    "data_2.info()"
   ]
  },
  {
   "cell_type": "code",
   "execution_count": 28,
   "metadata": {},
   "outputs": [
    {
     "data": {
      "text/plain": [
       "0"
      ]
     },
     "execution_count": 28,
     "metadata": {},
     "output_type": "execute_result"
    }
   ],
   "source": [
    "# Verificamos datos duplicados.\n",
    "data_2.duplicated().sum()"
   ]
  },
  {
   "cell_type": "code",
   "execution_count": 29,
   "metadata": {
    "scrolled": true
   },
   "outputs": [
    {
     "data": {
      "text/plain": [
       "id         0\n",
       "f0         0\n",
       "f1         0\n",
       "f2         0\n",
       "product    0\n",
       "dtype: int64"
      ]
     },
     "execution_count": 29,
     "metadata": {},
     "output_type": "execute_result"
    }
   ],
   "source": [
    "# Verificamos datos nulos.\n",
    "data_2.isna().sum()"
   ]
  },
  {
   "cell_type": "markdown",
   "metadata": {},
   "source": [
    "Ya tenemos tambien este DataFrame listo para ser utilizado.\n",
    "\n",
    "A continuacion vamos a decidir que hacer con la columna id, para esto vamos a entrenar el modelo con Regresion Lineal usando ordinal encoder entrenaremos otro modelo de la misma manera pero quitando esa columna, usaremos solamente la metrica de accuracy y recm y decidiremos en base a los resultados, la razon de usar el ordinal encoder es que al usar codificacion one hot el kernel moria supongo por la gran cantidad de columnas que se generarian usando esa codificacion."
   ]
  },
  {
   "cell_type": "markdown",
   "metadata": {},
   "source": [
    "### modelo con ordinal encoder."
   ]
  },
  {
   "cell_type": "code",
   "execution_count": 30,
   "metadata": {},
   "outputs": [],
   "source": [
    "# Usamos ordinal encoder en columna id y dividimos los datos.\n",
    "encoder = OrdinalEncoder()\n",
    "data_0['id'] = encoder.fit_transform(data_0['id'].values.reshape(-1,1))\n",
    "features_0 = data_0.drop(['product'], axis=1)\n",
    "target_0 = data_0['product']\n",
    "features_train_0, features_valid_0, target_train_0, target_valid_0 = train_test_split(\n",
    "features_0, target_0, test_size = 0.25, random_state=12345)"
   ]
  },
  {
   "cell_type": "code",
   "execution_count": 31,
   "metadata": {
    "scrolled": true
   },
   "outputs": [
    {
     "data": {
      "text/html": [
       "<div>\n",
       "<style scoped>\n",
       "    .dataframe tbody tr th:only-of-type {\n",
       "        vertical-align: middle;\n",
       "    }\n",
       "\n",
       "    .dataframe tbody tr th {\n",
       "        vertical-align: top;\n",
       "    }\n",
       "\n",
       "    .dataframe thead th {\n",
       "        text-align: right;\n",
       "    }\n",
       "</style>\n",
       "<table border=\"1\" class=\"dataframe\">\n",
       "  <thead>\n",
       "    <tr style=\"text-align: right;\">\n",
       "      <th></th>\n",
       "      <th>id</th>\n",
       "      <th>f0</th>\n",
       "      <th>f1</th>\n",
       "      <th>f2</th>\n",
       "    </tr>\n",
       "  </thead>\n",
       "  <tbody>\n",
       "    <tr>\n",
       "      <th>27212</th>\n",
       "      <td>88373.0</td>\n",
       "      <td>0.022450</td>\n",
       "      <td>0.951034</td>\n",
       "      <td>2.197333</td>\n",
       "    </tr>\n",
       "    <tr>\n",
       "      <th>7866</th>\n",
       "      <td>81902.0</td>\n",
       "      <td>1.766731</td>\n",
       "      <td>0.007835</td>\n",
       "      <td>6.436602</td>\n",
       "    </tr>\n",
       "    <tr>\n",
       "      <th>62041</th>\n",
       "      <td>36485.0</td>\n",
       "      <td>0.724514</td>\n",
       "      <td>0.666063</td>\n",
       "      <td>1.840177</td>\n",
       "    </tr>\n",
       "    <tr>\n",
       "      <th>70185</th>\n",
       "      <td>74130.0</td>\n",
       "      <td>-1.104181</td>\n",
       "      <td>0.255268</td>\n",
       "      <td>2.026156</td>\n",
       "    </tr>\n",
       "    <tr>\n",
       "      <th>82230</th>\n",
       "      <td>67786.0</td>\n",
       "      <td>-0.635263</td>\n",
       "      <td>0.747990</td>\n",
       "      <td>6.643327</td>\n",
       "    </tr>\n",
       "    <tr>\n",
       "      <th>...</th>\n",
       "      <td>...</td>\n",
       "      <td>...</td>\n",
       "      <td>...</td>\n",
       "      <td>...</td>\n",
       "    </tr>\n",
       "    <tr>\n",
       "      <th>4094</th>\n",
       "      <td>81943.0</td>\n",
       "      <td>1.863680</td>\n",
       "      <td>-0.298123</td>\n",
       "      <td>1.621324</td>\n",
       "    </tr>\n",
       "    <tr>\n",
       "      <th>85412</th>\n",
       "      <td>55257.0</td>\n",
       "      <td>-1.162682</td>\n",
       "      <td>-0.014822</td>\n",
       "      <td>6.819941</td>\n",
       "    </tr>\n",
       "    <tr>\n",
       "      <th>2177</th>\n",
       "      <td>17759.0</td>\n",
       "      <td>0.862688</td>\n",
       "      <td>-0.403776</td>\n",
       "      <td>1.867662</td>\n",
       "    </tr>\n",
       "    <tr>\n",
       "      <th>77285</th>\n",
       "      <td>36623.0</td>\n",
       "      <td>0.846235</td>\n",
       "      <td>-0.489533</td>\n",
       "      <td>1.058786</td>\n",
       "    </tr>\n",
       "    <tr>\n",
       "      <th>86498</th>\n",
       "      <td>84916.0</td>\n",
       "      <td>2.019850</td>\n",
       "      <td>0.263887</td>\n",
       "      <td>11.497239</td>\n",
       "    </tr>\n",
       "  </tbody>\n",
       "</table>\n",
       "<p>75000 rows × 4 columns</p>\n",
       "</div>"
      ],
      "text/plain": [
       "            id        f0        f1         f2\n",
       "27212  88373.0  0.022450  0.951034   2.197333\n",
       "7866   81902.0  1.766731  0.007835   6.436602\n",
       "62041  36485.0  0.724514  0.666063   1.840177\n",
       "70185  74130.0 -1.104181  0.255268   2.026156\n",
       "82230  67786.0 -0.635263  0.747990   6.643327\n",
       "...        ...       ...       ...        ...\n",
       "4094   81943.0  1.863680 -0.298123   1.621324\n",
       "85412  55257.0 -1.162682 -0.014822   6.819941\n",
       "2177   17759.0  0.862688 -0.403776   1.867662\n",
       "77285  36623.0  0.846235 -0.489533   1.058786\n",
       "86498  84916.0  2.019850  0.263887  11.497239\n",
       "\n",
       "[75000 rows x 4 columns]"
      ]
     },
     "execution_count": 31,
     "metadata": {},
     "output_type": "execute_result"
    }
   ],
   "source": [
    "features_train_0"
   ]
  },
  {
   "cell_type": "code",
   "execution_count": 32,
   "metadata": {
    "scrolled": false
   },
   "outputs": [
    {
     "name": "stdout",
     "output_type": "stream",
     "text": [
      "Accuracy del modelo de regresion logistica en el conjunto de entrenamiento 0.2742398416158951\n",
      "Accuracy del modelo de regresion logistica en el conjunto de validacion 0.27993870853903435\n",
      "37.57953931631639\n"
     ]
    }
   ],
   "source": [
    "# Entrenamos al modelo.\n",
    "model_0 = LinearRegression() \n",
    "model_0.fit(features_train_0, target_train_0)\n",
    "score_train = model_0.score(features_train_0, target_train_0)\n",
    "score_valid = model_0.score(features_valid_0, target_valid_0)\n",
    "\n",
    "print('Accuracy del modelo de regresion logistica en el conjunto de entrenamiento', score_train)\n",
    "print('Accuracy del modelo de regresion logistica en el conjunto de validacion', score_valid)\n",
    "\n",
    "predict_0 = model_0.predict(features_valid_0)\n",
    "ecm = mean_squared_error(target_valid_0, predict_0) \n",
    "recm = ecm**0.5\n",
    "print(recm)"
   ]
  },
  {
   "cell_type": "markdown",
   "metadata": {},
   "source": [
    "### modelo sin columna id."
   ]
  },
  {
   "cell_type": "code",
   "execution_count": 33,
   "metadata": {},
   "outputs": [],
   "source": [
    "# Cremoa nuevo DataFrame quitando columna id.\n",
    "data_0_clean = data_0.drop(['id'], axis=1)"
   ]
  },
  {
   "cell_type": "code",
   "execution_count": 34,
   "metadata": {},
   "outputs": [
    {
     "data": {
      "text/html": [
       "<div>\n",
       "<style scoped>\n",
       "    .dataframe tbody tr th:only-of-type {\n",
       "        vertical-align: middle;\n",
       "    }\n",
       "\n",
       "    .dataframe tbody tr th {\n",
       "        vertical-align: top;\n",
       "    }\n",
       "\n",
       "    .dataframe thead th {\n",
       "        text-align: right;\n",
       "    }\n",
       "</style>\n",
       "<table border=\"1\" class=\"dataframe\">\n",
       "  <thead>\n",
       "    <tr style=\"text-align: right;\">\n",
       "      <th></th>\n",
       "      <th>f0</th>\n",
       "      <th>f1</th>\n",
       "      <th>f2</th>\n",
       "      <th>product</th>\n",
       "    </tr>\n",
       "  </thead>\n",
       "  <tbody>\n",
       "    <tr>\n",
       "      <th>0</th>\n",
       "      <td>0.705745</td>\n",
       "      <td>-0.497823</td>\n",
       "      <td>1.221170</td>\n",
       "      <td>105.280062</td>\n",
       "    </tr>\n",
       "    <tr>\n",
       "      <th>1</th>\n",
       "      <td>1.334711</td>\n",
       "      <td>-0.340164</td>\n",
       "      <td>4.365080</td>\n",
       "      <td>73.037750</td>\n",
       "    </tr>\n",
       "    <tr>\n",
       "      <th>2</th>\n",
       "      <td>1.022732</td>\n",
       "      <td>0.151990</td>\n",
       "      <td>1.419926</td>\n",
       "      <td>85.265647</td>\n",
       "    </tr>\n",
       "    <tr>\n",
       "      <th>3</th>\n",
       "      <td>-0.032172</td>\n",
       "      <td>0.139033</td>\n",
       "      <td>2.978566</td>\n",
       "      <td>168.620776</td>\n",
       "    </tr>\n",
       "    <tr>\n",
       "      <th>4</th>\n",
       "      <td>1.988431</td>\n",
       "      <td>0.155413</td>\n",
       "      <td>4.751769</td>\n",
       "      <td>154.036647</td>\n",
       "    </tr>\n",
       "  </tbody>\n",
       "</table>\n",
       "</div>"
      ],
      "text/plain": [
       "         f0        f1        f2     product\n",
       "0  0.705745 -0.497823  1.221170  105.280062\n",
       "1  1.334711 -0.340164  4.365080   73.037750\n",
       "2  1.022732  0.151990  1.419926   85.265647\n",
       "3 -0.032172  0.139033  2.978566  168.620776\n",
       "4  1.988431  0.155413  4.751769  154.036647"
      ]
     },
     "execution_count": 34,
     "metadata": {},
     "output_type": "execute_result"
    }
   ],
   "source": [
    "data_0_clean.head()"
   ]
  },
  {
   "cell_type": "code",
   "execution_count": 35,
   "metadata": {},
   "outputs": [],
   "source": [
    "# Dividimos los datos.\n",
    "features_0 = data_0_clean.drop(['product'], axis=1)\n",
    "target_0 = data_0_clean['product']\n",
    "features_train_0, features_valid_0, target_train_0, target_valid_0 = train_test_split(\n",
    "features_0, target_0, test_size = 0.25, random_state=12345)"
   ]
  },
  {
   "cell_type": "code",
   "execution_count": 36,
   "metadata": {
    "scrolled": true
   },
   "outputs": [
    {
     "data": {
      "text/html": [
       "<div>\n",
       "<style scoped>\n",
       "    .dataframe tbody tr th:only-of-type {\n",
       "        vertical-align: middle;\n",
       "    }\n",
       "\n",
       "    .dataframe tbody tr th {\n",
       "        vertical-align: top;\n",
       "    }\n",
       "\n",
       "    .dataframe thead th {\n",
       "        text-align: right;\n",
       "    }\n",
       "</style>\n",
       "<table border=\"1\" class=\"dataframe\">\n",
       "  <thead>\n",
       "    <tr style=\"text-align: right;\">\n",
       "      <th></th>\n",
       "      <th>f0</th>\n",
       "      <th>f1</th>\n",
       "      <th>f2</th>\n",
       "    </tr>\n",
       "  </thead>\n",
       "  <tbody>\n",
       "    <tr>\n",
       "      <th>27212</th>\n",
       "      <td>0.022450</td>\n",
       "      <td>0.951034</td>\n",
       "      <td>2.197333</td>\n",
       "    </tr>\n",
       "    <tr>\n",
       "      <th>7866</th>\n",
       "      <td>1.766731</td>\n",
       "      <td>0.007835</td>\n",
       "      <td>6.436602</td>\n",
       "    </tr>\n",
       "    <tr>\n",
       "      <th>62041</th>\n",
       "      <td>0.724514</td>\n",
       "      <td>0.666063</td>\n",
       "      <td>1.840177</td>\n",
       "    </tr>\n",
       "    <tr>\n",
       "      <th>70185</th>\n",
       "      <td>-1.104181</td>\n",
       "      <td>0.255268</td>\n",
       "      <td>2.026156</td>\n",
       "    </tr>\n",
       "    <tr>\n",
       "      <th>82230</th>\n",
       "      <td>-0.635263</td>\n",
       "      <td>0.747990</td>\n",
       "      <td>6.643327</td>\n",
       "    </tr>\n",
       "  </tbody>\n",
       "</table>\n",
       "</div>"
      ],
      "text/plain": [
       "             f0        f1        f2\n",
       "27212  0.022450  0.951034  2.197333\n",
       "7866   1.766731  0.007835  6.436602\n",
       "62041  0.724514  0.666063  1.840177\n",
       "70185 -1.104181  0.255268  2.026156\n",
       "82230 -0.635263  0.747990  6.643327"
      ]
     },
     "execution_count": 36,
     "metadata": {},
     "output_type": "execute_result"
    }
   ],
   "source": [
    "features_train_0.head()"
   ]
  },
  {
   "cell_type": "code",
   "execution_count": 37,
   "metadata": {
    "scrolled": false
   },
   "outputs": [
    {
     "name": "stdout",
     "output_type": "stream",
     "text": [
      "Accuracy del modelo de regresion logistica en el conjunto de entrenamiento 0.27423906493940775\n",
      "Accuracy del modelo de regresion logistica en el conjunto de validacion 0.27994321524487786\n",
      "37.5794217150813\n"
     ]
    }
   ],
   "source": [
    "# Entrenamos al modelo.\n",
    "model_0 = LinearRegression() \n",
    "model_0.fit(features_train_0, target_train_0)\n",
    "score_train = model_0.score(features_train_0, target_train_0)\n",
    "score_valid = model_0.score(features_valid_0, target_valid_0)\n",
    "\n",
    "print('Accuracy del modelo de regresion logistica en el conjunto de entrenamiento', score_train)\n",
    "print('Accuracy del modelo de regresion logistica en el conjunto de validacion', score_valid)\n",
    "\n",
    "predict_0 = model_0.predict(features_valid_0)\n",
    "ecm = mean_squared_error(target_valid_0, predict_0) \n",
    "recm = ecm**0.5\n",
    "print(recm)"
   ]
  },
  {
   "cell_type": "markdown",
   "metadata": {},
   "source": [
    "Vemos que los resultados de las metricas son practicamente los mismos con ligeras variaciones que no son significativas por lo que para el entrenamiento de los modelos quitaremos la columna id de todos los DataFrame."
   ]
  },
  {
   "cell_type": "code",
   "execution_count": 38,
   "metadata": {},
   "outputs": [],
   "source": [
    "dfs = [data_0, data_1, data_2]"
   ]
  },
  {
   "cell_type": "code",
   "execution_count": 39,
   "metadata": {},
   "outputs": [],
   "source": [
    "for df in range(len(dfs)):\n",
    "    dfs[df] = dfs[df].drop('id', axis=1)"
   ]
  },
  {
   "cell_type": "code",
   "execution_count": 40,
   "metadata": {},
   "outputs": [
    {
     "data": {
      "text/html": [
       "<div>\n",
       "<style scoped>\n",
       "    .dataframe tbody tr th:only-of-type {\n",
       "        vertical-align: middle;\n",
       "    }\n",
       "\n",
       "    .dataframe tbody tr th {\n",
       "        vertical-align: top;\n",
       "    }\n",
       "\n",
       "    .dataframe thead th {\n",
       "        text-align: right;\n",
       "    }\n",
       "</style>\n",
       "<table border=\"1\" class=\"dataframe\">\n",
       "  <thead>\n",
       "    <tr style=\"text-align: right;\">\n",
       "      <th></th>\n",
       "      <th>f0</th>\n",
       "      <th>f1</th>\n",
       "      <th>f2</th>\n",
       "      <th>product</th>\n",
       "    </tr>\n",
       "  </thead>\n",
       "  <tbody>\n",
       "    <tr>\n",
       "      <th>0</th>\n",
       "      <td>0.705745</td>\n",
       "      <td>-0.497823</td>\n",
       "      <td>1.221170</td>\n",
       "      <td>105.280062</td>\n",
       "    </tr>\n",
       "    <tr>\n",
       "      <th>1</th>\n",
       "      <td>1.334711</td>\n",
       "      <td>-0.340164</td>\n",
       "      <td>4.365080</td>\n",
       "      <td>73.037750</td>\n",
       "    </tr>\n",
       "    <tr>\n",
       "      <th>2</th>\n",
       "      <td>1.022732</td>\n",
       "      <td>0.151990</td>\n",
       "      <td>1.419926</td>\n",
       "      <td>85.265647</td>\n",
       "    </tr>\n",
       "    <tr>\n",
       "      <th>3</th>\n",
       "      <td>-0.032172</td>\n",
       "      <td>0.139033</td>\n",
       "      <td>2.978566</td>\n",
       "      <td>168.620776</td>\n",
       "    </tr>\n",
       "    <tr>\n",
       "      <th>4</th>\n",
       "      <td>1.988431</td>\n",
       "      <td>0.155413</td>\n",
       "      <td>4.751769</td>\n",
       "      <td>154.036647</td>\n",
       "    </tr>\n",
       "  </tbody>\n",
       "</table>\n",
       "</div>"
      ],
      "text/plain": [
       "         f0        f1        f2     product\n",
       "0  0.705745 -0.497823  1.221170  105.280062\n",
       "1  1.334711 -0.340164  4.365080   73.037750\n",
       "2  1.022732  0.151990  1.419926   85.265647\n",
       "3 -0.032172  0.139033  2.978566  168.620776\n",
       "4  1.988431  0.155413  4.751769  154.036647"
      ]
     },
     "execution_count": 40,
     "metadata": {},
     "output_type": "execute_result"
    }
   ],
   "source": [
    "dfs[0].head()"
   ]
  },
  {
   "cell_type": "markdown",
   "metadata": {},
   "source": [
    "### Conclusion.\n",
    "\n",
    "Ya tenemos todos los DataFrame limpios y listos para comenzar a entrenar el modelo, como se nos pidio sera el modelo de Regression Lineal y usaremos un bucle for para hacer la division y entrenamoento de los tres modelos en un solo bloque de codigo."
   ]
  },
  {
   "cell_type": "markdown",
   "metadata": {},
   "source": [
    "## Entrenando al modelo.\n",
    "\n",
    "Los datos se dividirán en 75% entrenamiento y 25% validación. Este proceso se hará para cada Dataframe con los cuales estamos trabajando, tomando nuestros features de las columnas 'f0', 'f1' y 'f2' y nuestro target sera la columna 'product'."
   ]
  },
  {
   "cell_type": "code",
   "execution_count": 41,
   "metadata": {
    "scrolled": true
   },
   "outputs": [
    {
     "name": "stdout",
     "output_type": "stream",
     "text": [
      "Región 0\n",
      "Promedio de las reservas: 92.50000000000001\n",
      "RECM: 37.5794217150813\n",
      "\n",
      "Región 1\n",
      "Promedio de las reservas: 68.82500000000002\n",
      "RECM: 0.889736773768065\n",
      "\n",
      "Región 2\n",
      "Promedio de las reservas: 95.00000000000004\n",
      "RECM: 39.958042459521614\n",
      "\n"
     ]
    }
   ],
   "source": [
    "rs = RandomState(12345) # fijamos una semilla\n",
    "\n",
    "targets = [] # se almacenan target de validación\n",
    "preds = [] # se almcenan predicciones \n",
    "\n",
    "for i in range(len(dfs)):\n",
    "    df_train, df_valid = train_test_split(dfs[i], test_size=0.25, random_state=rs) # dividmos los datos, creamos targets y features.\n",
    "    features_train = df_train.drop(['product'], axis=1) \n",
    "    target_train = df_train['product'] \n",
    "    features_valid = df_valid.drop(['product'], axis=1) \n",
    "    target_valid = df_valid['product'] \n",
    "    \n",
    "    reg = LinearRegression() \n",
    "    reg.fit(features_train, target_train) # entrenamos el modelo\n",
    "\n",
    "    predicted = reg.predict(features_valid) # hacemos predicciones \n",
    "    ecm = mean_squared_error(target_valid, predicted) \n",
    "    recm = ecm**0.5 # Calculamos el RECM\n",
    "    mean = dfs[i]['product'].mean() # Calculamos el promedio de produccion\n",
    "    \n",
    "    \n",
    "    targets.append(target_valid.reset_index(drop=True))# Agregamos las informaciones a las listas\n",
    "    preds.append(pd.Series(predicted))\n",
    "    \n",
    "    print('Región', i)\n",
    "    print('Promedio de las reservas:', mean)\n",
    "    print('RECM:', recm)\n",
    "    print()"
   ]
  },
  {
   "cell_type": "markdown",
   "metadata": {},
   "source": [
    "### Conclusion.\n",
    "\n",
    "Tenemos el modelo de la region 1 con los mejores resultados con un RECM muy bajo comparado con las regiones 1 y 2 tambien observamos que el promedio de las reservas es mas bajo que el de estas dos regiones, resulta muy extraño tener resultados tan diferentes, por lo pronto seguiremos con el calculo de ganancias."
   ]
  },
  {
   "cell_type": "markdown",
   "metadata": {},
   "source": [
    "## Calculo de ganancias.\n",
    "\n",
    "Vamos a guardar nuestras variables que fueron proporcionadas, calcularemos la produccion minima para no tener pozos con perdidas y calcularemos la media de produccion en cada region."
   ]
  },
  {
   "cell_type": "code",
   "execution_count": 50,
   "metadata": {},
   "outputs": [],
   "source": [
    "# Guardamos las variables, Variables \n",
    "cost_per_well = 100000000/200 # presupuesto por cada pozo\n",
    "income_per_well = 4500 # ingreso por unidad de producto\n",
    "risk = 0.025 # riesgo de perdida de 2.5%\n",
    "\n",
    "# ordenamos los valores y obtenemos media de produccion de cada region\n",
    "product_0 = data_0.loc[:,'product'].sort_values(ascending=False)\n",
    "mean_0 = product_0.mean()\n",
    "\n",
    "\n",
    "product_1 = data_1.loc[:,'product'].sort_values(ascending=False)\n",
    "mean_1 = product_1.mean()\n",
    "\n",
    "\n",
    "product_2 = data_2.loc[:,'product'].sort_values(ascending=False)\n",
    "mean_2 = product_2.mean()"
   ]
  },
  {
   "cell_type": "code",
   "execution_count": 51,
   "metadata": {},
   "outputs": [
    {
     "name": "stdout",
     "output_type": "stream",
     "text": [
      "Cantidad de producto para no generar perdidas: 111.11111111111111\n",
      "\n",
      "Producto promedio región 0: 92.50000000000001\n",
      "Producto promedio región 1: 68.825\n",
      "Producto promedio región 2: 95.0\n"
     ]
    }
   ],
   "source": [
    "print('Cantidad de producto para no generar perdidas:', cost_per_well/income_per_well)\n",
    "print()\n",
    "print('Producto promedio región 0:', mean_0)\n",
    "print('Producto promedio región 1:', mean_1)\n",
    "print('Producto promedio región 2:', mean_2)"
   ]
  },
  {
   "cell_type": "markdown",
   "metadata": {},
   "source": [
    "Vemos que ninguna region genera en promedio la cantidad necesaria para no generar perdidas necesitamos saber si existen pozos en cada region que cumplan con la produccion necesaria."
   ]
  },
  {
   "cell_type": "code",
   "execution_count": 53,
   "metadata": {},
   "outputs": [
    {
     "name": "stdout",
     "output_type": "stream",
     "text": [
      "Mejores pozos en región 0:\n",
      "8826     185.364347\n",
      "99818    185.362690\n",
      "94175    185.355615\n",
      "1925     185.354980\n",
      "45291    185.352015\n",
      "Name: product, dtype: float64\n",
      "\n",
      "Mejores pozos en región 1:\n",
      "53864    137.945408\n",
      "97083    137.945408\n",
      "88340    137.945408\n",
      "64879    137.945408\n",
      "7288     137.945408\n",
      "Name: product, dtype: float64\n",
      "\n",
      "Mejores pozos en región 1:\n",
      "79705    190.029838\n",
      "93444    190.013589\n",
      "35099    190.011722\n",
      "21943    190.010982\n",
      "37870    190.010029\n",
      "Name: product, dtype: float64\n",
      "\n"
     ]
    }
   ],
   "source": [
    "# Mostramos los prieros registros ordenados de la produccion.\n",
    "print('Mejores pozos en región 0:')\n",
    "print(product_0.head())\n",
    "print()\n",
    "print('Mejores pozos en región 1:')\n",
    "print(product_1.head())\n",
    "print()\n",
    "print('Mejores pozos en región 1:')\n",
    "print(product_2.head())\n",
    "print()"
   ]
  },
  {
   "cell_type": "markdown",
   "metadata": {},
   "source": [
    "Si tenemos pozos en las tres regiones que cumplen con la produccion necesaria y vemos que el promedio de la region 1 es el mismo en los cinco pozos que mostramos talvez por eso el modelo funciono tan bien en esta region en particular."
   ]
  },
  {
   "cell_type": "markdown",
   "metadata": {},
   "source": [
    "### Funcion para calculo de ganancias.\n",
    "\n",
    "Vamos a seleccionar los mejores 200 pozos en cada region calcularemos sus ganancias, el porcentaje de perdida y el intervalo de confianza, para eso usaremos los parametros que se nos solicitan usando 1000 muestras de bootstrapping."
   ]
  },
  {
   "cell_type": "code",
   "execution_count": 54,
   "metadata": {},
   "outputs": [],
   "source": [
    "# Definimos la funcion para el calculo de ganancias.\n",
    "def revenue(target, product, count):\n",
    "    product_sorted = product.sort_values(ascending=False) \n",
    "    selected = target[product_sorted.index][:count] \n",
    "    return 4500 *sum(selected)-100000000"
   ]
  },
  {
   "cell_type": "code",
   "execution_count": 61,
   "metadata": {},
   "outputs": [
    {
     "name": "stdout",
     "output_type": "stream",
     "text": [
      "Región 0\n",
      "Promedio de ganancias: 4162890.9229957634\n",
      "Riesgo de perdida: 7.3%\n",
      "Rango de confianza desde -1655595.9635828945 hasta 9774004.936984124\n",
      "\n",
      "Región 1\n",
      "Promedio de ganancias: 5010298.289157128\n",
      "Riesgo de perdida: 1.2%\n",
      "Rango de confianza desde 623344.679106499 hasta 9357600.749571417\n",
      "\n",
      "Región 2\n",
      "Promedio de ganancias: 3912838.7342902496\n",
      "Riesgo de perdida: 8.5%\n",
      "Rango de confianza desde -1557765.9248545754 hasta 9202251.445885437\n",
      "\n"
     ]
    }
   ],
   "source": [
    "# Aplicamos la funcion en bucle a los 200 pozos con mejor produccion en cada region.\n",
    "num_bootstrap = 1000\n",
    "n = 0\n",
    "for tar, pred in zip(targets, preds):\n",
    "    profits = []\n",
    "    for i in range(num_bootstrap):\n",
    "        target_subsample = pd.Series(tar).sample(n=500, replace=True, random_state=rs) # usamos la misma semilla que determinamos antes.\n",
    "        pred_subsample = pred[target_subsample.index]\n",
    "        profits.append(revenue(target_subsample, pred_subsample, 200))\n",
    "   \n",
    "    # calculamos la media de las ganancias\n",
    "    profits = pd.Series(profits)\n",
    "    mean = profits.mean()\n",
    "    # calculaos intervalos de confianza\n",
    "    trust_down = profits.quantile(0.025)\n",
    "    trust_up = profits.quantile(0.975)\n",
    "    #calcular la media de los datos negativos de la serie\n",
    "    loss = (profits < 0).mean()\n",
    "    \n",
    "    print('Región', n)\n",
    "    print('Promedio de ganancias:', mean)\n",
    "    print('Riesgo de perdida:', (loss * 100).astype(str) + '%')\n",
    "    print('Rango de confianza desde', trust_down, 'hasta', trust_up)\n",
    "    print()\n",
    "    n += 1"
   ]
  },
  {
   "cell_type": "markdown",
   "metadata": {},
   "source": [
    "## Conclusion general.\n",
    "\n",
    "Despues de realizar las pruebas con los datos que se nos solicitan sabemos que el mejor lugar para realizar una inversion en excavacion de pozos petroleros es la region 1, comenzando con los resultados de RECM al momento de la prediccion de los modelos la cual fue muy baja y nos daba buenos primeros indicios y con los ultimos calculos se expresa de manera clara ya que es el que genera la mayor cantidad de ganancias promedio y el menor porcentaje de perdida, agregando que la region que da las menores ganancias y mayores perdidas es la region 3 y dicha region tambien obtuvo el resultado RECM mas alto."
   ]
  }
 ],
 "metadata": {
  "kernelspec": {
   "display_name": "Python 3 (ipykernel)",
   "language": "python",
   "name": "python3"
  },
  "language_info": {
   "codemirror_mode": {
    "name": "ipython",
    "version": 3
   },
   "file_extension": ".py",
   "mimetype": "text/x-python",
   "name": "python",
   "nbconvert_exporter": "python",
   "pygments_lexer": "ipython3",
   "version": "3.9.13"
  },
  "toc": {
   "base_numbering": 1,
   "nav_menu": {},
   "number_sections": true,
   "sideBar": true,
   "skip_h1_title": true,
   "title_cell": "Table of Contents",
   "title_sidebar": "Contents",
   "toc_cell": false,
   "toc_position": {},
   "toc_section_display": true,
   "toc_window_display": true
  }
 },
 "nbformat": 4,
 "nbformat_minor": 2
}
